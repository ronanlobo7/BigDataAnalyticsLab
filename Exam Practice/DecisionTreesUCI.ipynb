{
  "nbformat": 4,
  "nbformat_minor": 0,
  "metadata": {
    "colab": {
      "provenance": []
    },
    "kernelspec": {
      "name": "python3",
      "display_name": "Python 3"
    },
    "language_info": {
      "name": "python"
    }
  },
  "cells": [
    {
      "cell_type": "code",
      "execution_count": null,
      "metadata": {
        "colab": {
          "base_uri": "https://localhost:8080/"
        },
        "id": "QfBuVzWeqlfx",
        "outputId": "8157719e-f324-4ca1-9799-87be1e6ed4df"
      },
      "outputs": [
        {
          "output_type": "stream",
          "name": "stdout",
          "text": [
            "Collecting pyspark\n",
            "  Downloading pyspark-3.5.1.tar.gz (317.0 MB)\n",
            "\u001b[2K     \u001b[90m━━━━━━━━━━━━━━━━━━━━━━━━━━━━━━━━━━━━━━━━\u001b[0m \u001b[32m317.0/317.0 MB\u001b[0m \u001b[31m2.7 MB/s\u001b[0m eta \u001b[36m0:00:00\u001b[0m\n",
            "\u001b[?25h  Preparing metadata (setup.py) ... \u001b[?25l\u001b[?25hdone\n",
            "Requirement already satisfied: py4j==0.10.9.7 in /usr/local/lib/python3.10/dist-packages (from pyspark) (0.10.9.7)\n",
            "Building wheels for collected packages: pyspark\n",
            "  Building wheel for pyspark (setup.py) ... \u001b[?25l\u001b[?25hdone\n",
            "  Created wheel for pyspark: filename=pyspark-3.5.1-py2.py3-none-any.whl size=317488491 sha256=150c9510048e2f70916202bf8527313b66627bc87177efec33f2d52edafa7570\n",
            "  Stored in directory: /root/.cache/pip/wheels/80/1d/60/2c256ed38dddce2fdd93be545214a63e02fbd8d74fb0b7f3a6\n",
            "Successfully built pyspark\n",
            "Installing collected packages: pyspark\n",
            "Successfully installed pyspark-3.5.1\n"
          ]
        }
      ],
      "source": [
        "!pip install pyspark"
      ]
    },
    {
      "cell_type": "code",
      "source": [
        "!wget https://archive.ics.uci.edu/static/public/2/adult.zip"
      ],
      "metadata": {
        "colab": {
          "base_uri": "https://localhost:8080/"
        },
        "id": "rA-BTnNvq_g4",
        "outputId": "5212b573-137a-4aaa-97ca-31683836e0fc"
      },
      "execution_count": null,
      "outputs": [
        {
          "output_type": "stream",
          "name": "stdout",
          "text": [
            "--2024-04-11 11:04:43--  https://archive.ics.uci.edu/static/public/2/adult.zip\n",
            "Resolving archive.ics.uci.edu (archive.ics.uci.edu)... 128.195.10.252\n",
            "Connecting to archive.ics.uci.edu (archive.ics.uci.edu)|128.195.10.252|:443... connected.\n",
            "HTTP request sent, awaiting response... 200 OK\n",
            "Length: unspecified\n",
            "Saving to: ‘adult.zip’\n",
            "\n",
            "adult.zip               [  <=>               ] 605.70K  1.86MB/s    in 0.3s    \n",
            "\n",
            "2024-04-11 11:04:44 (1.86 MB/s) - ‘adult.zip’ saved [620237]\n",
            "\n"
          ]
        }
      ]
    },
    {
      "cell_type": "code",
      "source": [
        "!unzip -q adult.zip"
      ],
      "metadata": {
        "id": "VfrHjgpYrZKz"
      },
      "execution_count": null,
      "outputs": []
    },
    {
      "cell_type": "markdown",
      "source": [
        "## Import Libraries"
      ],
      "metadata": {
        "id": "0AP84v3V3Ieu"
      }
    },
    {
      "cell_type": "code",
      "source": [
        "import pyspark\n",
        "from pyspark import SparkContext\n",
        "from pyspark.sql import SparkSession"
      ],
      "metadata": {
        "id": "oN6dahJhrmAP"
      },
      "execution_count": null,
      "outputs": []
    },
    {
      "cell_type": "markdown",
      "source": [
        "## Creat SparkSession"
      ],
      "metadata": {
        "id": "71FdKQl43M4F"
      }
    },
    {
      "cell_type": "code",
      "source": [
        "spark = SparkSession.builder.appName('Decision Trees UCI').getOrCreate()"
      ],
      "metadata": {
        "id": "jm9-tmZVrt4j"
      },
      "execution_count": null,
      "outputs": []
    },
    {
      "cell_type": "markdown",
      "source": [
        "## Read The Dataset"
      ],
      "metadata": {
        "id": "6hF61vg33Px_"
      }
    },
    {
      "cell_type": "code",
      "source": [
        "df = spark.read.csv('adult.data', header='False', inferSchema='True')\n",
        "\n",
        "df.show(5)"
      ],
      "metadata": {
        "colab": {
          "base_uri": "https://localhost:8080/"
        },
        "id": "ucdrMuJmr1Rh",
        "outputId": "357b98c2-5b41-4b97-f8cb-0419ae43e777"
      },
      "execution_count": null,
      "outputs": [
        {
          "output_type": "stream",
          "name": "stdout",
          "text": [
            "+---+-----------------+--------+----------+----+-------------------+------------------+--------------+------+-------+------+----+----+--------------+------+\n",
            "|_c0|              _c1|     _c2|       _c3| _c4|                _c5|               _c6|           _c7|   _c8|    _c9|  _c10|_c11|_c12|          _c13|  _c14|\n",
            "+---+-----------------+--------+----------+----+-------------------+------------------+--------------+------+-------+------+----+----+--------------+------+\n",
            "| 39|        State-gov| 77516.0| Bachelors|13.0|      Never-married|      Adm-clerical| Not-in-family| White|   Male|2174.0| 0.0|40.0| United-States| <=50K|\n",
            "| 50| Self-emp-not-inc| 83311.0| Bachelors|13.0| Married-civ-spouse|   Exec-managerial|       Husband| White|   Male|   0.0| 0.0|13.0| United-States| <=50K|\n",
            "| 38|          Private|215646.0|   HS-grad| 9.0|           Divorced| Handlers-cleaners| Not-in-family| White|   Male|   0.0| 0.0|40.0| United-States| <=50K|\n",
            "| 53|          Private|234721.0|      11th| 7.0| Married-civ-spouse| Handlers-cleaners|       Husband| Black|   Male|   0.0| 0.0|40.0| United-States| <=50K|\n",
            "| 28|          Private|338409.0| Bachelors|13.0| Married-civ-spouse|    Prof-specialty|          Wife| Black| Female|   0.0| 0.0|40.0|          Cuba| <=50K|\n",
            "+---+-----------------+--------+----------+----+-------------------+------------------+--------------+------+-------+------+----+----+--------------+------+\n",
            "only showing top 5 rows\n",
            "\n"
          ]
        }
      ]
    },
    {
      "cell_type": "code",
      "source": [
        "print('Number of data points: ', df.count())"
      ],
      "metadata": {
        "colab": {
          "base_uri": "https://localhost:8080/"
        },
        "id": "aC52n8q-uGcY",
        "outputId": "a52090f4-98de-44ae-ca56-ed6c57bc7677"
      },
      "execution_count": null,
      "outputs": [
        {
          "output_type": "stream",
          "name": "stdout",
          "text": [
            "Number of data points:  32561\n"
          ]
        }
      ]
    },
    {
      "cell_type": "code",
      "source": [
        "column_names = [\n",
        "    'age', 'workclass', 'fnlwgt', 'education', 'education-num',\n",
        "    'marital-status', 'occupation', 'relationship', 'race', 'sex',\n",
        "    'capital-gain', 'capital-loss', 'hours-per-week', 'native-country', 'income'\n",
        "]\n",
        "\n",
        "df = df.toDF(*column_names)\n",
        "\n",
        "df.show(5)"
      ],
      "metadata": {
        "colab": {
          "base_uri": "https://localhost:8080/"
        },
        "id": "rMmkuucisn5g",
        "outputId": "69e4a64e-e446-4d76-e14b-1fd7426fefb7"
      },
      "execution_count": null,
      "outputs": [
        {
          "output_type": "stream",
          "name": "stdout",
          "text": [
            "+---+-----------------+--------+----------+-------------+-------------------+------------------+--------------+------+-------+------------+------------+--------------+--------------+------+\n",
            "|age|        workclass|  fnlwgt| education|education-num|     marital-status|        occupation|  relationship|  race|    sex|capital-gain|capital-loss|hours-per-week|native-country|income|\n",
            "+---+-----------------+--------+----------+-------------+-------------------+------------------+--------------+------+-------+------------+------------+--------------+--------------+------+\n",
            "| 39|        State-gov| 77516.0| Bachelors|         13.0|      Never-married|      Adm-clerical| Not-in-family| White|   Male|      2174.0|         0.0|          40.0| United-States| <=50K|\n",
            "| 50| Self-emp-not-inc| 83311.0| Bachelors|         13.0| Married-civ-spouse|   Exec-managerial|       Husband| White|   Male|         0.0|         0.0|          13.0| United-States| <=50K|\n",
            "| 38|          Private|215646.0|   HS-grad|          9.0|           Divorced| Handlers-cleaners| Not-in-family| White|   Male|         0.0|         0.0|          40.0| United-States| <=50K|\n",
            "| 53|          Private|234721.0|      11th|          7.0| Married-civ-spouse| Handlers-cleaners|       Husband| Black|   Male|         0.0|         0.0|          40.0| United-States| <=50K|\n",
            "| 28|          Private|338409.0| Bachelors|         13.0| Married-civ-spouse|    Prof-specialty|          Wife| Black| Female|         0.0|         0.0|          40.0|          Cuba| <=50K|\n",
            "+---+-----------------+--------+----------+-------------+-------------------+------------------+--------------+------+-------+------------+------------+--------------+--------------+------+\n",
            "only showing top 5 rows\n",
            "\n"
          ]
        }
      ]
    },
    {
      "cell_type": "markdown",
      "source": [
        "## Convert String Features to Integer Features"
      ],
      "metadata": {
        "id": "QT8imrfa3W6v"
      }
    },
    {
      "cell_type": "code",
      "source": [
        "df.printSchema()"
      ],
      "metadata": {
        "colab": {
          "base_uri": "https://localhost:8080/"
        },
        "id": "G9zDFh4Ktnlg",
        "outputId": "aa25ff4d-7525-4276-99ee-30fd1479bb97"
      },
      "execution_count": null,
      "outputs": [
        {
          "output_type": "stream",
          "name": "stdout",
          "text": [
            "root\n",
            " |-- age: integer (nullable = true)\n",
            " |-- workclass: string (nullable = true)\n",
            " |-- fnlwgt: double (nullable = true)\n",
            " |-- education: string (nullable = true)\n",
            " |-- education-num: double (nullable = true)\n",
            " |-- marital-status: string (nullable = true)\n",
            " |-- occupation: string (nullable = true)\n",
            " |-- relationship: string (nullable = true)\n",
            " |-- race: string (nullable = true)\n",
            " |-- sex: string (nullable = true)\n",
            " |-- capital-gain: double (nullable = true)\n",
            " |-- capital-loss: double (nullable = true)\n",
            " |-- hours-per-week: double (nullable = true)\n",
            " |-- native-country: string (nullable = true)\n",
            " |-- income: string (nullable = true)\n",
            "\n"
          ]
        }
      ]
    },
    {
      "cell_type": "code",
      "source": [
        "from pyspark.sql.types import StringType\n",
        "\n",
        "all_cols = df.schema.fields\n",
        "\n",
        "string_cols = [col.name for col in all_cols if col.dataType == StringType()]\n",
        "\n",
        "print(string_cols)"
      ],
      "metadata": {
        "colab": {
          "base_uri": "https://localhost:8080/"
        },
        "id": "ovKpC8B-uxWd",
        "outputId": "ddc9fb6a-5e06-484d-ed49-3bf83727d974"
      },
      "execution_count": null,
      "outputs": [
        {
          "output_type": "stream",
          "name": "stdout",
          "text": [
            "['workclass', 'education', 'marital-status', 'occupation', 'relationship', 'race', 'sex', 'native-country', 'income']\n"
          ]
        }
      ]
    },
    {
      "cell_type": "code",
      "source": [
        "from pyspark.ml.feature import StringIndexer\n",
        "from pyspark.ml import Pipeline\n",
        "\n",
        "indexers = [\n",
        "    StringIndexer(inputCol=col, outputCol=col+'_index')\n",
        "    for col in string_cols\n",
        "]\n",
        "\n",
        "pipeline = Pipeline(stages=indexers)\n",
        "\n",
        "pipeline_model = pipeline.fit(df)"
      ],
      "metadata": {
        "id": "ruprYV6-vTQ4"
      },
      "execution_count": null,
      "outputs": []
    },
    {
      "cell_type": "code",
      "source": [
        "df = pipeline_model.transform(df)\n",
        "\n",
        "df.show(5)"
      ],
      "metadata": {
        "colab": {
          "base_uri": "https://localhost:8080/"
        },
        "id": "7cPG8xS8wpoM",
        "outputId": "09b9178b-20d8-4c19-f3b0-ed3200c55305"
      },
      "execution_count": null,
      "outputs": [
        {
          "output_type": "stream",
          "name": "stdout",
          "text": [
            "+---+-----------------+--------+----------+-------------+-------------------+------------------+--------------+------+-------+------------+------------+--------------+--------------+------+---------------+---------------+--------------------+----------------+------------------+----------+---------+--------------------+------------+\n",
            "|age|        workclass|  fnlwgt| education|education-num|     marital-status|        occupation|  relationship|  race|    sex|capital-gain|capital-loss|hours-per-week|native-country|income|workclass_index|education_index|marital-status_index|occupation_index|relationship_index|race_index|sex_index|native-country_index|income_index|\n",
            "+---+-----------------+--------+----------+-------------+-------------------+------------------+--------------+------+-------+------------+------------+--------------+--------------+------+---------------+---------------+--------------------+----------------+------------------+----------+---------+--------------------+------------+\n",
            "| 39|        State-gov| 77516.0| Bachelors|         13.0|      Never-married|      Adm-clerical| Not-in-family| White|   Male|      2174.0|         0.0|          40.0| United-States| <=50K|            4.0|            2.0|                 1.0|             3.0|               1.0|       0.0|      0.0|                 0.0|         0.0|\n",
            "| 50| Self-emp-not-inc| 83311.0| Bachelors|         13.0| Married-civ-spouse|   Exec-managerial|       Husband| White|   Male|         0.0|         0.0|          13.0| United-States| <=50K|            1.0|            2.0|                 0.0|             2.0|               0.0|       0.0|      0.0|                 0.0|         0.0|\n",
            "| 38|          Private|215646.0|   HS-grad|          9.0|           Divorced| Handlers-cleaners| Not-in-family| White|   Male|         0.0|         0.0|          40.0| United-States| <=50K|            0.0|            0.0|                 2.0|             9.0|               1.0|       0.0|      0.0|                 0.0|         0.0|\n",
            "| 53|          Private|234721.0|      11th|          7.0| Married-civ-spouse| Handlers-cleaners|       Husband| Black|   Male|         0.0|         0.0|          40.0| United-States| <=50K|            0.0|            5.0|                 0.0|             9.0|               0.0|       1.0|      0.0|                 0.0|         0.0|\n",
            "| 28|          Private|338409.0| Bachelors|         13.0| Married-civ-spouse|    Prof-specialty|          Wife| Black| Female|         0.0|         0.0|          40.0|          Cuba| <=50K|            0.0|            2.0|                 0.0|             0.0|               4.0|       1.0|      1.0|                 9.0|         0.0|\n",
            "+---+-----------------+--------+----------+-------------+-------------------+------------------+--------------+------+-------+------------+------------+--------------+--------------+------+---------------+---------------+--------------------+----------------+------------------+----------+---------+--------------------+------------+\n",
            "only showing top 5 rows\n",
            "\n"
          ]
        }
      ]
    },
    {
      "cell_type": "code",
      "source": [
        "columns = [col if col not in string_cols else col+'_index' for col in column_names]\n",
        "\n",
        "print(columns)"
      ],
      "metadata": {
        "colab": {
          "base_uri": "https://localhost:8080/"
        },
        "id": "_vxob5nLw2kw",
        "outputId": "98b905eb-8dde-4851-c146-bcbd971b8f2a"
      },
      "execution_count": null,
      "outputs": [
        {
          "output_type": "stream",
          "name": "stdout",
          "text": [
            "['age', 'workclass_index', 'fnlwgt', 'education_index', 'education-num', 'marital-status_index', 'occupation_index', 'relationship_index', 'race_index', 'sex_index', 'capital-gain', 'capital-loss', 'hours-per-week', 'native-country_index', 'income_index']\n"
          ]
        }
      ]
    },
    {
      "cell_type": "code",
      "source": [
        "df = df.select(*columns)\n",
        "\n",
        "df.show(5)"
      ],
      "metadata": {
        "colab": {
          "base_uri": "https://localhost:8080/"
        },
        "id": "0Q5bJcHgw2se",
        "outputId": "1278bede-9e2c-49b2-8e8d-85c52979f021"
      },
      "execution_count": null,
      "outputs": [
        {
          "output_type": "stream",
          "name": "stdout",
          "text": [
            "+---+---------------+--------+---------------+-------------+--------------------+----------------+------------------+----------+---------+------------+------------+--------------+--------------------+------------+\n",
            "|age|workclass_index|  fnlwgt|education_index|education-num|marital-status_index|occupation_index|relationship_index|race_index|sex_index|capital-gain|capital-loss|hours-per-week|native-country_index|income_index|\n",
            "+---+---------------+--------+---------------+-------------+--------------------+----------------+------------------+----------+---------+------------+------------+--------------+--------------------+------------+\n",
            "| 39|            4.0| 77516.0|            2.0|         13.0|                 1.0|             3.0|               1.0|       0.0|      0.0|      2174.0|         0.0|          40.0|                 0.0|         0.0|\n",
            "| 50|            1.0| 83311.0|            2.0|         13.0|                 0.0|             2.0|               0.0|       0.0|      0.0|         0.0|         0.0|          13.0|                 0.0|         0.0|\n",
            "| 38|            0.0|215646.0|            0.0|          9.0|                 2.0|             9.0|               1.0|       0.0|      0.0|         0.0|         0.0|          40.0|                 0.0|         0.0|\n",
            "| 53|            0.0|234721.0|            5.0|          7.0|                 0.0|             9.0|               0.0|       1.0|      0.0|         0.0|         0.0|          40.0|                 0.0|         0.0|\n",
            "| 28|            0.0|338409.0|            2.0|         13.0|                 0.0|             0.0|               4.0|       1.0|      1.0|         0.0|         0.0|          40.0|                 9.0|         0.0|\n",
            "+---+---------------+--------+---------------+-------------+--------------------+----------------+------------------+----------+---------+------------+------------+--------------+--------------------+------------+\n",
            "only showing top 5 rows\n",
            "\n"
          ]
        }
      ]
    },
    {
      "cell_type": "markdown",
      "source": [
        "## Create a single Feature Vector"
      ],
      "metadata": {
        "id": "EcVw_2mM3hNF"
      }
    },
    {
      "cell_type": "code",
      "source": [
        "from pyspark.ml.feature import VectorAssembler\n",
        "\n",
        "input_cols = columns[:-1]\n",
        "\n",
        "vector_assembler = VectorAssembler(inputCols=input_cols, outputCol='featureVector')\n",
        "df = vector_assembler.transform(df)\n",
        "\n",
        "df.select('featureVector').show(5)"
      ],
      "metadata": {
        "colab": {
          "base_uri": "https://localhost:8080/"
        },
        "id": "cFRTK75cuExV",
        "outputId": "7b5fd5a4-9698-4718-f5e4-83cb73901a44"
      },
      "execution_count": null,
      "outputs": [
        {
          "output_type": "stream",
          "name": "stdout",
          "text": [
            "+--------------------+\n",
            "|       featureVector|\n",
            "+--------------------+\n",
            "|[39.0,4.0,77516.0...|\n",
            "|(14,[0,1,2,3,4,6,...|\n",
            "|(14,[0,2,4,5,6,7,...|\n",
            "|(14,[0,2,3,4,6,8,...|\n",
            "|[28.0,0.0,338409....|\n",
            "+--------------------+\n",
            "only showing top 5 rows\n",
            "\n"
          ]
        }
      ]
    },
    {
      "cell_type": "markdown",
      "source": [
        "## Split to Training and Testing"
      ],
      "metadata": {
        "id": "5xyW-ZdO3lXa"
      }
    },
    {
      "cell_type": "code",
      "source": [
        "train_df, test_df = df.randomSplit([0.8, 0.2])"
      ],
      "metadata": {
        "id": "qR_u1oJyt75K"
      },
      "execution_count": null,
      "outputs": []
    },
    {
      "cell_type": "markdown",
      "source": [
        "## Decision Trees"
      ],
      "metadata": {
        "id": "9mxEUjGH3odh"
      }
    },
    {
      "cell_type": "code",
      "source": [
        "from pyspark.ml.classification import DecisionTreeClassifier\n",
        "\n",
        "classifier = DecisionTreeClassifier(\n",
        "    labelCol='income_index',\n",
        "    featuresCol='featureVector',\n",
        "    predictionCol='prediction',\n",
        "    maxBins=50\n",
        ")\n",
        "\n",
        "model = classifier.fit(train_df)"
      ],
      "metadata": {
        "id": "bpeWJJjUyEus"
      },
      "execution_count": null,
      "outputs": []
    },
    {
      "cell_type": "code",
      "source": [
        "print(model.toDebugString)"
      ],
      "metadata": {
        "colab": {
          "base_uri": "https://localhost:8080/"
        },
        "id": "qE8_Nl8tyjy4",
        "outputId": "6ae2edc6-6142-43fd-8bb7-81280ca0c691"
      },
      "execution_count": null,
      "outputs": [
        {
          "output_type": "stream",
          "name": "stdout",
          "text": [
            "DecisionTreeClassificationModel: uid=DecisionTreeClassifier_b69c48c4a496, depth=5, numNodes=31, numClasses=2, numFeatures=14\n",
            "  If (feature 5 in {1.0,2.0,3.0,4.0,5.0,6.0})\n",
            "   If (feature 10 <= 7073.5)\n",
            "    If (feature 4 <= 12.5)\n",
            "     If (feature 11 <= 2100.0)\n",
            "      Predict: 0.0\n",
            "     Else (feature 11 > 2100.0)\n",
            "      If (feature 9 in {1.0})\n",
            "       Predict: 0.0\n",
            "      Else (feature 9 not in {1.0})\n",
            "       Predict: 1.0\n",
            "    Else (feature 4 > 12.5)\n",
            "     Predict: 0.0\n",
            "   Else (feature 10 > 7073.5)\n",
            "    If (feature 0 <= 20.5)\n",
            "     Predict: 0.0\n",
            "    Else (feature 0 > 20.5)\n",
            "     If (feature 6 in {9.0})\n",
            "      Predict: 0.0\n",
            "     Else (feature 6 not in {9.0})\n",
            "      Predict: 1.0\n",
            "  Else (feature 5 not in {1.0,2.0,3.0,4.0,5.0,6.0})\n",
            "   If (feature 4 <= 12.5)\n",
            "    If (feature 10 <= 7073.5)\n",
            "     If (feature 3 in {5.0,7.0,8.0,10.0,11.0,13.0,14.0,15.0})\n",
            "      Predict: 0.0\n",
            "     Else (feature 3 not in {5.0,7.0,8.0,10.0,11.0,13.0,14.0,15.0})\n",
            "      If (feature 11 <= 1740.5)\n",
            "       Predict: 0.0\n",
            "      Else (feature 11 > 1740.5)\n",
            "       Predict: 1.0\n",
            "    Else (feature 10 > 7073.5)\n",
            "     If (feature 3 in {15.0})\n",
            "      Predict: 0.0\n",
            "     Else (feature 3 not in {15.0})\n",
            "      Predict: 1.0\n",
            "   Else (feature 4 > 12.5)\n",
            "    If (feature 10 <= 7073.5)\n",
            "     Predict: 1.0\n",
            "    Else (feature 10 > 7073.5)\n",
            "     If (feature 6 in {6.0,9.0,10.0})\n",
            "      If (feature 1 in {1.0})\n",
            "       Predict: 0.0\n",
            "      Else (feature 1 not in {1.0})\n",
            "       Predict: 1.0\n",
            "     Else (feature 6 not in {6.0,9.0,10.0})\n",
            "      Predict: 1.0\n",
            "\n"
          ]
        }
      ]
    },
    {
      "cell_type": "code",
      "source": [
        "import pandas as pd\n",
        "\n",
        "pd.DataFrame(\n",
        "    model.featureImportances.toArray(),\n",
        "    index=input_cols,\n",
        "    columns=['importance']\n",
        ").sort_values(by='importance', ascending=False)"
      ],
      "metadata": {
        "colab": {
          "base_uri": "https://localhost:8080/",
          "height": 488
        },
        "id": "H2VyrV4-y12h",
        "outputId": "4e13a308-37dd-4c65-cae6-4a92f463a2f8"
      },
      "execution_count": null,
      "outputs": [
        {
          "output_type": "execute_result",
          "data": {
            "text/plain": [
              "                      importance\n",
              "marital-status_index    0.493159\n",
              "education-num           0.225426\n",
              "capital-gain            0.213097\n",
              "education_index         0.032795\n",
              "capital-loss            0.031665\n",
              "age                     0.001484\n",
              "sex_index               0.001344\n",
              "occupation_index        0.000588\n",
              "workclass_index         0.000442\n",
              "fnlwgt                  0.000000\n",
              "relationship_index      0.000000\n",
              "race_index              0.000000\n",
              "hours-per-week          0.000000\n",
              "native-country_index    0.000000"
            ],
            "text/html": [
              "\n",
              "  <div id=\"df-a09ac188-3fa0-4661-93f1-2b57f5f039bb\" class=\"colab-df-container\">\n",
              "    <div>\n",
              "<style scoped>\n",
              "    .dataframe tbody tr th:only-of-type {\n",
              "        vertical-align: middle;\n",
              "    }\n",
              "\n",
              "    .dataframe tbody tr th {\n",
              "        vertical-align: top;\n",
              "    }\n",
              "\n",
              "    .dataframe thead th {\n",
              "        text-align: right;\n",
              "    }\n",
              "</style>\n",
              "<table border=\"1\" class=\"dataframe\">\n",
              "  <thead>\n",
              "    <tr style=\"text-align: right;\">\n",
              "      <th></th>\n",
              "      <th>importance</th>\n",
              "    </tr>\n",
              "  </thead>\n",
              "  <tbody>\n",
              "    <tr>\n",
              "      <th>marital-status_index</th>\n",
              "      <td>0.493159</td>\n",
              "    </tr>\n",
              "    <tr>\n",
              "      <th>education-num</th>\n",
              "      <td>0.225426</td>\n",
              "    </tr>\n",
              "    <tr>\n",
              "      <th>capital-gain</th>\n",
              "      <td>0.213097</td>\n",
              "    </tr>\n",
              "    <tr>\n",
              "      <th>education_index</th>\n",
              "      <td>0.032795</td>\n",
              "    </tr>\n",
              "    <tr>\n",
              "      <th>capital-loss</th>\n",
              "      <td>0.031665</td>\n",
              "    </tr>\n",
              "    <tr>\n",
              "      <th>age</th>\n",
              "      <td>0.001484</td>\n",
              "    </tr>\n",
              "    <tr>\n",
              "      <th>sex_index</th>\n",
              "      <td>0.001344</td>\n",
              "    </tr>\n",
              "    <tr>\n",
              "      <th>occupation_index</th>\n",
              "      <td>0.000588</td>\n",
              "    </tr>\n",
              "    <tr>\n",
              "      <th>workclass_index</th>\n",
              "      <td>0.000442</td>\n",
              "    </tr>\n",
              "    <tr>\n",
              "      <th>fnlwgt</th>\n",
              "      <td>0.000000</td>\n",
              "    </tr>\n",
              "    <tr>\n",
              "      <th>relationship_index</th>\n",
              "      <td>0.000000</td>\n",
              "    </tr>\n",
              "    <tr>\n",
              "      <th>race_index</th>\n",
              "      <td>0.000000</td>\n",
              "    </tr>\n",
              "    <tr>\n",
              "      <th>hours-per-week</th>\n",
              "      <td>0.000000</td>\n",
              "    </tr>\n",
              "    <tr>\n",
              "      <th>native-country_index</th>\n",
              "      <td>0.000000</td>\n",
              "    </tr>\n",
              "  </tbody>\n",
              "</table>\n",
              "</div>\n",
              "    <div class=\"colab-df-buttons\">\n",
              "\n",
              "  <div class=\"colab-df-container\">\n",
              "    <button class=\"colab-df-convert\" onclick=\"convertToInteractive('df-a09ac188-3fa0-4661-93f1-2b57f5f039bb')\"\n",
              "            title=\"Convert this dataframe to an interactive table.\"\n",
              "            style=\"display:none;\">\n",
              "\n",
              "  <svg xmlns=\"http://www.w3.org/2000/svg\" height=\"24px\" viewBox=\"0 -960 960 960\">\n",
              "    <path d=\"M120-120v-720h720v720H120Zm60-500h600v-160H180v160Zm220 220h160v-160H400v160Zm0 220h160v-160H400v160ZM180-400h160v-160H180v160Zm440 0h160v-160H620v160ZM180-180h160v-160H180v160Zm440 0h160v-160H620v160Z\"/>\n",
              "  </svg>\n",
              "    </button>\n",
              "\n",
              "  <style>\n",
              "    .colab-df-container {\n",
              "      display:flex;\n",
              "      gap: 12px;\n",
              "    }\n",
              "\n",
              "    .colab-df-convert {\n",
              "      background-color: #E8F0FE;\n",
              "      border: none;\n",
              "      border-radius: 50%;\n",
              "      cursor: pointer;\n",
              "      display: none;\n",
              "      fill: #1967D2;\n",
              "      height: 32px;\n",
              "      padding: 0 0 0 0;\n",
              "      width: 32px;\n",
              "    }\n",
              "\n",
              "    .colab-df-convert:hover {\n",
              "      background-color: #E2EBFA;\n",
              "      box-shadow: 0px 1px 2px rgba(60, 64, 67, 0.3), 0px 1px 3px 1px rgba(60, 64, 67, 0.15);\n",
              "      fill: #174EA6;\n",
              "    }\n",
              "\n",
              "    .colab-df-buttons div {\n",
              "      margin-bottom: 4px;\n",
              "    }\n",
              "\n",
              "    [theme=dark] .colab-df-convert {\n",
              "      background-color: #3B4455;\n",
              "      fill: #D2E3FC;\n",
              "    }\n",
              "\n",
              "    [theme=dark] .colab-df-convert:hover {\n",
              "      background-color: #434B5C;\n",
              "      box-shadow: 0px 1px 3px 1px rgba(0, 0, 0, 0.15);\n",
              "      filter: drop-shadow(0px 1px 2px rgba(0, 0, 0, 0.3));\n",
              "      fill: #FFFFFF;\n",
              "    }\n",
              "  </style>\n",
              "\n",
              "    <script>\n",
              "      const buttonEl =\n",
              "        document.querySelector('#df-a09ac188-3fa0-4661-93f1-2b57f5f039bb button.colab-df-convert');\n",
              "      buttonEl.style.display =\n",
              "        google.colab.kernel.accessAllowed ? 'block' : 'none';\n",
              "\n",
              "      async function convertToInteractive(key) {\n",
              "        const element = document.querySelector('#df-a09ac188-3fa0-4661-93f1-2b57f5f039bb');\n",
              "        const dataTable =\n",
              "          await google.colab.kernel.invokeFunction('convertToInteractive',\n",
              "                                                    [key], {});\n",
              "        if (!dataTable) return;\n",
              "\n",
              "        const docLinkHtml = 'Like what you see? Visit the ' +\n",
              "          '<a target=\"_blank\" href=https://colab.research.google.com/notebooks/data_table.ipynb>data table notebook</a>'\n",
              "          + ' to learn more about interactive tables.';\n",
              "        element.innerHTML = '';\n",
              "        dataTable['output_type'] = 'display_data';\n",
              "        await google.colab.output.renderOutput(dataTable, element);\n",
              "        const docLink = document.createElement('div');\n",
              "        docLink.innerHTML = docLinkHtml;\n",
              "        element.appendChild(docLink);\n",
              "      }\n",
              "    </script>\n",
              "  </div>\n",
              "\n",
              "\n",
              "<div id=\"df-3eaf4b36-6f8a-4615-9e2e-1148a115dcb3\">\n",
              "  <button class=\"colab-df-quickchart\" onclick=\"quickchart('df-3eaf4b36-6f8a-4615-9e2e-1148a115dcb3')\"\n",
              "            title=\"Suggest charts\"\n",
              "            style=\"display:none;\">\n",
              "\n",
              "<svg xmlns=\"http://www.w3.org/2000/svg\" height=\"24px\"viewBox=\"0 0 24 24\"\n",
              "     width=\"24px\">\n",
              "    <g>\n",
              "        <path d=\"M19 3H5c-1.1 0-2 .9-2 2v14c0 1.1.9 2 2 2h14c1.1 0 2-.9 2-2V5c0-1.1-.9-2-2-2zM9 17H7v-7h2v7zm4 0h-2V7h2v10zm4 0h-2v-4h2v4z\"/>\n",
              "    </g>\n",
              "</svg>\n",
              "  </button>\n",
              "\n",
              "<style>\n",
              "  .colab-df-quickchart {\n",
              "      --bg-color: #E8F0FE;\n",
              "      --fill-color: #1967D2;\n",
              "      --hover-bg-color: #E2EBFA;\n",
              "      --hover-fill-color: #174EA6;\n",
              "      --disabled-fill-color: #AAA;\n",
              "      --disabled-bg-color: #DDD;\n",
              "  }\n",
              "\n",
              "  [theme=dark] .colab-df-quickchart {\n",
              "      --bg-color: #3B4455;\n",
              "      --fill-color: #D2E3FC;\n",
              "      --hover-bg-color: #434B5C;\n",
              "      --hover-fill-color: #FFFFFF;\n",
              "      --disabled-bg-color: #3B4455;\n",
              "      --disabled-fill-color: #666;\n",
              "  }\n",
              "\n",
              "  .colab-df-quickchart {\n",
              "    background-color: var(--bg-color);\n",
              "    border: none;\n",
              "    border-radius: 50%;\n",
              "    cursor: pointer;\n",
              "    display: none;\n",
              "    fill: var(--fill-color);\n",
              "    height: 32px;\n",
              "    padding: 0;\n",
              "    width: 32px;\n",
              "  }\n",
              "\n",
              "  .colab-df-quickchart:hover {\n",
              "    background-color: var(--hover-bg-color);\n",
              "    box-shadow: 0 1px 2px rgba(60, 64, 67, 0.3), 0 1px 3px 1px rgba(60, 64, 67, 0.15);\n",
              "    fill: var(--button-hover-fill-color);\n",
              "  }\n",
              "\n",
              "  .colab-df-quickchart-complete:disabled,\n",
              "  .colab-df-quickchart-complete:disabled:hover {\n",
              "    background-color: var(--disabled-bg-color);\n",
              "    fill: var(--disabled-fill-color);\n",
              "    box-shadow: none;\n",
              "  }\n",
              "\n",
              "  .colab-df-spinner {\n",
              "    border: 2px solid var(--fill-color);\n",
              "    border-color: transparent;\n",
              "    border-bottom-color: var(--fill-color);\n",
              "    animation:\n",
              "      spin 1s steps(1) infinite;\n",
              "  }\n",
              "\n",
              "  @keyframes spin {\n",
              "    0% {\n",
              "      border-color: transparent;\n",
              "      border-bottom-color: var(--fill-color);\n",
              "      border-left-color: var(--fill-color);\n",
              "    }\n",
              "    20% {\n",
              "      border-color: transparent;\n",
              "      border-left-color: var(--fill-color);\n",
              "      border-top-color: var(--fill-color);\n",
              "    }\n",
              "    30% {\n",
              "      border-color: transparent;\n",
              "      border-left-color: var(--fill-color);\n",
              "      border-top-color: var(--fill-color);\n",
              "      border-right-color: var(--fill-color);\n",
              "    }\n",
              "    40% {\n",
              "      border-color: transparent;\n",
              "      border-right-color: var(--fill-color);\n",
              "      border-top-color: var(--fill-color);\n",
              "    }\n",
              "    60% {\n",
              "      border-color: transparent;\n",
              "      border-right-color: var(--fill-color);\n",
              "    }\n",
              "    80% {\n",
              "      border-color: transparent;\n",
              "      border-right-color: var(--fill-color);\n",
              "      border-bottom-color: var(--fill-color);\n",
              "    }\n",
              "    90% {\n",
              "      border-color: transparent;\n",
              "      border-bottom-color: var(--fill-color);\n",
              "    }\n",
              "  }\n",
              "</style>\n",
              "\n",
              "  <script>\n",
              "    async function quickchart(key) {\n",
              "      const quickchartButtonEl =\n",
              "        document.querySelector('#' + key + ' button');\n",
              "      quickchartButtonEl.disabled = true;  // To prevent multiple clicks.\n",
              "      quickchartButtonEl.classList.add('colab-df-spinner');\n",
              "      try {\n",
              "        const charts = await google.colab.kernel.invokeFunction(\n",
              "            'suggestCharts', [key], {});\n",
              "      } catch (error) {\n",
              "        console.error('Error during call to suggestCharts:', error);\n",
              "      }\n",
              "      quickchartButtonEl.classList.remove('colab-df-spinner');\n",
              "      quickchartButtonEl.classList.add('colab-df-quickchart-complete');\n",
              "    }\n",
              "    (() => {\n",
              "      let quickchartButtonEl =\n",
              "        document.querySelector('#df-3eaf4b36-6f8a-4615-9e2e-1148a115dcb3 button');\n",
              "      quickchartButtonEl.style.display =\n",
              "        google.colab.kernel.accessAllowed ? 'block' : 'none';\n",
              "    })();\n",
              "  </script>\n",
              "</div>\n",
              "\n",
              "    </div>\n",
              "  </div>\n"
            ],
            "application/vnd.google.colaboratory.intrinsic+json": {
              "type": "dataframe",
              "summary": "{\n  \"name\": \")\",\n  \"rows\": 14,\n  \"fields\": [\n    {\n      \"column\": \"importance\",\n      \"properties\": {\n        \"dtype\": \"number\",\n        \"std\": 0.1441385870699265,\n        \"min\": 0.0,\n        \"max\": 0.4931589715030921,\n        \"num_unique_values\": 10,\n        \"samples\": [\n          0.00044234726095974074,\n          0.22542626828740261,\n          0.0014837081027650476\n        ],\n        \"semantic_type\": \"\",\n        \"description\": \"\"\n      }\n    }\n  ]\n}"
            }
          },
          "metadata": {},
          "execution_count": 16
        }
      ]
    },
    {
      "cell_type": "code",
      "source": [
        "predictions = model.transform(test_df)\n",
        "predictions.select('income_index', 'prediction', 'probability').show(5)"
      ],
      "metadata": {
        "colab": {
          "base_uri": "https://localhost:8080/"
        },
        "id": "wAXRlA8BzJBB",
        "outputId": "604e8f11-e593-47b9-de09-886188c4f18d"
      },
      "execution_count": null,
      "outputs": [
        {
          "output_type": "stream",
          "name": "stdout",
          "text": [
            "+------------+----------+--------------------+\n",
            "|income_index|prediction|         probability|\n",
            "+------------+----------+--------------------+\n",
            "|         0.0|       0.0|[0.97700009019572...|\n",
            "|         0.0|       0.0|[0.97700009019572...|\n",
            "|         0.0|       0.0|[0.97700009019572...|\n",
            "|         0.0|       0.0|[0.97700009019572...|\n",
            "|         0.0|       0.0|[0.97700009019572...|\n",
            "+------------+----------+--------------------+\n",
            "only showing top 5 rows\n",
            "\n"
          ]
        }
      ]
    },
    {
      "cell_type": "markdown",
      "source": [
        "### Evaluate Outputs"
      ],
      "metadata": {
        "id": "wAZtg9u83tS1"
      }
    },
    {
      "cell_type": "code",
      "source": [
        "from pyspark.ml.evaluation import MulticlassClassificationEvaluator\n",
        "\n",
        "evaluator = MulticlassClassificationEvaluator(\n",
        "    labelCol='income_index',\n",
        "    predictionCol='prediction'\n",
        ")\n",
        "\n",
        "acc = evaluator.setMetricName('accuracy').evaluate(predictions)\n",
        "f1 = evaluator.setMetricName('f1').evaluate(predictions)\n",
        "\n",
        "print('Accuracy: ', round(acc * 100, 2))\n",
        "print('F1 Score: ', round(f1 * 100, 2))"
      ],
      "metadata": {
        "colab": {
          "base_uri": "https://localhost:8080/"
        },
        "id": "JeqRQYVQzfor",
        "outputId": "fdaf5221-5659-48eb-9dd6-928746bcb532"
      },
      "execution_count": null,
      "outputs": [
        {
          "output_type": "stream",
          "name": "stdout",
          "text": [
            "Accuracy:  84.38\n",
            "F1 Score:  83.38\n"
          ]
        }
      ]
    },
    {
      "cell_type": "markdown",
      "source": [
        "### Hyperparameter Tuning"
      ],
      "metadata": {
        "id": "Xgz1KI0b3xAc"
      }
    },
    {
      "cell_type": "code",
      "source": [
        "from pyspark.ml.tuning import ParamGridBuilder\n",
        "\n",
        "classifier = DecisionTreeClassifier(\n",
        "    labelCol='income_index',\n",
        "    featuresCol='featureVector',\n",
        "    predictionCol='prediction',\n",
        ")\n",
        "\n",
        "paramGrid = ParamGridBuilder().\\\n",
        "    addGrid(classifier.impurity, ['gini', 'entropy']).\\\n",
        "    addGrid(classifier.maxDepth, [1, 5, 10, 20]).\\\n",
        "    addGrid(classifier.maxBins, [50, 100, 200]).\\\n",
        "    addGrid(classifier.minInfoGain, [0.0, 0.05, 0.1, 0.5]).\\\n",
        "    build()\n",
        "\n",
        "evaluator = MulticlassClassificationEvaluator(\n",
        "    labelCol='income_index',\n",
        "    predictionCol='prediction',\n",
        "    metricName='accuracy'\n",
        ")"
      ],
      "metadata": {
        "id": "tvGAgwgdz66f"
      },
      "execution_count": null,
      "outputs": []
    },
    {
      "cell_type": "code",
      "source": [
        "from pyspark.ml.tuning import TrainValidationSplit\n",
        "\n",
        "validator = TrainValidationSplit(\n",
        "    estimator=classifier,\n",
        "    evaluator=evaluator,\n",
        "    estimatorParamMaps=paramGrid\n",
        ")\n",
        "\n",
        "validator_model = validator.fit(train_df)"
      ],
      "metadata": {
        "id": "elcdye8n4I1M"
      },
      "execution_count": null,
      "outputs": []
    },
    {
      "cell_type": "code",
      "source": [
        "best_model = validator_model.bestModel\n",
        "\n",
        "print('Best Parameters: ')\n",
        "print('\\tImpurity: ', best_model.getImpurity())\n",
        "print('\\tMax Depth: ', best_model.getMaxDepth())\n",
        "print('\\tMax Bins: ', best_model.getMaxBins())\n",
        "print('\\tMin Info Gain: ', best_model.getMinInfoGain())"
      ],
      "metadata": {
        "colab": {
          "base_uri": "https://localhost:8080/"
        },
        "id": "DoLujt8F5e2D",
        "outputId": "bec91607-44b2-41d3-fd90-d5599fce7a14"
      },
      "execution_count": null,
      "outputs": [
        {
          "output_type": "stream",
          "name": "stdout",
          "text": [
            "Best Parameters: \n",
            "\tImpurity:  gini\n",
            "\tMax Depth:  10\n",
            "\tMax Bins:  100\n",
            "\tMin Info Gain:  0.0\n"
          ]
        }
      ]
    },
    {
      "cell_type": "code",
      "source": [
        "predictions = best_model.transform(test_df)\n",
        "predictions.select('income_index', 'prediction', 'probability').show(5)"
      ],
      "metadata": {
        "colab": {
          "base_uri": "https://localhost:8080/"
        },
        "id": "-rV57m624I3l",
        "outputId": "2446a913-c98f-4280-8071-a4f24c8cd298"
      },
      "execution_count": null,
      "outputs": [
        {
          "output_type": "stream",
          "name": "stdout",
          "text": [
            "+------------+----------+--------------------+\n",
            "|income_index|prediction|         probability|\n",
            "+------------+----------+--------------------+\n",
            "|         0.0|       0.0|           [1.0,0.0]|\n",
            "|         0.0|       0.0|[0.99834539813857...|\n",
            "|         0.0|       0.0|[0.99834539813857...|\n",
            "|         0.0|       0.0|[0.99834539813857...|\n",
            "|         0.0|       0.0|[0.99834539813857...|\n",
            "+------------+----------+--------------------+\n",
            "only showing top 5 rows\n",
            "\n"
          ]
        }
      ]
    },
    {
      "cell_type": "code",
      "source": [
        "acc = evaluator.setMetricName('accuracy').evaluate(predictions)\n",
        "f1 = evaluator.setMetricName('f1').evaluate(predictions)\n",
        "\n",
        "print('Accuracy: ', round(acc * 100, 2))\n",
        "print('F1 Score: ', round(f1 * 100, 2))"
      ],
      "metadata": {
        "colab": {
          "base_uri": "https://localhost:8080/"
        },
        "id": "xsPzFr3A4I7B",
        "outputId": "5e964b65-e27d-41b5-d60a-6146c8979eb7"
      },
      "execution_count": null,
      "outputs": [
        {
          "output_type": "stream",
          "name": "stdout",
          "text": [
            "Accuracy:  85.39\n",
            "F1 Score:  85.04\n"
          ]
        }
      ]
    },
    {
      "cell_type": "markdown",
      "source": [
        "## Random Forests"
      ],
      "metadata": {
        "id": "qGPNl1cv31Kh"
      }
    },
    {
      "cell_type": "code",
      "source": [
        "from pyspark.ml.classification import RandomForestClassifier\n",
        "\n",
        "classifier = RandomForestClassifier(\n",
        "    labelCol='income_index',\n",
        "    featuresCol='featureVector',\n",
        "    predictionCol='prediction',\n",
        "    maxBins=50\n",
        ")\n",
        "\n",
        "model = classifier.fit(train_df)"
      ],
      "metadata": {
        "id": "EDbL2L6_1KxF"
      },
      "execution_count": null,
      "outputs": []
    },
    {
      "cell_type": "code",
      "source": [
        "pd.DataFrame(\n",
        "    model.featureImportances.toArray(),\n",
        "    index=input_cols,\n",
        "    columns=['importance']\n",
        ").sort_values(by='importance', ascending=False)"
      ],
      "metadata": {
        "colab": {
          "base_uri": "https://localhost:8080/",
          "height": 488
        },
        "id": "_LGq9lTY1KxF",
        "outputId": "36aba693-f5c0-4781-84ad-026fc95cbc13"
      },
      "execution_count": null,
      "outputs": [
        {
          "output_type": "execute_result",
          "data": {
            "text/plain": [
              "                      importance\n",
              "relationship_index      0.242770\n",
              "capital-gain            0.223732\n",
              "marital-status_index    0.220985\n",
              "education-num           0.117237\n",
              "occupation_index        0.069872\n",
              "age                     0.044498\n",
              "capital-loss            0.032781\n",
              "education_index         0.016782\n",
              "hours-per-week          0.015819\n",
              "sex_index               0.010804\n",
              "native-country_index    0.001731\n",
              "race_index              0.001381\n",
              "workclass_index         0.000920\n",
              "fnlwgt                  0.000688"
            ],
            "text/html": [
              "\n",
              "  <div id=\"df-9b367ae6-c176-43a2-8f5f-8e64dc38dc50\" class=\"colab-df-container\">\n",
              "    <div>\n",
              "<style scoped>\n",
              "    .dataframe tbody tr th:only-of-type {\n",
              "        vertical-align: middle;\n",
              "    }\n",
              "\n",
              "    .dataframe tbody tr th {\n",
              "        vertical-align: top;\n",
              "    }\n",
              "\n",
              "    .dataframe thead th {\n",
              "        text-align: right;\n",
              "    }\n",
              "</style>\n",
              "<table border=\"1\" class=\"dataframe\">\n",
              "  <thead>\n",
              "    <tr style=\"text-align: right;\">\n",
              "      <th></th>\n",
              "      <th>importance</th>\n",
              "    </tr>\n",
              "  </thead>\n",
              "  <tbody>\n",
              "    <tr>\n",
              "      <th>relationship_index</th>\n",
              "      <td>0.242770</td>\n",
              "    </tr>\n",
              "    <tr>\n",
              "      <th>capital-gain</th>\n",
              "      <td>0.223732</td>\n",
              "    </tr>\n",
              "    <tr>\n",
              "      <th>marital-status_index</th>\n",
              "      <td>0.220985</td>\n",
              "    </tr>\n",
              "    <tr>\n",
              "      <th>education-num</th>\n",
              "      <td>0.117237</td>\n",
              "    </tr>\n",
              "    <tr>\n",
              "      <th>occupation_index</th>\n",
              "      <td>0.069872</td>\n",
              "    </tr>\n",
              "    <tr>\n",
              "      <th>age</th>\n",
              "      <td>0.044498</td>\n",
              "    </tr>\n",
              "    <tr>\n",
              "      <th>capital-loss</th>\n",
              "      <td>0.032781</td>\n",
              "    </tr>\n",
              "    <tr>\n",
              "      <th>education_index</th>\n",
              "      <td>0.016782</td>\n",
              "    </tr>\n",
              "    <tr>\n",
              "      <th>hours-per-week</th>\n",
              "      <td>0.015819</td>\n",
              "    </tr>\n",
              "    <tr>\n",
              "      <th>sex_index</th>\n",
              "      <td>0.010804</td>\n",
              "    </tr>\n",
              "    <tr>\n",
              "      <th>native-country_index</th>\n",
              "      <td>0.001731</td>\n",
              "    </tr>\n",
              "    <tr>\n",
              "      <th>race_index</th>\n",
              "      <td>0.001381</td>\n",
              "    </tr>\n",
              "    <tr>\n",
              "      <th>workclass_index</th>\n",
              "      <td>0.000920</td>\n",
              "    </tr>\n",
              "    <tr>\n",
              "      <th>fnlwgt</th>\n",
              "      <td>0.000688</td>\n",
              "    </tr>\n",
              "  </tbody>\n",
              "</table>\n",
              "</div>\n",
              "    <div class=\"colab-df-buttons\">\n",
              "\n",
              "  <div class=\"colab-df-container\">\n",
              "    <button class=\"colab-df-convert\" onclick=\"convertToInteractive('df-9b367ae6-c176-43a2-8f5f-8e64dc38dc50')\"\n",
              "            title=\"Convert this dataframe to an interactive table.\"\n",
              "            style=\"display:none;\">\n",
              "\n",
              "  <svg xmlns=\"http://www.w3.org/2000/svg\" height=\"24px\" viewBox=\"0 -960 960 960\">\n",
              "    <path d=\"M120-120v-720h720v720H120Zm60-500h600v-160H180v160Zm220 220h160v-160H400v160Zm0 220h160v-160H400v160ZM180-400h160v-160H180v160Zm440 0h160v-160H620v160ZM180-180h160v-160H180v160Zm440 0h160v-160H620v160Z\"/>\n",
              "  </svg>\n",
              "    </button>\n",
              "\n",
              "  <style>\n",
              "    .colab-df-container {\n",
              "      display:flex;\n",
              "      gap: 12px;\n",
              "    }\n",
              "\n",
              "    .colab-df-convert {\n",
              "      background-color: #E8F0FE;\n",
              "      border: none;\n",
              "      border-radius: 50%;\n",
              "      cursor: pointer;\n",
              "      display: none;\n",
              "      fill: #1967D2;\n",
              "      height: 32px;\n",
              "      padding: 0 0 0 0;\n",
              "      width: 32px;\n",
              "    }\n",
              "\n",
              "    .colab-df-convert:hover {\n",
              "      background-color: #E2EBFA;\n",
              "      box-shadow: 0px 1px 2px rgba(60, 64, 67, 0.3), 0px 1px 3px 1px rgba(60, 64, 67, 0.15);\n",
              "      fill: #174EA6;\n",
              "    }\n",
              "\n",
              "    .colab-df-buttons div {\n",
              "      margin-bottom: 4px;\n",
              "    }\n",
              "\n",
              "    [theme=dark] .colab-df-convert {\n",
              "      background-color: #3B4455;\n",
              "      fill: #D2E3FC;\n",
              "    }\n",
              "\n",
              "    [theme=dark] .colab-df-convert:hover {\n",
              "      background-color: #434B5C;\n",
              "      box-shadow: 0px 1px 3px 1px rgba(0, 0, 0, 0.15);\n",
              "      filter: drop-shadow(0px 1px 2px rgba(0, 0, 0, 0.3));\n",
              "      fill: #FFFFFF;\n",
              "    }\n",
              "  </style>\n",
              "\n",
              "    <script>\n",
              "      const buttonEl =\n",
              "        document.querySelector('#df-9b367ae6-c176-43a2-8f5f-8e64dc38dc50 button.colab-df-convert');\n",
              "      buttonEl.style.display =\n",
              "        google.colab.kernel.accessAllowed ? 'block' : 'none';\n",
              "\n",
              "      async function convertToInteractive(key) {\n",
              "        const element = document.querySelector('#df-9b367ae6-c176-43a2-8f5f-8e64dc38dc50');\n",
              "        const dataTable =\n",
              "          await google.colab.kernel.invokeFunction('convertToInteractive',\n",
              "                                                    [key], {});\n",
              "        if (!dataTable) return;\n",
              "\n",
              "        const docLinkHtml = 'Like what you see? Visit the ' +\n",
              "          '<a target=\"_blank\" href=https://colab.research.google.com/notebooks/data_table.ipynb>data table notebook</a>'\n",
              "          + ' to learn more about interactive tables.';\n",
              "        element.innerHTML = '';\n",
              "        dataTable['output_type'] = 'display_data';\n",
              "        await google.colab.output.renderOutput(dataTable, element);\n",
              "        const docLink = document.createElement('div');\n",
              "        docLink.innerHTML = docLinkHtml;\n",
              "        element.appendChild(docLink);\n",
              "      }\n",
              "    </script>\n",
              "  </div>\n",
              "\n",
              "\n",
              "<div id=\"df-dfc6d3b5-1b06-4803-9b8c-8e6147113339\">\n",
              "  <button class=\"colab-df-quickchart\" onclick=\"quickchart('df-dfc6d3b5-1b06-4803-9b8c-8e6147113339')\"\n",
              "            title=\"Suggest charts\"\n",
              "            style=\"display:none;\">\n",
              "\n",
              "<svg xmlns=\"http://www.w3.org/2000/svg\" height=\"24px\"viewBox=\"0 0 24 24\"\n",
              "     width=\"24px\">\n",
              "    <g>\n",
              "        <path d=\"M19 3H5c-1.1 0-2 .9-2 2v14c0 1.1.9 2 2 2h14c1.1 0 2-.9 2-2V5c0-1.1-.9-2-2-2zM9 17H7v-7h2v7zm4 0h-2V7h2v10zm4 0h-2v-4h2v4z\"/>\n",
              "    </g>\n",
              "</svg>\n",
              "  </button>\n",
              "\n",
              "<style>\n",
              "  .colab-df-quickchart {\n",
              "      --bg-color: #E8F0FE;\n",
              "      --fill-color: #1967D2;\n",
              "      --hover-bg-color: #E2EBFA;\n",
              "      --hover-fill-color: #174EA6;\n",
              "      --disabled-fill-color: #AAA;\n",
              "      --disabled-bg-color: #DDD;\n",
              "  }\n",
              "\n",
              "  [theme=dark] .colab-df-quickchart {\n",
              "      --bg-color: #3B4455;\n",
              "      --fill-color: #D2E3FC;\n",
              "      --hover-bg-color: #434B5C;\n",
              "      --hover-fill-color: #FFFFFF;\n",
              "      --disabled-bg-color: #3B4455;\n",
              "      --disabled-fill-color: #666;\n",
              "  }\n",
              "\n",
              "  .colab-df-quickchart {\n",
              "    background-color: var(--bg-color);\n",
              "    border: none;\n",
              "    border-radius: 50%;\n",
              "    cursor: pointer;\n",
              "    display: none;\n",
              "    fill: var(--fill-color);\n",
              "    height: 32px;\n",
              "    padding: 0;\n",
              "    width: 32px;\n",
              "  }\n",
              "\n",
              "  .colab-df-quickchart:hover {\n",
              "    background-color: var(--hover-bg-color);\n",
              "    box-shadow: 0 1px 2px rgba(60, 64, 67, 0.3), 0 1px 3px 1px rgba(60, 64, 67, 0.15);\n",
              "    fill: var(--button-hover-fill-color);\n",
              "  }\n",
              "\n",
              "  .colab-df-quickchart-complete:disabled,\n",
              "  .colab-df-quickchart-complete:disabled:hover {\n",
              "    background-color: var(--disabled-bg-color);\n",
              "    fill: var(--disabled-fill-color);\n",
              "    box-shadow: none;\n",
              "  }\n",
              "\n",
              "  .colab-df-spinner {\n",
              "    border: 2px solid var(--fill-color);\n",
              "    border-color: transparent;\n",
              "    border-bottom-color: var(--fill-color);\n",
              "    animation:\n",
              "      spin 1s steps(1) infinite;\n",
              "  }\n",
              "\n",
              "  @keyframes spin {\n",
              "    0% {\n",
              "      border-color: transparent;\n",
              "      border-bottom-color: var(--fill-color);\n",
              "      border-left-color: var(--fill-color);\n",
              "    }\n",
              "    20% {\n",
              "      border-color: transparent;\n",
              "      border-left-color: var(--fill-color);\n",
              "      border-top-color: var(--fill-color);\n",
              "    }\n",
              "    30% {\n",
              "      border-color: transparent;\n",
              "      border-left-color: var(--fill-color);\n",
              "      border-top-color: var(--fill-color);\n",
              "      border-right-color: var(--fill-color);\n",
              "    }\n",
              "    40% {\n",
              "      border-color: transparent;\n",
              "      border-right-color: var(--fill-color);\n",
              "      border-top-color: var(--fill-color);\n",
              "    }\n",
              "    60% {\n",
              "      border-color: transparent;\n",
              "      border-right-color: var(--fill-color);\n",
              "    }\n",
              "    80% {\n",
              "      border-color: transparent;\n",
              "      border-right-color: var(--fill-color);\n",
              "      border-bottom-color: var(--fill-color);\n",
              "    }\n",
              "    90% {\n",
              "      border-color: transparent;\n",
              "      border-bottom-color: var(--fill-color);\n",
              "    }\n",
              "  }\n",
              "</style>\n",
              "\n",
              "  <script>\n",
              "    async function quickchart(key) {\n",
              "      const quickchartButtonEl =\n",
              "        document.querySelector('#' + key + ' button');\n",
              "      quickchartButtonEl.disabled = true;  // To prevent multiple clicks.\n",
              "      quickchartButtonEl.classList.add('colab-df-spinner');\n",
              "      try {\n",
              "        const charts = await google.colab.kernel.invokeFunction(\n",
              "            'suggestCharts', [key], {});\n",
              "      } catch (error) {\n",
              "        console.error('Error during call to suggestCharts:', error);\n",
              "      }\n",
              "      quickchartButtonEl.classList.remove('colab-df-spinner');\n",
              "      quickchartButtonEl.classList.add('colab-df-quickchart-complete');\n",
              "    }\n",
              "    (() => {\n",
              "      let quickchartButtonEl =\n",
              "        document.querySelector('#df-dfc6d3b5-1b06-4803-9b8c-8e6147113339 button');\n",
              "      quickchartButtonEl.style.display =\n",
              "        google.colab.kernel.accessAllowed ? 'block' : 'none';\n",
              "    })();\n",
              "  </script>\n",
              "</div>\n",
              "\n",
              "    </div>\n",
              "  </div>\n"
            ],
            "application/vnd.google.colaboratory.intrinsic+json": {
              "type": "dataframe",
              "summary": "{\n  \"name\": \")\",\n  \"rows\": 14,\n  \"fields\": [\n    {\n      \"column\": \"importance\",\n      \"properties\": {\n        \"dtype\": \"number\",\n        \"std\": 0.09145633186586694,\n        \"min\": 0.000688143460445315,\n        \"max\": 0.2427699282143037,\n        \"num_unique_values\": 14,\n        \"samples\": [\n          0.010803715989643465,\n          0.0013806241955323754,\n          0.2427699282143037\n        ],\n        \"semantic_type\": \"\",\n        \"description\": \"\"\n      }\n    }\n  ]\n}"
            }
          },
          "metadata": {},
          "execution_count": 25
        }
      ]
    },
    {
      "cell_type": "code",
      "source": [
        "predictions = model.transform(test_df)\n",
        "predictions.select('income_index', 'prediction', 'probability').show(5)"
      ],
      "metadata": {
        "colab": {
          "base_uri": "https://localhost:8080/"
        },
        "id": "NKnzQMGD1KxF",
        "outputId": "e589cc31-2ab3-496c-9b4c-943bb5dfa817"
      },
      "execution_count": null,
      "outputs": [
        {
          "output_type": "stream",
          "name": "stdout",
          "text": [
            "+------------+----------+--------------------+\n",
            "|income_index|prediction|         probability|\n",
            "+------------+----------+--------------------+\n",
            "|         0.0|       0.0|[0.96777520731335...|\n",
            "|         0.0|       0.0|[0.96556166484809...|\n",
            "|         0.0|       0.0|[0.96556166484809...|\n",
            "|         0.0|       0.0|[0.96556166484809...|\n",
            "|         0.0|       0.0|[0.96556166484809...|\n",
            "+------------+----------+--------------------+\n",
            "only showing top 5 rows\n",
            "\n"
          ]
        }
      ]
    },
    {
      "cell_type": "markdown",
      "source": [
        "### Evaluation"
      ],
      "metadata": {
        "id": "RzIUsU8j36Qs"
      }
    },
    {
      "cell_type": "code",
      "source": [
        "evaluator = MulticlassClassificationEvaluator(\n",
        "    labelCol='income_index',\n",
        "    predictionCol='prediction'\n",
        ")\n",
        "\n",
        "acc = evaluator.setMetricName('accuracy').evaluate(predictions)\n",
        "f1 = evaluator.setMetricName('f1').evaluate(predictions)\n",
        "\n",
        "print('Accuracy: ', round(acc * 100, 2))\n",
        "print('F1 Score: ', round(f1 * 100, 2))"
      ],
      "metadata": {
        "colab": {
          "base_uri": "https://localhost:8080/"
        },
        "id": "Z53ELXMD1KxF",
        "outputId": "8039945e-3062-4948-dec4-8de43a755362"
      },
      "execution_count": null,
      "outputs": [
        {
          "output_type": "stream",
          "name": "stdout",
          "text": [
            "Accuracy:  84.59\n",
            "F1 Score:  83.18\n"
          ]
        }
      ]
    },
    {
      "cell_type": "markdown",
      "source": [
        "### HyperParameter Tuning"
      ],
      "metadata": {
        "id": "9EEC1lvI4Aop"
      }
    },
    {
      "cell_type": "code",
      "source": [
        "classifier = RandomForestClassifier(\n",
        "    labelCol='income_index',\n",
        "    featuresCol='featureVector',\n",
        "    predictionCol='prediction',\n",
        ")\n",
        "\n",
        "paramGrid = ParamGridBuilder().\\\n",
        "    addGrid(classifier.impurity, ['gini', 'entropy']).\\\n",
        "    addGrid(classifier.maxDepth, [1, 5, 10, 20]).\\\n",
        "    addGrid(classifier.maxBins, [50, 100, 200]).\\\n",
        "    addGrid(classifier.numTrees, [20, 50, 100]).\\\n",
        "    addGrid(classifier.minInfoGain, [0.0, 0.05, 0.1, 0.5]).\\\n",
        "    build()\n",
        "\n",
        "evaluator = MulticlassClassificationEvaluator(\n",
        "    labelCol='income_index',\n",
        "    predictionCol='prediction',\n",
        "    metricName='accuracy'\n",
        ")"
      ],
      "metadata": {
        "id": "ZxbKtF8G7DL-"
      },
      "execution_count": null,
      "outputs": []
    },
    {
      "cell_type": "code",
      "source": [
        "validator = TrainValidationSplit(\n",
        "    estimator=classifier,\n",
        "    evaluator=evaluator,\n",
        "    estimatorParamMaps=paramGrid\n",
        ")\n",
        "\n",
        "validator_model = validator.fit(train_df)"
      ],
      "metadata": {
        "id": "okSpKRIn7DMM"
      },
      "execution_count": null,
      "outputs": []
    },
    {
      "cell_type": "code",
      "source": [
        "best_model = validator_model.bestModel\n",
        "\n",
        "print('Best Parameters: ')\n",
        "print('\\tImpurity: ', best_model.getImpurity())\n",
        "print('\\tMax Depth: ', best_model.getMaxDepth())\n",
        "print('\\tMax Bins: ', best_model.getMaxBins())\n",
        "print('\\tNum Trees: ', best_model.getNumTrees)\n",
        "print('\\tMin Info Gain: ', best_model.getMinInfoGain())"
      ],
      "metadata": {
        "colab": {
          "base_uri": "https://localhost:8080/"
        },
        "outputId": "ee6bd01f-8405-49c3-b162-accb8e710c96",
        "id": "e4E8uglT7DMN"
      },
      "execution_count": null,
      "outputs": [
        {
          "output_type": "stream",
          "name": "stdout",
          "text": [
            "Best Parameters: \n",
            "\tImpurity:  gini\n",
            "\tMax Depth:  20\n",
            "\tMax Bins:  200\n",
            "\tNum Trees:  100\n",
            "\tMin Info Gain:  0.0\n"
          ]
        }
      ]
    },
    {
      "cell_type": "code",
      "source": [
        "predictions = best_model.transform(test_df)\n",
        "predictions.select('income_index', 'prediction', 'probability').show(5)"
      ],
      "metadata": {
        "colab": {
          "base_uri": "https://localhost:8080/"
        },
        "outputId": "1c768b3d-1cf2-4adc-ab2b-57eacac7b05d",
        "id": "I4WgdNfL7DMN"
      },
      "execution_count": null,
      "outputs": [
        {
          "output_type": "stream",
          "name": "stdout",
          "text": [
            "+------------+----------+--------------------+\n",
            "|income_index|prediction|         probability|\n",
            "+------------+----------+--------------------+\n",
            "|         0.0|       0.0|[0.96898822914188...|\n",
            "|         0.0|       0.0|[0.99993648554836...|\n",
            "|         0.0|       0.0|[0.99991175294138...|\n",
            "|         0.0|       0.0|[0.99990319065643...|\n",
            "|         0.0|       0.0|[0.99990018790770...|\n",
            "+------------+----------+--------------------+\n",
            "only showing top 5 rows\n",
            "\n"
          ]
        }
      ]
    },
    {
      "cell_type": "code",
      "source": [
        "acc = evaluator.setMetricName('accuracy').evaluate(predictions)\n",
        "f1 = evaluator.setMetricName('f1').evaluate(predictions)\n",
        "\n",
        "print('Accuracy: ', round(acc * 100, 2))\n",
        "print('F1 Score: ', round(f1 * 100, 2))"
      ],
      "metadata": {
        "colab": {
          "base_uri": "https://localhost:8080/"
        },
        "outputId": "4270b66b-1447-47eb-8371-5d601aec6849",
        "id": "JyEW7Rci7DMO"
      },
      "execution_count": null,
      "outputs": [
        {
          "output_type": "stream",
          "name": "stdout",
          "text": [
            "Accuracy:  86.66\n",
            "F1 Score:  86.13\n"
          ]
        }
      ]
    },
    {
      "cell_type": "code",
      "source": [],
      "metadata": {
        "id": "IspKZIPKG0NH"
      },
      "execution_count": null,
      "outputs": []
    }
  ]
}