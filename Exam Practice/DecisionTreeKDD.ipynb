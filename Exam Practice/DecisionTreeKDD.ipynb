{
  "nbformat": 4,
  "nbformat_minor": 0,
  "metadata": {
    "colab": {
      "provenance": []
    },
    "kernelspec": {
      "name": "python3",
      "display_name": "Python 3"
    },
    "language_info": {
      "name": "python"
    }
  },
  "cells": [
    {
      "cell_type": "code",
      "execution_count": 1,
      "metadata": {
        "colab": {
          "base_uri": "https://localhost:8080/"
        },
        "id": "QfBuVzWeqlfx",
        "outputId": "db079515-7312-4548-a3fb-42b12162f905"
      },
      "outputs": [
        {
          "output_type": "stream",
          "name": "stdout",
          "text": [
            "Collecting pyspark\n",
            "  Downloading pyspark-3.5.1.tar.gz (317.0 MB)\n",
            "\u001b[2K     \u001b[90m━━━━━━━━━━━━━━━━━━━━━━━━━━━━━━━━━━━━━━━━\u001b[0m \u001b[32m317.0/317.0 MB\u001b[0m \u001b[31m2.8 MB/s\u001b[0m eta \u001b[36m0:00:00\u001b[0m\n",
            "\u001b[?25h  Preparing metadata (setup.py) ... \u001b[?25l\u001b[?25hdone\n",
            "Requirement already satisfied: py4j==0.10.9.7 in /usr/local/lib/python3.10/dist-packages (from pyspark) (0.10.9.7)\n",
            "Building wheels for collected packages: pyspark\n",
            "  Building wheel for pyspark (setup.py) ... \u001b[?25l\u001b[?25hdone\n",
            "  Created wheel for pyspark: filename=pyspark-3.5.1-py2.py3-none-any.whl size=317488491 sha256=bc6e8c3d4ede891c227542365f67a508d805f11357f07b48e7466b09cb7695cf\n",
            "  Stored in directory: /root/.cache/pip/wheels/80/1d/60/2c256ed38dddce2fdd93be545214a63e02fbd8d74fb0b7f3a6\n",
            "Successfully built pyspark\n",
            "Installing collected packages: pyspark\n",
            "Successfully installed pyspark-3.5.1\n"
          ]
        }
      ],
      "source": [
        "!pip install pyspark"
      ]
    },
    {
      "cell_type": "code",
      "source": [
        "!wget http://kdd.ics.uci.edu/databases/kddcup99/kddcup.data.gz"
      ],
      "metadata": {
        "colab": {
          "base_uri": "https://localhost:8080/"
        },
        "id": "rA-BTnNvq_g4",
        "outputId": "40af1b3d-85e5-46bd-d4e0-422c33e1ad2c"
      },
      "execution_count": 2,
      "outputs": [
        {
          "output_type": "stream",
          "name": "stdout",
          "text": [
            "--2024-04-12 05:07:58--  http://kdd.ics.uci.edu/databases/kddcup99/kddcup.data.gz\n",
            "Resolving kdd.ics.uci.edu (kdd.ics.uci.edu)... 128.195.1.86\n",
            "Connecting to kdd.ics.uci.edu (kdd.ics.uci.edu)|128.195.1.86|:80... connected.\n",
            "HTTP request sent, awaiting response... 200 OK\n",
            "Length: 18115902 (17M) [application/x-gzip]\n",
            "Saving to: ‘kddcup.data.gz’\n",
            "\n",
            "kddcup.data.gz      100%[===================>]  17.28M   211KB/s    in 75s     \n",
            "\n",
            "2024-04-12 05:09:12 (237 KB/s) - ‘kddcup.data.gz’ saved [18115902/18115902]\n",
            "\n"
          ]
        }
      ]
    },
    {
      "cell_type": "code",
      "source": [
        "!gzip -d kddcup.data.gz"
      ],
      "metadata": {
        "id": "VfrHjgpYrZKz"
      },
      "execution_count": 3,
      "outputs": []
    },
    {
      "cell_type": "markdown",
      "source": [
        "## Import Libraries"
      ],
      "metadata": {
        "id": "0AP84v3V3Ieu"
      }
    },
    {
      "cell_type": "code",
      "source": [
        "import pyspark\n",
        "from pyspark import SparkContext\n",
        "from pyspark.sql import SparkSession"
      ],
      "metadata": {
        "id": "oN6dahJhrmAP"
      },
      "execution_count": 1,
      "outputs": []
    },
    {
      "cell_type": "markdown",
      "source": [
        "## Creat SparkSession"
      ],
      "metadata": {
        "id": "71FdKQl43M4F"
      }
    },
    {
      "cell_type": "code",
      "source": [
        "spark = SparkSession.builder.appName('Decision Trees KDD').getOrCreate()"
      ],
      "metadata": {
        "id": "jm9-tmZVrt4j"
      },
      "execution_count": 2,
      "outputs": []
    },
    {
      "cell_type": "markdown",
      "source": [
        "## Read The Dataset"
      ],
      "metadata": {
        "id": "6hF61vg33Px_"
      }
    },
    {
      "cell_type": "code",
      "source": [
        "df = spark.read.csv('kddcup.data', header='False', inferSchema='True')\n",
        "\n",
        "df.show(5)"
      ],
      "metadata": {
        "colab": {
          "base_uri": "https://localhost:8080/"
        },
        "id": "92xxlw09tbq5",
        "outputId": "59d66d88-b550-4a2e-f862-f116a2684b19"
      },
      "execution_count": 3,
      "outputs": [
        {
          "output_type": "stream",
          "name": "stdout",
          "text": [
            "+---+---+----+---+---+-----+---+---+---+---+----+----+----+----+----+----+----+----+----+----+----+----+----+----+----+----+----+----+----+----+----+----+----+----+----+----+----+----+----+----+----+-------+\n",
            "|_c0|_c1| _c2|_c3|_c4|  _c5|_c6|_c7|_c8|_c9|_c10|_c11|_c12|_c13|_c14|_c15|_c16|_c17|_c18|_c19|_c20|_c21|_c22|_c23|_c24|_c25|_c26|_c27|_c28|_c29|_c30|_c31|_c32|_c33|_c34|_c35|_c36|_c37|_c38|_c39|_c40|   _c41|\n",
            "+---+---+----+---+---+-----+---+---+---+---+----+----+----+----+----+----+----+----+----+----+----+----+----+----+----+----+----+----+----+----+----+----+----+----+----+----+----+----+----+----+----+-------+\n",
            "|  0|tcp|http| SF|215|45076|  0|  0|  0|  0|   0|   1|   0|   0|   0|   0|   0|   0|   0|   0|   0|   0|   1|   1| 0.0| 0.0| 0.0| 0.0| 1.0| 0.0| 0.0|   0|   0| 0.0| 0.0| 0.0| 0.0| 0.0| 0.0| 0.0| 0.0|normal.|\n",
            "|  0|tcp|http| SF|162| 4528|  0|  0|  0|  0|   0|   1|   0|   0|   0|   0|   0|   0|   0|   0|   0|   0|   2|   2| 0.0| 0.0| 0.0| 0.0| 1.0| 0.0| 0.0|   1|   1| 1.0| 0.0| 1.0| 0.0| 0.0| 0.0| 0.0| 0.0|normal.|\n",
            "|  0|tcp|http| SF|236| 1228|  0|  0|  0|  0|   0|   1|   0|   0|   0|   0|   0|   0|   0|   0|   0|   0|   1|   1| 0.0| 0.0| 0.0| 0.0| 1.0| 0.0| 0.0|   2|   2| 1.0| 0.0| 0.5| 0.0| 0.0| 0.0| 0.0| 0.0|normal.|\n",
            "|  0|tcp|http| SF|233| 2032|  0|  0|  0|  0|   0|   1|   0|   0|   0|   0|   0|   0|   0|   0|   0|   0|   2|   2| 0.0| 0.0| 0.0| 0.0| 1.0| 0.0| 0.0|   3|   3| 1.0| 0.0|0.33| 0.0| 0.0| 0.0| 0.0| 0.0|normal.|\n",
            "|  0|tcp|http| SF|239|  486|  0|  0|  0|  0|   0|   1|   0|   0|   0|   0|   0|   0|   0|   0|   0|   0|   3|   3| 0.0| 0.0| 0.0| 0.0| 1.0| 0.0| 0.0|   4|   4| 1.0| 0.0|0.25| 0.0| 0.0| 0.0| 0.0| 0.0|normal.|\n",
            "+---+---+----+---+---+-----+---+---+---+---+----+----+----+----+----+----+----+----+----+----+----+----+----+----+----+----+----+----+----+----+----+----+----+----+----+----+----+----+----+----+----+-------+\n",
            "only showing top 5 rows\n",
            "\n"
          ]
        }
      ]
    },
    {
      "cell_type": "code",
      "source": [
        "print('Number of datapoints: ', df.count())"
      ],
      "metadata": {
        "colab": {
          "base_uri": "https://localhost:8080/"
        },
        "id": "4QZkn2IuDG64",
        "outputId": "2bdce294-6663-4d14-b7b5-855e0ba754ba"
      },
      "execution_count": 4,
      "outputs": [
        {
          "output_type": "stream",
          "name": "stdout",
          "text": [
            "Number of datapoints:  4898431\n"
          ]
        }
      ]
    },
    {
      "cell_type": "code",
      "source": [
        "columns = [\n",
        "    'duration', 'protocol_type', 'service', 'flag', 'src_bytes', 'dst_bytes',\n",
        "    'land', 'wrong_fragment', 'urgent', 'hot','num_failed_logins', 'logged_in',\n",
        "    'num_compromised', 'root_shell', 'su_attempted', 'num_root',\n",
        "    'num_file_creations', 'num_shells', 'num_access_files', 'num_outbound_cmds',\n",
        "    'is_host_login', 'is_guest_login', 'count', 'srv_count', 'serror_rate',\n",
        "    'srv_serror_rate', 'rerror_rate', 'srv_rerror_rate', 'same_srv_rate',\n",
        "    'diff_srv_rate', 'srv_diff_host_rate', 'dst_host_count',\n",
        "    'dst_host_srv_count', 'dst_host_same_srv_rate', 'dst_host_diff_srv_rate',\n",
        "    'dst_host_same_src_port_rate', 'dst_host_srv_diff_host_rate',\n",
        "    'dst_host_serror_rate', 'dst_host_srv_serror_rate', 'dst_host_rerror_rate',\n",
        "    'dst_host_srv_rerror_rate', 'label'\n",
        "]"
      ],
      "metadata": {
        "id": "M6lGay7wDcZU"
      },
      "execution_count": 5,
      "outputs": []
    },
    {
      "cell_type": "code",
      "source": [
        "df = df.toDF(*columns)\n",
        "\n",
        "df.show(5)"
      ],
      "metadata": {
        "colab": {
          "base_uri": "https://localhost:8080/"
        },
        "id": "as18Lq13DhbD",
        "outputId": "f9511b7d-97b8-4eea-c6b4-a333d952b3f7"
      },
      "execution_count": 6,
      "outputs": [
        {
          "output_type": "stream",
          "name": "stdout",
          "text": [
            "+--------+-------------+-------+----+---------+---------+----+--------------+------+---+-----------------+---------+---------------+----------+------------+--------+------------------+----------+----------------+-----------------+-------------+--------------+-----+---------+-----------+---------------+-----------+---------------+-------------+-------------+------------------+--------------+------------------+----------------------+----------------------+---------------------------+---------------------------+--------------------+------------------------+--------------------+------------------------+-------+\n",
            "|duration|protocol_type|service|flag|src_bytes|dst_bytes|land|wrong_fragment|urgent|hot|num_failed_logins|logged_in|num_compromised|root_shell|su_attempted|num_root|num_file_creations|num_shells|num_access_files|num_outbound_cmds|is_host_login|is_guest_login|count|srv_count|serror_rate|srv_serror_rate|rerror_rate|srv_rerror_rate|same_srv_rate|diff_srv_rate|srv_diff_host_rate|dst_host_count|dst_host_srv_count|dst_host_same_srv_rate|dst_host_diff_srv_rate|dst_host_same_src_port_rate|dst_host_srv_diff_host_rate|dst_host_serror_rate|dst_host_srv_serror_rate|dst_host_rerror_rate|dst_host_srv_rerror_rate|  label|\n",
            "+--------+-------------+-------+----+---------+---------+----+--------------+------+---+-----------------+---------+---------------+----------+------------+--------+------------------+----------+----------------+-----------------+-------------+--------------+-----+---------+-----------+---------------+-----------+---------------+-------------+-------------+------------------+--------------+------------------+----------------------+----------------------+---------------------------+---------------------------+--------------------+------------------------+--------------------+------------------------+-------+\n",
            "|       0|          tcp|   http|  SF|      215|    45076|   0|             0|     0|  0|                0|        1|              0|         0|           0|       0|                 0|         0|               0|                0|            0|             0|    1|        1|        0.0|            0.0|        0.0|            0.0|          1.0|          0.0|               0.0|             0|                 0|                   0.0|                   0.0|                        0.0|                        0.0|                 0.0|                     0.0|                 0.0|                     0.0|normal.|\n",
            "|       0|          tcp|   http|  SF|      162|     4528|   0|             0|     0|  0|                0|        1|              0|         0|           0|       0|                 0|         0|               0|                0|            0|             0|    2|        2|        0.0|            0.0|        0.0|            0.0|          1.0|          0.0|               0.0|             1|                 1|                   1.0|                   0.0|                        1.0|                        0.0|                 0.0|                     0.0|                 0.0|                     0.0|normal.|\n",
            "|       0|          tcp|   http|  SF|      236|     1228|   0|             0|     0|  0|                0|        1|              0|         0|           0|       0|                 0|         0|               0|                0|            0|             0|    1|        1|        0.0|            0.0|        0.0|            0.0|          1.0|          0.0|               0.0|             2|                 2|                   1.0|                   0.0|                        0.5|                        0.0|                 0.0|                     0.0|                 0.0|                     0.0|normal.|\n",
            "|       0|          tcp|   http|  SF|      233|     2032|   0|             0|     0|  0|                0|        1|              0|         0|           0|       0|                 0|         0|               0|                0|            0|             0|    2|        2|        0.0|            0.0|        0.0|            0.0|          1.0|          0.0|               0.0|             3|                 3|                   1.0|                   0.0|                       0.33|                        0.0|                 0.0|                     0.0|                 0.0|                     0.0|normal.|\n",
            "|       0|          tcp|   http|  SF|      239|      486|   0|             0|     0|  0|                0|        1|              0|         0|           0|       0|                 0|         0|               0|                0|            0|             0|    3|        3|        0.0|            0.0|        0.0|            0.0|          1.0|          0.0|               0.0|             4|                 4|                   1.0|                   0.0|                       0.25|                        0.0|                 0.0|                     0.0|                 0.0|                     0.0|normal.|\n",
            "+--------+-------------+-------+----+---------+---------+----+--------------+------+---+-----------------+---------+---------------+----------+------------+--------+------------------+----------+----------------+-----------------+-------------+--------------+-----+---------+-----------+---------------+-----------+---------------+-------------+-------------+------------------+--------------+------------------+----------------------+----------------------+---------------------------+---------------------------+--------------------+------------------------+--------------------+------------------------+-------+\n",
            "only showing top 5 rows\n",
            "\n"
          ]
        }
      ]
    },
    {
      "cell_type": "markdown",
      "source": [
        "## Convert String Features to Integer Features"
      ],
      "metadata": {
        "id": "QT8imrfa3W6v"
      }
    },
    {
      "cell_type": "code",
      "source": [
        "df.printSchema()"
      ],
      "metadata": {
        "colab": {
          "base_uri": "https://localhost:8080/"
        },
        "id": "G9zDFh4Ktnlg",
        "outputId": "fa6f9b3c-1b88-42ee-da70-9c26941dda8d"
      },
      "execution_count": 7,
      "outputs": [
        {
          "output_type": "stream",
          "name": "stdout",
          "text": [
            "root\n",
            " |-- duration: integer (nullable = true)\n",
            " |-- protocol_type: string (nullable = true)\n",
            " |-- service: string (nullable = true)\n",
            " |-- flag: string (nullable = true)\n",
            " |-- src_bytes: integer (nullable = true)\n",
            " |-- dst_bytes: integer (nullable = true)\n",
            " |-- land: integer (nullable = true)\n",
            " |-- wrong_fragment: integer (nullable = true)\n",
            " |-- urgent: integer (nullable = true)\n",
            " |-- hot: integer (nullable = true)\n",
            " |-- num_failed_logins: integer (nullable = true)\n",
            " |-- logged_in: integer (nullable = true)\n",
            " |-- num_compromised: integer (nullable = true)\n",
            " |-- root_shell: integer (nullable = true)\n",
            " |-- su_attempted: integer (nullable = true)\n",
            " |-- num_root: integer (nullable = true)\n",
            " |-- num_file_creations: integer (nullable = true)\n",
            " |-- num_shells: integer (nullable = true)\n",
            " |-- num_access_files: integer (nullable = true)\n",
            " |-- num_outbound_cmds: integer (nullable = true)\n",
            " |-- is_host_login: integer (nullable = true)\n",
            " |-- is_guest_login: integer (nullable = true)\n",
            " |-- count: integer (nullable = true)\n",
            " |-- srv_count: integer (nullable = true)\n",
            " |-- serror_rate: double (nullable = true)\n",
            " |-- srv_serror_rate: double (nullable = true)\n",
            " |-- rerror_rate: double (nullable = true)\n",
            " |-- srv_rerror_rate: double (nullable = true)\n",
            " |-- same_srv_rate: double (nullable = true)\n",
            " |-- diff_srv_rate: double (nullable = true)\n",
            " |-- srv_diff_host_rate: double (nullable = true)\n",
            " |-- dst_host_count: integer (nullable = true)\n",
            " |-- dst_host_srv_count: integer (nullable = true)\n",
            " |-- dst_host_same_srv_rate: double (nullable = true)\n",
            " |-- dst_host_diff_srv_rate: double (nullable = true)\n",
            " |-- dst_host_same_src_port_rate: double (nullable = true)\n",
            " |-- dst_host_srv_diff_host_rate: double (nullable = true)\n",
            " |-- dst_host_serror_rate: double (nullable = true)\n",
            " |-- dst_host_srv_serror_rate: double (nullable = true)\n",
            " |-- dst_host_rerror_rate: double (nullable = true)\n",
            " |-- dst_host_srv_rerror_rate: double (nullable = true)\n",
            " |-- label: string (nullable = true)\n",
            "\n"
          ]
        }
      ]
    },
    {
      "cell_type": "code",
      "source": [
        "from pyspark.sql.types import StringType\n",
        "\n",
        "all_cols = df.schema.fields\n",
        "\n",
        "string_cols = [col.name for col in all_cols if col.dataType == StringType()]\n",
        "\n",
        "print(string_cols)"
      ],
      "metadata": {
        "colab": {
          "base_uri": "https://localhost:8080/"
        },
        "id": "ovKpC8B-uxWd",
        "outputId": "6dc2ebf5-fb1a-4eb5-9631-b2f39b7e677f"
      },
      "execution_count": 8,
      "outputs": [
        {
          "output_type": "stream",
          "name": "stdout",
          "text": [
            "['protocol_type', 'service', 'flag', 'label']\n"
          ]
        }
      ]
    },
    {
      "cell_type": "code",
      "source": [
        "from pyspark.ml.feature import StringIndexer\n",
        "from pyspark.ml import Pipeline\n",
        "\n",
        "indexers = [\n",
        "    StringIndexer(inputCol=col, outputCol=col+'_index')\n",
        "    for col in string_cols\n",
        "]\n",
        "\n",
        "pipeline = Pipeline(stages=indexers)\n",
        "\n",
        "pipeline_model = pipeline.fit(df)"
      ],
      "metadata": {
        "id": "ruprYV6-vTQ4"
      },
      "execution_count": 9,
      "outputs": []
    },
    {
      "cell_type": "code",
      "source": [
        "df = pipeline_model.transform(df)\n",
        "\n",
        "df.show(5)"
      ],
      "metadata": {
        "colab": {
          "base_uri": "https://localhost:8080/"
        },
        "id": "7cPG8xS8wpoM",
        "outputId": "4d8a855d-d968-46fd-e5a1-5ae09ec2a976"
      },
      "execution_count": 10,
      "outputs": [
        {
          "output_type": "stream",
          "name": "stdout",
          "text": [
            "+--------+-------------+-------+----+---------+---------+----+--------------+------+---+-----------------+---------+---------------+----------+------------+--------+------------------+----------+----------------+-----------------+-------------+--------------+-----+---------+-----------+---------------+-----------+---------------+-------------+-------------+------------------+--------------+------------------+----------------------+----------------------+---------------------------+---------------------------+--------------------+------------------------+--------------------+------------------------+-------+-------------------+-------------+----------+-----------+\n",
            "|duration|protocol_type|service|flag|src_bytes|dst_bytes|land|wrong_fragment|urgent|hot|num_failed_logins|logged_in|num_compromised|root_shell|su_attempted|num_root|num_file_creations|num_shells|num_access_files|num_outbound_cmds|is_host_login|is_guest_login|count|srv_count|serror_rate|srv_serror_rate|rerror_rate|srv_rerror_rate|same_srv_rate|diff_srv_rate|srv_diff_host_rate|dst_host_count|dst_host_srv_count|dst_host_same_srv_rate|dst_host_diff_srv_rate|dst_host_same_src_port_rate|dst_host_srv_diff_host_rate|dst_host_serror_rate|dst_host_srv_serror_rate|dst_host_rerror_rate|dst_host_srv_rerror_rate|  label|protocol_type_index|service_index|flag_index|label_index|\n",
            "+--------+-------------+-------+----+---------+---------+----+--------------+------+---+-----------------+---------+---------------+----------+------------+--------+------------------+----------+----------------+-----------------+-------------+--------------+-----+---------+-----------+---------------+-----------+---------------+-------------+-------------+------------------+--------------+------------------+----------------------+----------------------+---------------------------+---------------------------+--------------------+------------------------+--------------------+------------------------+-------+-------------------+-------------+----------+-----------+\n",
            "|       0|          tcp|   http|  SF|      215|    45076|   0|             0|     0|  0|                0|        1|              0|         0|           0|       0|                 0|         0|               0|                0|            0|             0|    1|        1|        0.0|            0.0|        0.0|            0.0|          1.0|          0.0|               0.0|             0|                 0|                   0.0|                   0.0|                        0.0|                        0.0|                 0.0|                     0.0|                 0.0|                     0.0|normal.|                1.0|          2.0|       0.0|        2.0|\n",
            "|       0|          tcp|   http|  SF|      162|     4528|   0|             0|     0|  0|                0|        1|              0|         0|           0|       0|                 0|         0|               0|                0|            0|             0|    2|        2|        0.0|            0.0|        0.0|            0.0|          1.0|          0.0|               0.0|             1|                 1|                   1.0|                   0.0|                        1.0|                        0.0|                 0.0|                     0.0|                 0.0|                     0.0|normal.|                1.0|          2.0|       0.0|        2.0|\n",
            "|       0|          tcp|   http|  SF|      236|     1228|   0|             0|     0|  0|                0|        1|              0|         0|           0|       0|                 0|         0|               0|                0|            0|             0|    1|        1|        0.0|            0.0|        0.0|            0.0|          1.0|          0.0|               0.0|             2|                 2|                   1.0|                   0.0|                        0.5|                        0.0|                 0.0|                     0.0|                 0.0|                     0.0|normal.|                1.0|          2.0|       0.0|        2.0|\n",
            "|       0|          tcp|   http|  SF|      233|     2032|   0|             0|     0|  0|                0|        1|              0|         0|           0|       0|                 0|         0|               0|                0|            0|             0|    2|        2|        0.0|            0.0|        0.0|            0.0|          1.0|          0.0|               0.0|             3|                 3|                   1.0|                   0.0|                       0.33|                        0.0|                 0.0|                     0.0|                 0.0|                     0.0|normal.|                1.0|          2.0|       0.0|        2.0|\n",
            "|       0|          tcp|   http|  SF|      239|      486|   0|             0|     0|  0|                0|        1|              0|         0|           0|       0|                 0|         0|               0|                0|            0|             0|    3|        3|        0.0|            0.0|        0.0|            0.0|          1.0|          0.0|               0.0|             4|                 4|                   1.0|                   0.0|                       0.25|                        0.0|                 0.0|                     0.0|                 0.0|                     0.0|normal.|                1.0|          2.0|       0.0|        2.0|\n",
            "+--------+-------------+-------+----+---------+---------+----+--------------+------+---+-----------------+---------+---------------+----------+------------+--------+------------------+----------+----------------+-----------------+-------------+--------------+-----+---------+-----------+---------------+-----------+---------------+-------------+-------------+------------------+--------------+------------------+----------------------+----------------------+---------------------------+---------------------------+--------------------+------------------------+--------------------+------------------------+-------+-------------------+-------------+----------+-----------+\n",
            "only showing top 5 rows\n",
            "\n"
          ]
        }
      ]
    },
    {
      "cell_type": "code",
      "source": [
        "columns = [col if col not in string_cols else col+'_index' for col in columns]\n",
        "\n",
        "print(columns)"
      ],
      "metadata": {
        "colab": {
          "base_uri": "https://localhost:8080/"
        },
        "id": "_vxob5nLw2kw",
        "outputId": "3ca73896-1fa1-4a4d-df5d-e990fb97ea8b"
      },
      "execution_count": 11,
      "outputs": [
        {
          "output_type": "stream",
          "name": "stdout",
          "text": [
            "['duration', 'protocol_type_index', 'service_index', 'flag_index', 'src_bytes', 'dst_bytes', 'land', 'wrong_fragment', 'urgent', 'hot', 'num_failed_logins', 'logged_in', 'num_compromised', 'root_shell', 'su_attempted', 'num_root', 'num_file_creations', 'num_shells', 'num_access_files', 'num_outbound_cmds', 'is_host_login', 'is_guest_login', 'count', 'srv_count', 'serror_rate', 'srv_serror_rate', 'rerror_rate', 'srv_rerror_rate', 'same_srv_rate', 'diff_srv_rate', 'srv_diff_host_rate', 'dst_host_count', 'dst_host_srv_count', 'dst_host_same_srv_rate', 'dst_host_diff_srv_rate', 'dst_host_same_src_port_rate', 'dst_host_srv_diff_host_rate', 'dst_host_serror_rate', 'dst_host_srv_serror_rate', 'dst_host_rerror_rate', 'dst_host_srv_rerror_rate', 'label_index']\n"
          ]
        }
      ]
    },
    {
      "cell_type": "code",
      "source": [
        "df = df.select(*columns)\n",
        "\n",
        "df.show(5)"
      ],
      "metadata": {
        "colab": {
          "base_uri": "https://localhost:8080/"
        },
        "id": "0Q5bJcHgw2se",
        "outputId": "08acb524-f0ed-496b-839a-542a02f75377"
      },
      "execution_count": 12,
      "outputs": [
        {
          "output_type": "stream",
          "name": "stdout",
          "text": [
            "+--------+-------------------+-------------+----------+---------+---------+----+--------------+------+---+-----------------+---------+---------------+----------+------------+--------+------------------+----------+----------------+-----------------+-------------+--------------+-----+---------+-----------+---------------+-----------+---------------+-------------+-------------+------------------+--------------+------------------+----------------------+----------------------+---------------------------+---------------------------+--------------------+------------------------+--------------------+------------------------+-----------+\n",
            "|duration|protocol_type_index|service_index|flag_index|src_bytes|dst_bytes|land|wrong_fragment|urgent|hot|num_failed_logins|logged_in|num_compromised|root_shell|su_attempted|num_root|num_file_creations|num_shells|num_access_files|num_outbound_cmds|is_host_login|is_guest_login|count|srv_count|serror_rate|srv_serror_rate|rerror_rate|srv_rerror_rate|same_srv_rate|diff_srv_rate|srv_diff_host_rate|dst_host_count|dst_host_srv_count|dst_host_same_srv_rate|dst_host_diff_srv_rate|dst_host_same_src_port_rate|dst_host_srv_diff_host_rate|dst_host_serror_rate|dst_host_srv_serror_rate|dst_host_rerror_rate|dst_host_srv_rerror_rate|label_index|\n",
            "+--------+-------------------+-------------+----------+---------+---------+----+--------------+------+---+-----------------+---------+---------------+----------+------------+--------+------------------+----------+----------------+-----------------+-------------+--------------+-----+---------+-----------+---------------+-----------+---------------+-------------+-------------+------------------+--------------+------------------+----------------------+----------------------+---------------------------+---------------------------+--------------------+------------------------+--------------------+------------------------+-----------+\n",
            "|       0|                1.0|          2.0|       0.0|      215|    45076|   0|             0|     0|  0|                0|        1|              0|         0|           0|       0|                 0|         0|               0|                0|            0|             0|    1|        1|        0.0|            0.0|        0.0|            0.0|          1.0|          0.0|               0.0|             0|                 0|                   0.0|                   0.0|                        0.0|                        0.0|                 0.0|                     0.0|                 0.0|                     0.0|        2.0|\n",
            "|       0|                1.0|          2.0|       0.0|      162|     4528|   0|             0|     0|  0|                0|        1|              0|         0|           0|       0|                 0|         0|               0|                0|            0|             0|    2|        2|        0.0|            0.0|        0.0|            0.0|          1.0|          0.0|               0.0|             1|                 1|                   1.0|                   0.0|                        1.0|                        0.0|                 0.0|                     0.0|                 0.0|                     0.0|        2.0|\n",
            "|       0|                1.0|          2.0|       0.0|      236|     1228|   0|             0|     0|  0|                0|        1|              0|         0|           0|       0|                 0|         0|               0|                0|            0|             0|    1|        1|        0.0|            0.0|        0.0|            0.0|          1.0|          0.0|               0.0|             2|                 2|                   1.0|                   0.0|                        0.5|                        0.0|                 0.0|                     0.0|                 0.0|                     0.0|        2.0|\n",
            "|       0|                1.0|          2.0|       0.0|      233|     2032|   0|             0|     0|  0|                0|        1|              0|         0|           0|       0|                 0|         0|               0|                0|            0|             0|    2|        2|        0.0|            0.0|        0.0|            0.0|          1.0|          0.0|               0.0|             3|                 3|                   1.0|                   0.0|                       0.33|                        0.0|                 0.0|                     0.0|                 0.0|                     0.0|        2.0|\n",
            "|       0|                1.0|          2.0|       0.0|      239|      486|   0|             0|     0|  0|                0|        1|              0|         0|           0|       0|                 0|         0|               0|                0|            0|             0|    3|        3|        0.0|            0.0|        0.0|            0.0|          1.0|          0.0|               0.0|             4|                 4|                   1.0|                   0.0|                       0.25|                        0.0|                 0.0|                     0.0|                 0.0|                     0.0|        2.0|\n",
            "+--------+-------------------+-------------+----------+---------+---------+----+--------------+------+---+-----------------+---------+---------------+----------+------------+--------+------------------+----------+----------------+-----------------+-------------+--------------+-----+---------+-----------+---------------+-----------+---------------+-------------+-------------+------------------+--------------+------------------+----------------------+----------------------+---------------------------+---------------------------+--------------------+------------------------+--------------------+------------------------+-----------+\n",
            "only showing top 5 rows\n",
            "\n"
          ]
        }
      ]
    },
    {
      "cell_type": "markdown",
      "source": [
        "## Create a single Feature Vector"
      ],
      "metadata": {
        "id": "EcVw_2mM3hNF"
      }
    },
    {
      "cell_type": "code",
      "source": [
        "from pyspark.ml.feature import VectorAssembler\n",
        "\n",
        "input_cols = columns[:-1]\n",
        "\n",
        "vector_assembler = VectorAssembler(inputCols=input_cols, outputCol='featureVector')\n",
        "df = vector_assembler.transform(df)\n",
        "\n",
        "df.select('featureVector').show(5)"
      ],
      "metadata": {
        "colab": {
          "base_uri": "https://localhost:8080/"
        },
        "id": "cFRTK75cuExV",
        "outputId": "1e7d732d-8459-4cd0-b231-b5077b8730eb"
      },
      "execution_count": 13,
      "outputs": [
        {
          "output_type": "stream",
          "name": "stdout",
          "text": [
            "+--------------------+\n",
            "|       featureVector|\n",
            "+--------------------+\n",
            "|(41,[1,2,4,5,11,2...|\n",
            "|(41,[1,2,4,5,11,2...|\n",
            "|(41,[1,2,4,5,11,2...|\n",
            "|(41,[1,2,4,5,11,2...|\n",
            "|(41,[1,2,4,5,11,2...|\n",
            "+--------------------+\n",
            "only showing top 5 rows\n",
            "\n"
          ]
        }
      ]
    },
    {
      "cell_type": "code",
      "source": [
        "df = df.select('featureVector', 'label_index')\n",
        "\n",
        "df.show(5)"
      ],
      "metadata": {
        "colab": {
          "base_uri": "https://localhost:8080/"
        },
        "id": "qK68xKDkvgpU",
        "outputId": "a60427e7-c7d5-4815-84f2-98bdf82a2556"
      },
      "execution_count": 14,
      "outputs": [
        {
          "output_type": "stream",
          "name": "stdout",
          "text": [
            "+--------------------+-----------+\n",
            "|       featureVector|label_index|\n",
            "+--------------------+-----------+\n",
            "|(41,[1,2,4,5,11,2...|        2.0|\n",
            "|(41,[1,2,4,5,11,2...|        2.0|\n",
            "|(41,[1,2,4,5,11,2...|        2.0|\n",
            "|(41,[1,2,4,5,11,2...|        2.0|\n",
            "|(41,[1,2,4,5,11,2...|        2.0|\n",
            "+--------------------+-----------+\n",
            "only showing top 5 rows\n",
            "\n"
          ]
        }
      ]
    },
    {
      "cell_type": "markdown",
      "source": [
        "## Split to Training and Testing"
      ],
      "metadata": {
        "id": "5xyW-ZdO3lXa"
      }
    },
    {
      "cell_type": "code",
      "source": [
        "train_df, test_df = df.randomSplit([0.8, 0.2])"
      ],
      "metadata": {
        "id": "qR_u1oJyt75K"
      },
      "execution_count": 15,
      "outputs": []
    },
    {
      "cell_type": "markdown",
      "source": [
        "## Decision Trees"
      ],
      "metadata": {
        "id": "9mxEUjGH3odh"
      }
    },
    {
      "cell_type": "code",
      "source": [
        "from pyspark.ml.classification import DecisionTreeClassifier\n",
        "\n",
        "classifier = DecisionTreeClassifier(\n",
        "    labelCol='label_index',\n",
        "    featuresCol='featureVector',\n",
        "    predictionCol='prediction',\n",
        "    maxBins=100\n",
        ")\n",
        "\n",
        "model = classifier.fit(train_df)"
      ],
      "metadata": {
        "id": "bpeWJJjUyEus"
      },
      "execution_count": 17,
      "outputs": []
    },
    {
      "cell_type": "code",
      "source": [
        "print(model.toDebugString)"
      ],
      "metadata": {
        "colab": {
          "base_uri": "https://localhost:8080/"
        },
        "id": "qE8_Nl8tyjy4",
        "outputId": "e55ce2e1-e5f5-446a-f728-35ef00c5fe80"
      },
      "execution_count": 18,
      "outputs": [
        {
          "output_type": "stream",
          "name": "stdout",
          "text": [
            "DecisionTreeClassificationModel: uid=DecisionTreeClassifier_7614bd0cbf3b, depth=5, numNodes=41, numClasses=23, numFeatures=41\n",
            "  If (feature 23 <= 65.5)\n",
            "   If (feature 28 <= 0.315)\n",
            "    If (feature 34 <= 0.16)\n",
            "     If (feature 3 in {1.0,2.0,4.0,6.0,7.0,8.0})\n",
            "      If (feature 35 <= 0.07500000000000001)\n",
            "       Predict: 1.0\n",
            "      Else (feature 35 > 0.07500000000000001)\n",
            "       Predict: 5.0\n",
            "     Else (feature 3 not in {1.0,2.0,4.0,6.0,7.0,8.0})\n",
            "      If (feature 4 <= 6.5)\n",
            "       Predict: 3.0\n",
            "      Else (feature 4 > 6.5)\n",
            "       Predict: 2.0\n",
            "    Else (feature 34 > 0.16)\n",
            "     If (feature 4 <= 7.5)\n",
            "      If (feature 29 <= 0.635)\n",
            "       Predict: 5.0\n",
            "      Else (feature 29 > 0.635)\n",
            "       Predict: 3.0\n",
            "     Else (feature 4 > 7.5)\n",
            "      If (feature 22 <= 28.5)\n",
            "       Predict: 2.0\n",
            "      Else (feature 22 > 28.5)\n",
            "       Predict: 9.0\n",
            "   Else (feature 28 > 0.315)\n",
            "    If (feature 36 <= 0.45)\n",
            "     If (feature 3 in {0.0,2.0,5.0,6.0,8.0})\n",
            "      If (feature 34 <= 0.92)\n",
            "       Predict: 2.0\n",
            "      Else (feature 34 > 0.92)\n",
            "       Predict: 5.0\n",
            "     Else (feature 3 not in {0.0,2.0,5.0,6.0,8.0})\n",
            "      If (feature 37 <= 0.62)\n",
            "       Predict: 5.0\n",
            "      Else (feature 37 > 0.62)\n",
            "       Predict: 1.0\n",
            "    Else (feature 36 > 0.45)\n",
            "     If (feature 2 in {1.0,3.0,5.0,7.0,9.0,12.0,14.0,15.0,16.0,18.0,19.0,20.0,21.0,22.0,23.0,25.0,26.0,27.0})\n",
            "      If (feature 4 <= 18.5)\n",
            "       Predict: 4.0\n",
            "      Else (feature 4 > 18.5)\n",
            "       Predict: 2.0\n",
            "     Else (feature 2 not in {1.0,3.0,5.0,7.0,9.0,12.0,14.0,15.0,16.0,18.0,19.0,20.0,21.0,22.0,23.0,25.0,26.0,27.0})\n",
            "      If (feature 7 <= 0.5)\n",
            "       Predict: 2.0\n",
            "      Else (feature 7 > 0.5)\n",
            "       Predict: 10.0\n",
            "  Else (feature 23 > 65.5)\n",
            "   If (feature 4 <= 518.0)\n",
            "    If (feature 2 in {0.0,2.0,4.0,5.0})\n",
            "     Predict: 2.0\n",
            "    Else (feature 2 not in {0.0,2.0,4.0,5.0})\n",
            "     If (feature 4 <= 3.5)\n",
            "      If (feature 1 in {1.0})\n",
            "       Predict: 15.0\n",
            "      Else (feature 1 not in {1.0})\n",
            "       Predict: 3.0\n",
            "     Else (feature 4 > 3.5)\n",
            "      Predict: 9.0\n",
            "   Else (feature 4 > 518.0)\n",
            "    Predict: 0.0\n",
            "\n"
          ]
        }
      ]
    },
    {
      "cell_type": "code",
      "source": [
        "import pandas as pd\n",
        "\n",
        "pd.DataFrame(\n",
        "    model.featureImportances.toArray(),\n",
        "    index=input_cols,\n",
        "    columns=['importance']\n",
        ").sort_values(by='importance', ascending=False)"
      ],
      "metadata": {
        "colab": {
          "base_uri": "https://localhost:8080/",
          "height": 1000
        },
        "id": "H2VyrV4-y12h",
        "outputId": "633fe238-556c-48f5-cb4c-3dbcfd8e664b"
      },
      "execution_count": 19,
      "outputs": [
        {
          "output_type": "execute_result",
          "data": {
            "text/plain": [
              "                             importance\n",
              "srv_count                      0.615878\n",
              "same_srv_rate                  0.338573\n",
              "src_bytes                      0.013365\n",
              "dst_host_diff_srv_rate         0.011713\n",
              "flag_index                     0.009436\n",
              "dst_host_srv_diff_host_rate    0.006831\n",
              "dst_host_serror_rate           0.002820\n",
              "service_index                  0.000912\n",
              "diff_srv_rate                  0.000279\n",
              "dst_host_same_src_port_rate    0.000100\n",
              "wrong_fragment                 0.000059\n",
              "count                          0.000028\n",
              "protocol_type_index            0.000004\n",
              "srv_serror_rate                0.000000\n",
              "rerror_rate                    0.000000\n",
              "srv_rerror_rate                0.000000\n",
              "duration                       0.000000\n",
              "srv_diff_host_rate             0.000000\n",
              "dst_host_count                 0.000000\n",
              "dst_host_srv_count             0.000000\n",
              "serror_rate                    0.000000\n",
              "dst_host_srv_serror_rate       0.000000\n",
              "dst_host_rerror_rate           0.000000\n",
              "dst_host_same_srv_rate         0.000000\n",
              "is_host_login                  0.000000\n",
              "is_guest_login                 0.000000\n",
              "num_outbound_cmds              0.000000\n",
              "num_access_files               0.000000\n",
              "num_shells                     0.000000\n",
              "num_file_creations             0.000000\n",
              "num_root                       0.000000\n",
              "su_attempted                   0.000000\n",
              "root_shell                     0.000000\n",
              "num_compromised                0.000000\n",
              "logged_in                      0.000000\n",
              "num_failed_logins              0.000000\n",
              "hot                            0.000000\n",
              "urgent                         0.000000\n",
              "land                           0.000000\n",
              "dst_bytes                      0.000000\n",
              "dst_host_srv_rerror_rate       0.000000"
            ],
            "text/html": [
              "\n",
              "  <div id=\"df-9348287b-cf3b-4274-902c-791e7b210b13\" class=\"colab-df-container\">\n",
              "    <div>\n",
              "<style scoped>\n",
              "    .dataframe tbody tr th:only-of-type {\n",
              "        vertical-align: middle;\n",
              "    }\n",
              "\n",
              "    .dataframe tbody tr th {\n",
              "        vertical-align: top;\n",
              "    }\n",
              "\n",
              "    .dataframe thead th {\n",
              "        text-align: right;\n",
              "    }\n",
              "</style>\n",
              "<table border=\"1\" class=\"dataframe\">\n",
              "  <thead>\n",
              "    <tr style=\"text-align: right;\">\n",
              "      <th></th>\n",
              "      <th>importance</th>\n",
              "    </tr>\n",
              "  </thead>\n",
              "  <tbody>\n",
              "    <tr>\n",
              "      <th>srv_count</th>\n",
              "      <td>0.615878</td>\n",
              "    </tr>\n",
              "    <tr>\n",
              "      <th>same_srv_rate</th>\n",
              "      <td>0.338573</td>\n",
              "    </tr>\n",
              "    <tr>\n",
              "      <th>src_bytes</th>\n",
              "      <td>0.013365</td>\n",
              "    </tr>\n",
              "    <tr>\n",
              "      <th>dst_host_diff_srv_rate</th>\n",
              "      <td>0.011713</td>\n",
              "    </tr>\n",
              "    <tr>\n",
              "      <th>flag_index</th>\n",
              "      <td>0.009436</td>\n",
              "    </tr>\n",
              "    <tr>\n",
              "      <th>dst_host_srv_diff_host_rate</th>\n",
              "      <td>0.006831</td>\n",
              "    </tr>\n",
              "    <tr>\n",
              "      <th>dst_host_serror_rate</th>\n",
              "      <td>0.002820</td>\n",
              "    </tr>\n",
              "    <tr>\n",
              "      <th>service_index</th>\n",
              "      <td>0.000912</td>\n",
              "    </tr>\n",
              "    <tr>\n",
              "      <th>diff_srv_rate</th>\n",
              "      <td>0.000279</td>\n",
              "    </tr>\n",
              "    <tr>\n",
              "      <th>dst_host_same_src_port_rate</th>\n",
              "      <td>0.000100</td>\n",
              "    </tr>\n",
              "    <tr>\n",
              "      <th>wrong_fragment</th>\n",
              "      <td>0.000059</td>\n",
              "    </tr>\n",
              "    <tr>\n",
              "      <th>count</th>\n",
              "      <td>0.000028</td>\n",
              "    </tr>\n",
              "    <tr>\n",
              "      <th>protocol_type_index</th>\n",
              "      <td>0.000004</td>\n",
              "    </tr>\n",
              "    <tr>\n",
              "      <th>srv_serror_rate</th>\n",
              "      <td>0.000000</td>\n",
              "    </tr>\n",
              "    <tr>\n",
              "      <th>rerror_rate</th>\n",
              "      <td>0.000000</td>\n",
              "    </tr>\n",
              "    <tr>\n",
              "      <th>srv_rerror_rate</th>\n",
              "      <td>0.000000</td>\n",
              "    </tr>\n",
              "    <tr>\n",
              "      <th>duration</th>\n",
              "      <td>0.000000</td>\n",
              "    </tr>\n",
              "    <tr>\n",
              "      <th>srv_diff_host_rate</th>\n",
              "      <td>0.000000</td>\n",
              "    </tr>\n",
              "    <tr>\n",
              "      <th>dst_host_count</th>\n",
              "      <td>0.000000</td>\n",
              "    </tr>\n",
              "    <tr>\n",
              "      <th>dst_host_srv_count</th>\n",
              "      <td>0.000000</td>\n",
              "    </tr>\n",
              "    <tr>\n",
              "      <th>serror_rate</th>\n",
              "      <td>0.000000</td>\n",
              "    </tr>\n",
              "    <tr>\n",
              "      <th>dst_host_srv_serror_rate</th>\n",
              "      <td>0.000000</td>\n",
              "    </tr>\n",
              "    <tr>\n",
              "      <th>dst_host_rerror_rate</th>\n",
              "      <td>0.000000</td>\n",
              "    </tr>\n",
              "    <tr>\n",
              "      <th>dst_host_same_srv_rate</th>\n",
              "      <td>0.000000</td>\n",
              "    </tr>\n",
              "    <tr>\n",
              "      <th>is_host_login</th>\n",
              "      <td>0.000000</td>\n",
              "    </tr>\n",
              "    <tr>\n",
              "      <th>is_guest_login</th>\n",
              "      <td>0.000000</td>\n",
              "    </tr>\n",
              "    <tr>\n",
              "      <th>num_outbound_cmds</th>\n",
              "      <td>0.000000</td>\n",
              "    </tr>\n",
              "    <tr>\n",
              "      <th>num_access_files</th>\n",
              "      <td>0.000000</td>\n",
              "    </tr>\n",
              "    <tr>\n",
              "      <th>num_shells</th>\n",
              "      <td>0.000000</td>\n",
              "    </tr>\n",
              "    <tr>\n",
              "      <th>num_file_creations</th>\n",
              "      <td>0.000000</td>\n",
              "    </tr>\n",
              "    <tr>\n",
              "      <th>num_root</th>\n",
              "      <td>0.000000</td>\n",
              "    </tr>\n",
              "    <tr>\n",
              "      <th>su_attempted</th>\n",
              "      <td>0.000000</td>\n",
              "    </tr>\n",
              "    <tr>\n",
              "      <th>root_shell</th>\n",
              "      <td>0.000000</td>\n",
              "    </tr>\n",
              "    <tr>\n",
              "      <th>num_compromised</th>\n",
              "      <td>0.000000</td>\n",
              "    </tr>\n",
              "    <tr>\n",
              "      <th>logged_in</th>\n",
              "      <td>0.000000</td>\n",
              "    </tr>\n",
              "    <tr>\n",
              "      <th>num_failed_logins</th>\n",
              "      <td>0.000000</td>\n",
              "    </tr>\n",
              "    <tr>\n",
              "      <th>hot</th>\n",
              "      <td>0.000000</td>\n",
              "    </tr>\n",
              "    <tr>\n",
              "      <th>urgent</th>\n",
              "      <td>0.000000</td>\n",
              "    </tr>\n",
              "    <tr>\n",
              "      <th>land</th>\n",
              "      <td>0.000000</td>\n",
              "    </tr>\n",
              "    <tr>\n",
              "      <th>dst_bytes</th>\n",
              "      <td>0.000000</td>\n",
              "    </tr>\n",
              "    <tr>\n",
              "      <th>dst_host_srv_rerror_rate</th>\n",
              "      <td>0.000000</td>\n",
              "    </tr>\n",
              "  </tbody>\n",
              "</table>\n",
              "</div>\n",
              "    <div class=\"colab-df-buttons\">\n",
              "\n",
              "  <div class=\"colab-df-container\">\n",
              "    <button class=\"colab-df-convert\" onclick=\"convertToInteractive('df-9348287b-cf3b-4274-902c-791e7b210b13')\"\n",
              "            title=\"Convert this dataframe to an interactive table.\"\n",
              "            style=\"display:none;\">\n",
              "\n",
              "  <svg xmlns=\"http://www.w3.org/2000/svg\" height=\"24px\" viewBox=\"0 -960 960 960\">\n",
              "    <path d=\"M120-120v-720h720v720H120Zm60-500h600v-160H180v160Zm220 220h160v-160H400v160Zm0 220h160v-160H400v160ZM180-400h160v-160H180v160Zm440 0h160v-160H620v160ZM180-180h160v-160H180v160Zm440 0h160v-160H620v160Z\"/>\n",
              "  </svg>\n",
              "    </button>\n",
              "\n",
              "  <style>\n",
              "    .colab-df-container {\n",
              "      display:flex;\n",
              "      gap: 12px;\n",
              "    }\n",
              "\n",
              "    .colab-df-convert {\n",
              "      background-color: #E8F0FE;\n",
              "      border: none;\n",
              "      border-radius: 50%;\n",
              "      cursor: pointer;\n",
              "      display: none;\n",
              "      fill: #1967D2;\n",
              "      height: 32px;\n",
              "      padding: 0 0 0 0;\n",
              "      width: 32px;\n",
              "    }\n",
              "\n",
              "    .colab-df-convert:hover {\n",
              "      background-color: #E2EBFA;\n",
              "      box-shadow: 0px 1px 2px rgba(60, 64, 67, 0.3), 0px 1px 3px 1px rgba(60, 64, 67, 0.15);\n",
              "      fill: #174EA6;\n",
              "    }\n",
              "\n",
              "    .colab-df-buttons div {\n",
              "      margin-bottom: 4px;\n",
              "    }\n",
              "\n",
              "    [theme=dark] .colab-df-convert {\n",
              "      background-color: #3B4455;\n",
              "      fill: #D2E3FC;\n",
              "    }\n",
              "\n",
              "    [theme=dark] .colab-df-convert:hover {\n",
              "      background-color: #434B5C;\n",
              "      box-shadow: 0px 1px 3px 1px rgba(0, 0, 0, 0.15);\n",
              "      filter: drop-shadow(0px 1px 2px rgba(0, 0, 0, 0.3));\n",
              "      fill: #FFFFFF;\n",
              "    }\n",
              "  </style>\n",
              "\n",
              "    <script>\n",
              "      const buttonEl =\n",
              "        document.querySelector('#df-9348287b-cf3b-4274-902c-791e7b210b13 button.colab-df-convert');\n",
              "      buttonEl.style.display =\n",
              "        google.colab.kernel.accessAllowed ? 'block' : 'none';\n",
              "\n",
              "      async function convertToInteractive(key) {\n",
              "        const element = document.querySelector('#df-9348287b-cf3b-4274-902c-791e7b210b13');\n",
              "        const dataTable =\n",
              "          await google.colab.kernel.invokeFunction('convertToInteractive',\n",
              "                                                    [key], {});\n",
              "        if (!dataTable) return;\n",
              "\n",
              "        const docLinkHtml = 'Like what you see? Visit the ' +\n",
              "          '<a target=\"_blank\" href=https://colab.research.google.com/notebooks/data_table.ipynb>data table notebook</a>'\n",
              "          + ' to learn more about interactive tables.';\n",
              "        element.innerHTML = '';\n",
              "        dataTable['output_type'] = 'display_data';\n",
              "        await google.colab.output.renderOutput(dataTable, element);\n",
              "        const docLink = document.createElement('div');\n",
              "        docLink.innerHTML = docLinkHtml;\n",
              "        element.appendChild(docLink);\n",
              "      }\n",
              "    </script>\n",
              "  </div>\n",
              "\n",
              "\n",
              "<div id=\"df-248643ef-6fe0-458f-bbbd-38202b6cfe9f\">\n",
              "  <button class=\"colab-df-quickchart\" onclick=\"quickchart('df-248643ef-6fe0-458f-bbbd-38202b6cfe9f')\"\n",
              "            title=\"Suggest charts\"\n",
              "            style=\"display:none;\">\n",
              "\n",
              "<svg xmlns=\"http://www.w3.org/2000/svg\" height=\"24px\"viewBox=\"0 0 24 24\"\n",
              "     width=\"24px\">\n",
              "    <g>\n",
              "        <path d=\"M19 3H5c-1.1 0-2 .9-2 2v14c0 1.1.9 2 2 2h14c1.1 0 2-.9 2-2V5c0-1.1-.9-2-2-2zM9 17H7v-7h2v7zm4 0h-2V7h2v10zm4 0h-2v-4h2v4z\"/>\n",
              "    </g>\n",
              "</svg>\n",
              "  </button>\n",
              "\n",
              "<style>\n",
              "  .colab-df-quickchart {\n",
              "      --bg-color: #E8F0FE;\n",
              "      --fill-color: #1967D2;\n",
              "      --hover-bg-color: #E2EBFA;\n",
              "      --hover-fill-color: #174EA6;\n",
              "      --disabled-fill-color: #AAA;\n",
              "      --disabled-bg-color: #DDD;\n",
              "  }\n",
              "\n",
              "  [theme=dark] .colab-df-quickchart {\n",
              "      --bg-color: #3B4455;\n",
              "      --fill-color: #D2E3FC;\n",
              "      --hover-bg-color: #434B5C;\n",
              "      --hover-fill-color: #FFFFFF;\n",
              "      --disabled-bg-color: #3B4455;\n",
              "      --disabled-fill-color: #666;\n",
              "  }\n",
              "\n",
              "  .colab-df-quickchart {\n",
              "    background-color: var(--bg-color);\n",
              "    border: none;\n",
              "    border-radius: 50%;\n",
              "    cursor: pointer;\n",
              "    display: none;\n",
              "    fill: var(--fill-color);\n",
              "    height: 32px;\n",
              "    padding: 0;\n",
              "    width: 32px;\n",
              "  }\n",
              "\n",
              "  .colab-df-quickchart:hover {\n",
              "    background-color: var(--hover-bg-color);\n",
              "    box-shadow: 0 1px 2px rgba(60, 64, 67, 0.3), 0 1px 3px 1px rgba(60, 64, 67, 0.15);\n",
              "    fill: var(--button-hover-fill-color);\n",
              "  }\n",
              "\n",
              "  .colab-df-quickchart-complete:disabled,\n",
              "  .colab-df-quickchart-complete:disabled:hover {\n",
              "    background-color: var(--disabled-bg-color);\n",
              "    fill: var(--disabled-fill-color);\n",
              "    box-shadow: none;\n",
              "  }\n",
              "\n",
              "  .colab-df-spinner {\n",
              "    border: 2px solid var(--fill-color);\n",
              "    border-color: transparent;\n",
              "    border-bottom-color: var(--fill-color);\n",
              "    animation:\n",
              "      spin 1s steps(1) infinite;\n",
              "  }\n",
              "\n",
              "  @keyframes spin {\n",
              "    0% {\n",
              "      border-color: transparent;\n",
              "      border-bottom-color: var(--fill-color);\n",
              "      border-left-color: var(--fill-color);\n",
              "    }\n",
              "    20% {\n",
              "      border-color: transparent;\n",
              "      border-left-color: var(--fill-color);\n",
              "      border-top-color: var(--fill-color);\n",
              "    }\n",
              "    30% {\n",
              "      border-color: transparent;\n",
              "      border-left-color: var(--fill-color);\n",
              "      border-top-color: var(--fill-color);\n",
              "      border-right-color: var(--fill-color);\n",
              "    }\n",
              "    40% {\n",
              "      border-color: transparent;\n",
              "      border-right-color: var(--fill-color);\n",
              "      border-top-color: var(--fill-color);\n",
              "    }\n",
              "    60% {\n",
              "      border-color: transparent;\n",
              "      border-right-color: var(--fill-color);\n",
              "    }\n",
              "    80% {\n",
              "      border-color: transparent;\n",
              "      border-right-color: var(--fill-color);\n",
              "      border-bottom-color: var(--fill-color);\n",
              "    }\n",
              "    90% {\n",
              "      border-color: transparent;\n",
              "      border-bottom-color: var(--fill-color);\n",
              "    }\n",
              "  }\n",
              "</style>\n",
              "\n",
              "  <script>\n",
              "    async function quickchart(key) {\n",
              "      const quickchartButtonEl =\n",
              "        document.querySelector('#' + key + ' button');\n",
              "      quickchartButtonEl.disabled = true;  // To prevent multiple clicks.\n",
              "      quickchartButtonEl.classList.add('colab-df-spinner');\n",
              "      try {\n",
              "        const charts = await google.colab.kernel.invokeFunction(\n",
              "            'suggestCharts', [key], {});\n",
              "      } catch (error) {\n",
              "        console.error('Error during call to suggestCharts:', error);\n",
              "      }\n",
              "      quickchartButtonEl.classList.remove('colab-df-spinner');\n",
              "      quickchartButtonEl.classList.add('colab-df-quickchart-complete');\n",
              "    }\n",
              "    (() => {\n",
              "      let quickchartButtonEl =\n",
              "        document.querySelector('#df-248643ef-6fe0-458f-bbbd-38202b6cfe9f button');\n",
              "      quickchartButtonEl.style.display =\n",
              "        google.colab.kernel.accessAllowed ? 'block' : 'none';\n",
              "    })();\n",
              "  </script>\n",
              "</div>\n",
              "\n",
              "    </div>\n",
              "  </div>\n"
            ],
            "application/vnd.google.colaboratory.intrinsic+json": {
              "type": "dataframe",
              "summary": "{\n  \"name\": \")\",\n  \"rows\": 41,\n  \"fields\": [\n    {\n      \"column\": \"importance\",\n      \"properties\": {\n        \"dtype\": \"number\",\n        \"std\": 0.10839832611192883,\n        \"min\": 0.0,\n        \"max\": 0.6158782144807331,\n        \"num_unique_values\": 14,\n        \"samples\": [\n          0.00010022656140754495,\n          2.8261477720721e-05,\n          0.6158782144807331\n        ],\n        \"semantic_type\": \"\",\n        \"description\": \"\"\n      }\n    }\n  ]\n}"
            }
          },
          "metadata": {},
          "execution_count": 19
        }
      ]
    },
    {
      "cell_type": "code",
      "source": [
        "predictions = model.transform(test_df)\n",
        "predictions.select('label_index', 'prediction', 'probability').show(5)"
      ],
      "metadata": {
        "colab": {
          "base_uri": "https://localhost:8080/"
        },
        "id": "wAXRlA8BzJBB",
        "outputId": "e385b804-2df1-47b1-b273-76cf2fe91b0d"
      },
      "execution_count": 20,
      "outputs": [
        {
          "output_type": "stream",
          "name": "stdout",
          "text": [
            "+-----------+----------+--------------------+\n",
            "|label_index|prediction|         probability|\n",
            "+-----------+----------+--------------------+\n",
            "|        2.0|       5.0|[0.0,6.8662455369...|\n",
            "|        2.0|       5.0|[0.0,6.8662455369...|\n",
            "|        2.0|       5.0|[0.0,6.8662455369...|\n",
            "|        2.0|       5.0|[0.0,6.8662455369...|\n",
            "|        2.0|       5.0|[0.0,6.8662455369...|\n",
            "+-----------+----------+--------------------+\n",
            "only showing top 5 rows\n",
            "\n"
          ]
        }
      ]
    },
    {
      "cell_type": "markdown",
      "source": [
        "### Evaluate Outputs"
      ],
      "metadata": {
        "id": "wAZtg9u83tS1"
      }
    },
    {
      "cell_type": "code",
      "source": [
        "from pyspark.ml.evaluation import MulticlassClassificationEvaluator\n",
        "\n",
        "evaluator = MulticlassClassificationEvaluator(\n",
        "    labelCol='label_index',\n",
        "    predictionCol='prediction'\n",
        ")\n",
        "\n",
        "acc = evaluator.setMetricName('accuracy').evaluate(predictions)\n",
        "f1 = evaluator.setMetricName('f1').evaluate(predictions)\n",
        "\n",
        "print('Accuracy: ', round(acc * 100, 2))\n",
        "print('F1 Score: ', round(f1 * 100, 2))"
      ],
      "metadata": {
        "colab": {
          "base_uri": "https://localhost:8080/"
        },
        "id": "JeqRQYVQzfor",
        "outputId": "f4edc6e5-148f-4b68-a2df-8488c59740da"
      },
      "execution_count": 21,
      "outputs": [
        {
          "output_type": "stream",
          "name": "stdout",
          "text": [
            "Accuracy:  99.75\n",
            "F1 Score:  99.7\n"
          ]
        }
      ]
    },
    {
      "cell_type": "markdown",
      "source": [
        "### Hyperparameter Tuning"
      ],
      "metadata": {
        "id": "Xgz1KI0b3xAc"
      }
    },
    {
      "cell_type": "code",
      "source": [
        "from pyspark.ml.tuning import ParamGridBuilder\n",
        "\n",
        "classifier = DecisionTreeClassifier(\n",
        "    labelCol='label_index',\n",
        "    featuresCol='featureVector',\n",
        "    predictionCol='prediction',\n",
        ")\n",
        "\n",
        "paramGrid = ParamGridBuilder().\\\n",
        "    addGrid(classifier.impurity, ['gini', 'entropy']).\\\n",
        "    addGrid(classifier.maxDepth, [1, 5, 10, 20]).\\\n",
        "    addGrid(classifier.maxBins, [100, 200]).\\\n",
        "    addGrid(classifier.minInfoGain, [0.0, 0.05, 0.1, 0.5]).\\\n",
        "    build()\n",
        "\n",
        "evaluator = MulticlassClassificationEvaluator(\n",
        "    labelCol='label_index',\n",
        "    predictionCol='prediction',\n",
        "    metricName='accuracy'\n",
        ")"
      ],
      "metadata": {
        "id": "tvGAgwgdz66f"
      },
      "execution_count": null,
      "outputs": []
    },
    {
      "cell_type": "code",
      "source": [
        "from pyspark.ml.tuning import TrainValidationSplit\n",
        "\n",
        "validator = TrainValidationSplit(\n",
        "    estimator=classifier,\n",
        "    evaluator=evaluator,\n",
        "    estimatorParamMaps=paramGrid\n",
        ")\n",
        "\n",
        "validator_model = validator.fit(train_df)"
      ],
      "metadata": {
        "id": "elcdye8n4I1M"
      },
      "execution_count": null,
      "outputs": []
    },
    {
      "cell_type": "code",
      "source": [
        "best_model = validator_model.bestModel\n",
        "\n",
        "print('Best Parameters: ')\n",
        "print('\\tImpurity: ', best_model.getImpurity())\n",
        "print('\\tMax Depth: ', best_model.getMaxDepth())\n",
        "print('\\tMax Bins: ', best_model.getMaxBins())\n",
        "print('\\tMin Info Gain: ', best_model.getMinInfoGain())"
      ],
      "metadata": {
        "id": "DoLujt8F5e2D"
      },
      "execution_count": null,
      "outputs": []
    },
    {
      "cell_type": "code",
      "source": [
        "predictions = best_model.transform(test_df)\n",
        "predictions.select('income_index', 'prediction', 'probability').show(5)"
      ],
      "metadata": {
        "id": "-rV57m624I3l"
      },
      "execution_count": null,
      "outputs": []
    },
    {
      "cell_type": "code",
      "source": [
        "acc = evaluator.setMetricName('accuracy').evaluate(predictions)\n",
        "f1 = evaluator.setMetricName('f1').evaluate(predictions)\n",
        "\n",
        "print('Accuracy: ', round(acc * 100, 2))\n",
        "print('F1 Score: ', round(f1 * 100, 2))"
      ],
      "metadata": {
        "id": "xsPzFr3A4I7B"
      },
      "execution_count": null,
      "outputs": []
    },
    {
      "cell_type": "markdown",
      "source": [
        "## Random Forests"
      ],
      "metadata": {
        "id": "qGPNl1cv31Kh"
      }
    },
    {
      "cell_type": "code",
      "source": [
        "from pyspark.ml.classification import RandomForestClassifier\n",
        "\n",
        "classifier = RandomForestClassifier(\n",
        "    labelCol='label_index',\n",
        "    featuresCol='featureVector',\n",
        "    predictionCol='prediction',\n",
        "    maxBins=100\n",
        ")\n",
        "\n",
        "model = classifier.fit(train_df)"
      ],
      "metadata": {
        "id": "EDbL2L6_1KxF"
      },
      "execution_count": 22,
      "outputs": []
    },
    {
      "cell_type": "code",
      "source": [
        "pd.DataFrame(\n",
        "    model.featureImportances.toArray(),\n",
        "    index=input_cols,\n",
        "    columns=['importance']\n",
        ").sort_values(by='importance', ascending=False)"
      ],
      "metadata": {
        "colab": {
          "base_uri": "https://localhost:8080/",
          "height": 1000
        },
        "id": "_LGq9lTY1KxF",
        "outputId": "0721e42e-9d6c-4d61-905a-1eab19dc76af"
      },
      "execution_count": 23,
      "outputs": [
        {
          "output_type": "execute_result",
          "data": {
            "text/plain": [
              "                               importance\n",
              "dst_host_same_src_port_rate  1.797296e-01\n",
              "same_srv_rate                1.594905e-01\n",
              "count                        1.233215e-01\n",
              "srv_count                    9.303557e-02\n",
              "protocol_type_index          9.124643e-02\n",
              "service_index                9.086988e-02\n",
              "diff_srv_rate                6.304451e-02\n",
              "src_bytes                    5.123403e-02\n",
              "dst_host_srv_count           4.578603e-02\n",
              "dst_host_diff_srv_rate       2.616706e-02\n",
              "dst_host_same_srv_rate       2.306006e-02\n",
              "serror_rate                  1.923092e-02\n",
              "dst_host_srv_serror_rate     1.184636e-02\n",
              "flag_index                   5.883224e-03\n",
              "duration                     3.166678e-03\n",
              "dst_bytes                    2.539053e-03\n",
              "dst_host_serror_rate         2.174810e-03\n",
              "dst_host_srv_diff_host_rate  1.907909e-03\n",
              "dst_host_count               1.620467e-03\n",
              "srv_serror_rate              1.258055e-03\n",
              "rerror_rate                  1.148523e-03\n",
              "dst_host_rerror_rate         6.388002e-04\n",
              "dst_host_srv_rerror_rate     5.203204e-04\n",
              "srv_rerror_rate              4.388819e-04\n",
              "srv_diff_host_rate           2.632651e-04\n",
              "num_compromised              1.780931e-04\n",
              "wrong_fragment               1.089593e-04\n",
              "hot                          8.887610e-05\n",
              "logged_in                    1.265366e-06\n",
              "num_file_creations           2.208698e-07\n",
              "num_root                     8.666444e-08\n",
              "num_failed_logins            4.404200e-08\n",
              "is_guest_login               0.000000e+00\n",
              "land                         0.000000e+00\n",
              "urgent                       0.000000e+00\n",
              "root_shell                   0.000000e+00\n",
              "num_outbound_cmds            0.000000e+00\n",
              "su_attempted                 0.000000e+00\n",
              "num_shells                   0.000000e+00\n",
              "num_access_files             0.000000e+00\n",
              "is_host_login                0.000000e+00"
            ],
            "text/html": [
              "\n",
              "  <div id=\"df-13ab18ab-82be-48ea-aa47-0237bf1e3be6\" class=\"colab-df-container\">\n",
              "    <div>\n",
              "<style scoped>\n",
              "    .dataframe tbody tr th:only-of-type {\n",
              "        vertical-align: middle;\n",
              "    }\n",
              "\n",
              "    .dataframe tbody tr th {\n",
              "        vertical-align: top;\n",
              "    }\n",
              "\n",
              "    .dataframe thead th {\n",
              "        text-align: right;\n",
              "    }\n",
              "</style>\n",
              "<table border=\"1\" class=\"dataframe\">\n",
              "  <thead>\n",
              "    <tr style=\"text-align: right;\">\n",
              "      <th></th>\n",
              "      <th>importance</th>\n",
              "    </tr>\n",
              "  </thead>\n",
              "  <tbody>\n",
              "    <tr>\n",
              "      <th>dst_host_same_src_port_rate</th>\n",
              "      <td>1.797296e-01</td>\n",
              "    </tr>\n",
              "    <tr>\n",
              "      <th>same_srv_rate</th>\n",
              "      <td>1.594905e-01</td>\n",
              "    </tr>\n",
              "    <tr>\n",
              "      <th>count</th>\n",
              "      <td>1.233215e-01</td>\n",
              "    </tr>\n",
              "    <tr>\n",
              "      <th>srv_count</th>\n",
              "      <td>9.303557e-02</td>\n",
              "    </tr>\n",
              "    <tr>\n",
              "      <th>protocol_type_index</th>\n",
              "      <td>9.124643e-02</td>\n",
              "    </tr>\n",
              "    <tr>\n",
              "      <th>service_index</th>\n",
              "      <td>9.086988e-02</td>\n",
              "    </tr>\n",
              "    <tr>\n",
              "      <th>diff_srv_rate</th>\n",
              "      <td>6.304451e-02</td>\n",
              "    </tr>\n",
              "    <tr>\n",
              "      <th>src_bytes</th>\n",
              "      <td>5.123403e-02</td>\n",
              "    </tr>\n",
              "    <tr>\n",
              "      <th>dst_host_srv_count</th>\n",
              "      <td>4.578603e-02</td>\n",
              "    </tr>\n",
              "    <tr>\n",
              "      <th>dst_host_diff_srv_rate</th>\n",
              "      <td>2.616706e-02</td>\n",
              "    </tr>\n",
              "    <tr>\n",
              "      <th>dst_host_same_srv_rate</th>\n",
              "      <td>2.306006e-02</td>\n",
              "    </tr>\n",
              "    <tr>\n",
              "      <th>serror_rate</th>\n",
              "      <td>1.923092e-02</td>\n",
              "    </tr>\n",
              "    <tr>\n",
              "      <th>dst_host_srv_serror_rate</th>\n",
              "      <td>1.184636e-02</td>\n",
              "    </tr>\n",
              "    <tr>\n",
              "      <th>flag_index</th>\n",
              "      <td>5.883224e-03</td>\n",
              "    </tr>\n",
              "    <tr>\n",
              "      <th>duration</th>\n",
              "      <td>3.166678e-03</td>\n",
              "    </tr>\n",
              "    <tr>\n",
              "      <th>dst_bytes</th>\n",
              "      <td>2.539053e-03</td>\n",
              "    </tr>\n",
              "    <tr>\n",
              "      <th>dst_host_serror_rate</th>\n",
              "      <td>2.174810e-03</td>\n",
              "    </tr>\n",
              "    <tr>\n",
              "      <th>dst_host_srv_diff_host_rate</th>\n",
              "      <td>1.907909e-03</td>\n",
              "    </tr>\n",
              "    <tr>\n",
              "      <th>dst_host_count</th>\n",
              "      <td>1.620467e-03</td>\n",
              "    </tr>\n",
              "    <tr>\n",
              "      <th>srv_serror_rate</th>\n",
              "      <td>1.258055e-03</td>\n",
              "    </tr>\n",
              "    <tr>\n",
              "      <th>rerror_rate</th>\n",
              "      <td>1.148523e-03</td>\n",
              "    </tr>\n",
              "    <tr>\n",
              "      <th>dst_host_rerror_rate</th>\n",
              "      <td>6.388002e-04</td>\n",
              "    </tr>\n",
              "    <tr>\n",
              "      <th>dst_host_srv_rerror_rate</th>\n",
              "      <td>5.203204e-04</td>\n",
              "    </tr>\n",
              "    <tr>\n",
              "      <th>srv_rerror_rate</th>\n",
              "      <td>4.388819e-04</td>\n",
              "    </tr>\n",
              "    <tr>\n",
              "      <th>srv_diff_host_rate</th>\n",
              "      <td>2.632651e-04</td>\n",
              "    </tr>\n",
              "    <tr>\n",
              "      <th>num_compromised</th>\n",
              "      <td>1.780931e-04</td>\n",
              "    </tr>\n",
              "    <tr>\n",
              "      <th>wrong_fragment</th>\n",
              "      <td>1.089593e-04</td>\n",
              "    </tr>\n",
              "    <tr>\n",
              "      <th>hot</th>\n",
              "      <td>8.887610e-05</td>\n",
              "    </tr>\n",
              "    <tr>\n",
              "      <th>logged_in</th>\n",
              "      <td>1.265366e-06</td>\n",
              "    </tr>\n",
              "    <tr>\n",
              "      <th>num_file_creations</th>\n",
              "      <td>2.208698e-07</td>\n",
              "    </tr>\n",
              "    <tr>\n",
              "      <th>num_root</th>\n",
              "      <td>8.666444e-08</td>\n",
              "    </tr>\n",
              "    <tr>\n",
              "      <th>num_failed_logins</th>\n",
              "      <td>4.404200e-08</td>\n",
              "    </tr>\n",
              "    <tr>\n",
              "      <th>is_guest_login</th>\n",
              "      <td>0.000000e+00</td>\n",
              "    </tr>\n",
              "    <tr>\n",
              "      <th>land</th>\n",
              "      <td>0.000000e+00</td>\n",
              "    </tr>\n",
              "    <tr>\n",
              "      <th>urgent</th>\n",
              "      <td>0.000000e+00</td>\n",
              "    </tr>\n",
              "    <tr>\n",
              "      <th>root_shell</th>\n",
              "      <td>0.000000e+00</td>\n",
              "    </tr>\n",
              "    <tr>\n",
              "      <th>num_outbound_cmds</th>\n",
              "      <td>0.000000e+00</td>\n",
              "    </tr>\n",
              "    <tr>\n",
              "      <th>su_attempted</th>\n",
              "      <td>0.000000e+00</td>\n",
              "    </tr>\n",
              "    <tr>\n",
              "      <th>num_shells</th>\n",
              "      <td>0.000000e+00</td>\n",
              "    </tr>\n",
              "    <tr>\n",
              "      <th>num_access_files</th>\n",
              "      <td>0.000000e+00</td>\n",
              "    </tr>\n",
              "    <tr>\n",
              "      <th>is_host_login</th>\n",
              "      <td>0.000000e+00</td>\n",
              "    </tr>\n",
              "  </tbody>\n",
              "</table>\n",
              "</div>\n",
              "    <div class=\"colab-df-buttons\">\n",
              "\n",
              "  <div class=\"colab-df-container\">\n",
              "    <button class=\"colab-df-convert\" onclick=\"convertToInteractive('df-13ab18ab-82be-48ea-aa47-0237bf1e3be6')\"\n",
              "            title=\"Convert this dataframe to an interactive table.\"\n",
              "            style=\"display:none;\">\n",
              "\n",
              "  <svg xmlns=\"http://www.w3.org/2000/svg\" height=\"24px\" viewBox=\"0 -960 960 960\">\n",
              "    <path d=\"M120-120v-720h720v720H120Zm60-500h600v-160H180v160Zm220 220h160v-160H400v160Zm0 220h160v-160H400v160ZM180-400h160v-160H180v160Zm440 0h160v-160H620v160ZM180-180h160v-160H180v160Zm440 0h160v-160H620v160Z\"/>\n",
              "  </svg>\n",
              "    </button>\n",
              "\n",
              "  <style>\n",
              "    .colab-df-container {\n",
              "      display:flex;\n",
              "      gap: 12px;\n",
              "    }\n",
              "\n",
              "    .colab-df-convert {\n",
              "      background-color: #E8F0FE;\n",
              "      border: none;\n",
              "      border-radius: 50%;\n",
              "      cursor: pointer;\n",
              "      display: none;\n",
              "      fill: #1967D2;\n",
              "      height: 32px;\n",
              "      padding: 0 0 0 0;\n",
              "      width: 32px;\n",
              "    }\n",
              "\n",
              "    .colab-df-convert:hover {\n",
              "      background-color: #E2EBFA;\n",
              "      box-shadow: 0px 1px 2px rgba(60, 64, 67, 0.3), 0px 1px 3px 1px rgba(60, 64, 67, 0.15);\n",
              "      fill: #174EA6;\n",
              "    }\n",
              "\n",
              "    .colab-df-buttons div {\n",
              "      margin-bottom: 4px;\n",
              "    }\n",
              "\n",
              "    [theme=dark] .colab-df-convert {\n",
              "      background-color: #3B4455;\n",
              "      fill: #D2E3FC;\n",
              "    }\n",
              "\n",
              "    [theme=dark] .colab-df-convert:hover {\n",
              "      background-color: #434B5C;\n",
              "      box-shadow: 0px 1px 3px 1px rgba(0, 0, 0, 0.15);\n",
              "      filter: drop-shadow(0px 1px 2px rgba(0, 0, 0, 0.3));\n",
              "      fill: #FFFFFF;\n",
              "    }\n",
              "  </style>\n",
              "\n",
              "    <script>\n",
              "      const buttonEl =\n",
              "        document.querySelector('#df-13ab18ab-82be-48ea-aa47-0237bf1e3be6 button.colab-df-convert');\n",
              "      buttonEl.style.display =\n",
              "        google.colab.kernel.accessAllowed ? 'block' : 'none';\n",
              "\n",
              "      async function convertToInteractive(key) {\n",
              "        const element = document.querySelector('#df-13ab18ab-82be-48ea-aa47-0237bf1e3be6');\n",
              "        const dataTable =\n",
              "          await google.colab.kernel.invokeFunction('convertToInteractive',\n",
              "                                                    [key], {});\n",
              "        if (!dataTable) return;\n",
              "\n",
              "        const docLinkHtml = 'Like what you see? Visit the ' +\n",
              "          '<a target=\"_blank\" href=https://colab.research.google.com/notebooks/data_table.ipynb>data table notebook</a>'\n",
              "          + ' to learn more about interactive tables.';\n",
              "        element.innerHTML = '';\n",
              "        dataTable['output_type'] = 'display_data';\n",
              "        await google.colab.output.renderOutput(dataTable, element);\n",
              "        const docLink = document.createElement('div');\n",
              "        docLink.innerHTML = docLinkHtml;\n",
              "        element.appendChild(docLink);\n",
              "      }\n",
              "    </script>\n",
              "  </div>\n",
              "\n",
              "\n",
              "<div id=\"df-2ddefd02-6d18-422c-a181-196c9a819d7f\">\n",
              "  <button class=\"colab-df-quickchart\" onclick=\"quickchart('df-2ddefd02-6d18-422c-a181-196c9a819d7f')\"\n",
              "            title=\"Suggest charts\"\n",
              "            style=\"display:none;\">\n",
              "\n",
              "<svg xmlns=\"http://www.w3.org/2000/svg\" height=\"24px\"viewBox=\"0 0 24 24\"\n",
              "     width=\"24px\">\n",
              "    <g>\n",
              "        <path d=\"M19 3H5c-1.1 0-2 .9-2 2v14c0 1.1.9 2 2 2h14c1.1 0 2-.9 2-2V5c0-1.1-.9-2-2-2zM9 17H7v-7h2v7zm4 0h-2V7h2v10zm4 0h-2v-4h2v4z\"/>\n",
              "    </g>\n",
              "</svg>\n",
              "  </button>\n",
              "\n",
              "<style>\n",
              "  .colab-df-quickchart {\n",
              "      --bg-color: #E8F0FE;\n",
              "      --fill-color: #1967D2;\n",
              "      --hover-bg-color: #E2EBFA;\n",
              "      --hover-fill-color: #174EA6;\n",
              "      --disabled-fill-color: #AAA;\n",
              "      --disabled-bg-color: #DDD;\n",
              "  }\n",
              "\n",
              "  [theme=dark] .colab-df-quickchart {\n",
              "      --bg-color: #3B4455;\n",
              "      --fill-color: #D2E3FC;\n",
              "      --hover-bg-color: #434B5C;\n",
              "      --hover-fill-color: #FFFFFF;\n",
              "      --disabled-bg-color: #3B4455;\n",
              "      --disabled-fill-color: #666;\n",
              "  }\n",
              "\n",
              "  .colab-df-quickchart {\n",
              "    background-color: var(--bg-color);\n",
              "    border: none;\n",
              "    border-radius: 50%;\n",
              "    cursor: pointer;\n",
              "    display: none;\n",
              "    fill: var(--fill-color);\n",
              "    height: 32px;\n",
              "    padding: 0;\n",
              "    width: 32px;\n",
              "  }\n",
              "\n",
              "  .colab-df-quickchart:hover {\n",
              "    background-color: var(--hover-bg-color);\n",
              "    box-shadow: 0 1px 2px rgba(60, 64, 67, 0.3), 0 1px 3px 1px rgba(60, 64, 67, 0.15);\n",
              "    fill: var(--button-hover-fill-color);\n",
              "  }\n",
              "\n",
              "  .colab-df-quickchart-complete:disabled,\n",
              "  .colab-df-quickchart-complete:disabled:hover {\n",
              "    background-color: var(--disabled-bg-color);\n",
              "    fill: var(--disabled-fill-color);\n",
              "    box-shadow: none;\n",
              "  }\n",
              "\n",
              "  .colab-df-spinner {\n",
              "    border: 2px solid var(--fill-color);\n",
              "    border-color: transparent;\n",
              "    border-bottom-color: var(--fill-color);\n",
              "    animation:\n",
              "      spin 1s steps(1) infinite;\n",
              "  }\n",
              "\n",
              "  @keyframes spin {\n",
              "    0% {\n",
              "      border-color: transparent;\n",
              "      border-bottom-color: var(--fill-color);\n",
              "      border-left-color: var(--fill-color);\n",
              "    }\n",
              "    20% {\n",
              "      border-color: transparent;\n",
              "      border-left-color: var(--fill-color);\n",
              "      border-top-color: var(--fill-color);\n",
              "    }\n",
              "    30% {\n",
              "      border-color: transparent;\n",
              "      border-left-color: var(--fill-color);\n",
              "      border-top-color: var(--fill-color);\n",
              "      border-right-color: var(--fill-color);\n",
              "    }\n",
              "    40% {\n",
              "      border-color: transparent;\n",
              "      border-right-color: var(--fill-color);\n",
              "      border-top-color: var(--fill-color);\n",
              "    }\n",
              "    60% {\n",
              "      border-color: transparent;\n",
              "      border-right-color: var(--fill-color);\n",
              "    }\n",
              "    80% {\n",
              "      border-color: transparent;\n",
              "      border-right-color: var(--fill-color);\n",
              "      border-bottom-color: var(--fill-color);\n",
              "    }\n",
              "    90% {\n",
              "      border-color: transparent;\n",
              "      border-bottom-color: var(--fill-color);\n",
              "    }\n",
              "  }\n",
              "</style>\n",
              "\n",
              "  <script>\n",
              "    async function quickchart(key) {\n",
              "      const quickchartButtonEl =\n",
              "        document.querySelector('#' + key + ' button');\n",
              "      quickchartButtonEl.disabled = true;  // To prevent multiple clicks.\n",
              "      quickchartButtonEl.classList.add('colab-df-spinner');\n",
              "      try {\n",
              "        const charts = await google.colab.kernel.invokeFunction(\n",
              "            'suggestCharts', [key], {});\n",
              "      } catch (error) {\n",
              "        console.error('Error during call to suggestCharts:', error);\n",
              "      }\n",
              "      quickchartButtonEl.classList.remove('colab-df-spinner');\n",
              "      quickchartButtonEl.classList.add('colab-df-quickchart-complete');\n",
              "    }\n",
              "    (() => {\n",
              "      let quickchartButtonEl =\n",
              "        document.querySelector('#df-2ddefd02-6d18-422c-a181-196c9a819d7f button');\n",
              "      quickchartButtonEl.style.display =\n",
              "        google.colab.kernel.accessAllowed ? 'block' : 'none';\n",
              "    })();\n",
              "  </script>\n",
              "</div>\n",
              "\n",
              "    </div>\n",
              "  </div>\n"
            ],
            "application/vnd.google.colaboratory.intrinsic+json": {
              "type": "dataframe",
              "summary": "{\n  \"name\": \")\",\n  \"rows\": 41,\n  \"fields\": [\n    {\n      \"column\": \"importance\",\n      \"properties\": {\n        \"dtype\": \"number\",\n        \"std\": 0.0459035086279656,\n        \"min\": 0.0,\n        \"max\": 0.17972959707416664,\n        \"num_unique_values\": 33,\n        \"samples\": [\n          4.40420018142407e-08,\n          0.002539053236527059,\n          0.00010895934838181249\n        ],\n        \"semantic_type\": \"\",\n        \"description\": \"\"\n      }\n    }\n  ]\n}"
            }
          },
          "metadata": {},
          "execution_count": 23
        }
      ]
    },
    {
      "cell_type": "code",
      "source": [
        "predictions = model.transform(test_df)\n",
        "predictions.select('label_index', 'prediction', 'probability').show(5)"
      ],
      "metadata": {
        "colab": {
          "base_uri": "https://localhost:8080/"
        },
        "id": "NKnzQMGD1KxF",
        "outputId": "e268c2ba-ab37-4b05-ba13-49fde8e48f6e"
      },
      "execution_count": 24,
      "outputs": [
        {
          "output_type": "stream",
          "name": "stdout",
          "text": [
            "+-----------+----------+--------------------+\n",
            "|label_index|prediction|         probability|\n",
            "+-----------+----------+--------------------+\n",
            "|        2.0|       2.0|[0.00127372791918...|\n",
            "|        2.0|       2.0|[0.00123814103855...|\n",
            "|        2.0|       2.0|[7.39955841850548...|\n",
            "|        2.0|       2.0|[0.00115888468411...|\n",
            "|        2.0|       2.0|[0.00115888468411...|\n",
            "+-----------+----------+--------------------+\n",
            "only showing top 5 rows\n",
            "\n"
          ]
        }
      ]
    },
    {
      "cell_type": "markdown",
      "source": [
        "### Evaluation"
      ],
      "metadata": {
        "id": "RzIUsU8j36Qs"
      }
    },
    {
      "cell_type": "code",
      "source": [
        "evaluator = MulticlassClassificationEvaluator(\n",
        "    labelCol='label_index',\n",
        "    predictionCol='prediction'\n",
        ")\n",
        "\n",
        "acc = evaluator.setMetricName('accuracy').evaluate(predictions)\n",
        "f1 = evaluator.setMetricName('f1').evaluate(predictions)\n",
        "\n",
        "print('Accuracy: ', round(acc * 100, 2))\n",
        "print('F1 Score: ', round(f1 * 100, 2))"
      ],
      "metadata": {
        "colab": {
          "base_uri": "https://localhost:8080/"
        },
        "id": "Z53ELXMD1KxF",
        "outputId": "3d5cbc78-7acf-4a86-da06-0b66c0d84132"
      },
      "execution_count": 25,
      "outputs": [
        {
          "output_type": "stream",
          "name": "stdout",
          "text": [
            "Accuracy:  99.74\n",
            "F1 Score:  99.68\n"
          ]
        }
      ]
    },
    {
      "cell_type": "markdown",
      "source": [
        "### HyperParameter Tuning"
      ],
      "metadata": {
        "id": "9EEC1lvI4Aop"
      }
    },
    {
      "cell_type": "code",
      "source": [
        "classifier = RandomForestClassifier(\n",
        "    labelCol='label_index',\n",
        "    featuresCol='featureVector',\n",
        "    predictionCol='prediction',\n",
        ")\n",
        "\n",
        "paramGrid = ParamGridBuilder().\\\n",
        "    addGrid(classifier.impurity, ['gini', 'entropy']).\\\n",
        "    addGrid(classifier.maxDepth, [1, 5, 10, 20]).\\\n",
        "    addGrid(classifier.maxBins, [50, 100, 200]).\\\n",
        "    addGrid(classifier.numTrees, [20, 50, 100]).\\\n",
        "    addGrid(classifier.minInfoGain, [0.0, 0.05, 0.1, 0.5]).\\\n",
        "    build()\n",
        "\n",
        "evaluator = MulticlassClassificationEvaluator(\n",
        "    labelCol='label_index',\n",
        "    predictionCol='prediction',\n",
        "    metricName='accuracy'\n",
        ")"
      ],
      "metadata": {
        "id": "ZxbKtF8G7DL-"
      },
      "execution_count": null,
      "outputs": []
    },
    {
      "cell_type": "code",
      "source": [
        "validator = TrainValidationSplit(\n",
        "    estimator=classifier,\n",
        "    evaluator=evaluator,\n",
        "    estimatorParamMaps=paramGrid\n",
        ")\n",
        "\n",
        "validator_model = validator.fit(train_df)"
      ],
      "metadata": {
        "id": "okSpKRIn7DMM"
      },
      "execution_count": null,
      "outputs": []
    },
    {
      "cell_type": "code",
      "source": [
        "best_model = validator_model.bestModel\n",
        "\n",
        "print('Best Parameters: ')\n",
        "print('\\tImpurity: ', best_model.getImpurity())\n",
        "print('\\tMax Depth: ', best_model.getMaxDepth())\n",
        "print('\\tMax Bins: ', best_model.getMaxBins())\n",
        "print('\\tNum Trees: ', best_model.getNumTrees)\n",
        "print('\\tMin Info Gain: ', best_model.getMinInfoGain())"
      ],
      "metadata": {
        "id": "e4E8uglT7DMN"
      },
      "execution_count": null,
      "outputs": []
    },
    {
      "cell_type": "code",
      "source": [
        "predictions = best_model.transform(test_df)\n",
        "predictions.select('income_index', 'prediction', 'probability').show(5)"
      ],
      "metadata": {
        "id": "I4WgdNfL7DMN"
      },
      "execution_count": null,
      "outputs": []
    },
    {
      "cell_type": "code",
      "source": [
        "acc = evaluator.setMetricName('accuracy').evaluate(predictions)\n",
        "f1 = evaluator.setMetricName('f1').evaluate(predictions)\n",
        "\n",
        "print('Accuracy: ', round(acc * 100, 2))\n",
        "print('F1 Score: ', round(f1 * 100, 2))"
      ],
      "metadata": {
        "id": "JyEW7Rci7DMO"
      },
      "execution_count": null,
      "outputs": []
    },
    {
      "cell_type": "code",
      "source": [],
      "metadata": {
        "id": "IspKZIPKG0NH"
      },
      "execution_count": null,
      "outputs": []
    }
  ]
}