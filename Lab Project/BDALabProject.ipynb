{
  "nbformat": 4,
  "nbformat_minor": 0,
  "metadata": {
    "colab": {
      "provenance": []
    },
    "kernelspec": {
      "display_name": "Python 3",
      "name": "python3"
    }
  },
  "cells": [
    {
      "cell_type": "markdown",
      "source": [
        "# Music Recommendation System using ALS Algorithm in PySpark\n",
        "\n",
        "#### For Big Data Lab by Ronan Lobo(210962004) and Gautam Bhagat(210962040)\n",
        "\n",
        "In this notebook, we will implement a music recommendation system using the Alternating Least Squares (ALS) algorithm in PySpark. ALS is a collaborative filtering algorithm that is commonly used for recommendation systems, particularly in scenarios where explicit feedback (ratings) is not available.\n",
        "\n",
        "## Introduction\n",
        "\n",
        "Music recommendation systems are essential for providing personalized recommendations to users based on their listening history and preferences. These systems analyze user interactions with music items such as listening history, likes, and dislikes to generate personalized recommendations.\n",
        "\n",
        "## Dataset\n",
        "\n",
        "For this project, we will use a dataset containing user interactions with music items. The dataset includes information such as user IDs, item IDs (music tracks), and any associated ratings or implicit feedback.\n",
        "\n",
        "## Implementation\n",
        "\n",
        "We will implement the recommendation system using PySpark, a powerful library for large-scale data processing. PySpark provides convenient APIs for distributed computing, making it suitable for handling large datasets efficiently.\n",
        "\n",
        "### Steps:\n",
        "\n",
        "1. **Data Preprocessing**: We will preprocess the dataset to handle missing values, clean the data, and prepare it for training.\n",
        "\n",
        "2. **Model Training**: Using the ALS algorithm provided by PySpark's MLlib library, we will train a recommendation model on the preprocessed data.\n",
        "\n",
        "3. **Model Evaluation**: We will evaluate the performance of the trained model using appropriate evaluation metrics to ensure its effectiveness.\n",
        "\n",
        "4. **Recommendation Generation**: Finally, we will use the trained model to generate personalized music recommendations for users based on their preferences and listening history.\n",
        "\n",
        "## Conclusion\n",
        "\n",
        "Music recommendation systems play a crucial role in enhancing user experience by providing personalized recommendations. By implementing a recommendation system using the ALS algorithm in PySpark, we can effectively generate relevant music recommendations for users, thereby improving user engagement and satisfaction.\n"
      ],
      "metadata": {
        "id": "jS3wlVmYAGnE"
      }
    },
    {
      "cell_type": "markdown",
      "source": [
        "## Mounting Google Drive in Google Colab\n",
        "\n",
        "To mount Google Drive in Google Colab, you can use the following code snippet. First, import the necessary module with `from google.colab import drive`. Then, execute `drive.mount('/content/drive')` to mount your Google Drive to the specified directory '/content/drive'.\n",
        "This allows seamless access to files and folders stored in the user's Google Drive directly within the Colab environment, facilitating easy integration of external data sources into Colab notebooks."
      ],
      "metadata": {
        "id": "0yUeHHicry2K"
      }
    },
    {
      "cell_type": "code",
      "source": [
        "from google.colab import drive\n",
        "drive.mount('/content/drive')"
      ],
      "metadata": {
        "colab": {
          "base_uri": "https://localhost:8080/"
        },
        "id": "DdCe4Q9wxRk9",
        "outputId": "be4fa67f-317c-4e86-fa82-1ec99a106285"
      },
      "execution_count": null,
      "outputs": [
        {
          "output_type": "stream",
          "name": "stdout",
          "text": [
            "Mounted at /content/drive\n"
          ]
        }
      ]
    },
    {
      "cell_type": "markdown",
      "metadata": {
        "id": "hMZ64UxxrMvL"
      },
      "source": [
        "## Installing PySpark\n",
        "\n",
        "After executing this code cell, PySpark will be installed and ready to use in the notebook environment. PySpark enables efficient distributed data processing using the Apache Spark framework, making it suitable for working with large-scale datasets and performing complex analytics tasks.\n"
      ]
    },
    {
      "cell_type": "code",
      "metadata": {
        "id": "Dal3Np2Imn8u",
        "colab": {
          "base_uri": "https://localhost:8080/"
        },
        "outputId": "daa186bb-55d3-48b4-be5e-902bff4ab016"
      },
      "source": [
        "!pip install pyspark --quiet"
      ],
      "execution_count": null,
      "outputs": [
        {
          "output_type": "stream",
          "name": "stdout",
          "text": [
            "\u001b[2K     \u001b[90m━━━━━━━━━━━━━━━━━━━━━━━━━━━━━━━━━━━━━━━━\u001b[0m \u001b[32m317.0/317.0 MB\u001b[0m \u001b[31m4.5 MB/s\u001b[0m eta \u001b[36m0:00:00\u001b[0m\n",
            "\u001b[?25h  Preparing metadata (setup.py) ... \u001b[?25l\u001b[?25hdone\n",
            "  Building wheel for pyspark (setup.py) ... \u001b[?25l\u001b[?25hdone\n"
          ]
        }
      ]
    },
    {
      "cell_type": "markdown",
      "metadata": {
        "id": "eK9D-CNgru_s"
      },
      "source": [
        "## PySpark Setup\n",
        "\n",
        "It's time to set up the PySpark environment for data analysis and machine learning tasks. Here's a quick overview:\n",
        "\n",
        "- **Importing Modules**: It imports necessary modules from PySpark, such as `SparkSession`, `functions`, `StringIndexer`, `ALS`, etc.\n",
        "- **Setting Up SparkSession**: `SparkSession` is initialized to interact with Spark functionality.\n",
        "- **Defining Functions**: Functions like `udf` are defined for custom operations.\n",
        "- **Setting up ML Pipeline**: It sets up a pipeline for machine learning tasks.\n",
        "- **ALS Recommendation Model**: `ALS` is imported for collaborative filtering based recommendation systems.\n",
        "- **Model Tuning**: It imports modules for model tuning using techniques like Train-Validation Split and Parameter Grid Builder.\n"
      ]
    },
    {
      "cell_type": "code",
      "metadata": {
        "id": "Z_cmzia9nA1W"
      },
      "source": [
        "from pyspark.sql import SparkSession\n",
        "from pyspark.sql.functions import count, desc, col, max, udf\n",
        "from pyspark.sql.types import StringType\n",
        "from pyspark.ml.feature import StringIndexer, IndexToString\n",
        "from pyspark.ml import Pipeline\n",
        "from pyspark.ml.recommendation import ALS\n",
        "from pyspark.ml.evaluation import RegressionEvaluator\n",
        "from pyspark.ml.tuning import TrainValidationSplit, ParamGridBuilder, CrossValidator"
      ],
      "execution_count": null,
      "outputs": []
    },
    {
      "cell_type": "markdown",
      "source": [
        "Matplotlib is a comprehensive plotting library in Python that enables users to create a wide range of high-quality static, interactive, and animated visualizations for data analysis and presentation. We will use it for the graphical presentations in this project.\n"
      ],
      "metadata": {
        "id": "6B7jlB9wBTin"
      }
    },
    {
      "cell_type": "code",
      "source": [
        "import matplotlib.pyplot as plt"
      ],
      "metadata": {
        "id": "IDPGhfrnvCWS"
      },
      "execution_count": null,
      "outputs": []
    },
    {
      "cell_type": "markdown",
      "source": [
        "## SparkSession Initialization\n",
        "\n",
        "Initialize a SparkSession named \"music_recommender\" using PySpark.\n",
        "\n",
        "- **SparkSession**: `SparkSession` is the entry point to Spark functionality in PySpark.\n",
        "- **Builder Pattern**: `SparkSession.builder` is used to create a builder object to configure the session.\n",
        "- **Setting Application Name**: `.appName(\"music_recommender\")` sets the name of the Spark application to \"music_recommender\".\n",
        "- **Creating Session**: `.getOrCreate()` method creates a new session or retrieves an existing one if available.\n",
        "\n",
        "This line of code is typically the first step in any PySpark application, providing the necessary environment for Spark operations.\n",
        "\n"
      ],
      "metadata": {
        "id": "I0vm794cBvwH"
      }
    },
    {
      "cell_type": "code",
      "metadata": {
        "id": "gvSzI0zMn4Hk"
      },
      "source": [
        "spark = SparkSession.builder.appName(\"music_recommender\").getOrCreate()"
      ],
      "execution_count": null,
      "outputs": []
    },
    {
      "cell_type": "markdown",
      "metadata": {
        "id": "KnyYdMVmnkp5"
      },
      "source": [
        "## Loading Data\n",
        "\n",
        "Load a CSV file containing listening data into a PySpark DataFrame.\n",
        "\n",
        "- **File Path**: `file_path` variable specifies the location of the CSV file.\n",
        "- **Reading CSV**: `spark.read.format('csv').option('header', True).option('inferSchema', True).load(file_path)` reads the CSV file into a DataFrame.\n",
        "  - `.format('csv')` specifies the format of the file.\n",
        "  - `.option('header', True)` indicates that the first row of the CSV contains column names.\n",
        "  - `.option('inferSchema', True)` automatically infers the data types of columns.\n",
        "  - `.load(file_path)` loads the data from the specified file path.\n",
        "- **Displaying Data**: `df_listenings.show()` displays the first few rows of the DataFrame.\n",
        "\n",
        "This code is used to quickly load and inspect data from a CSV file for further analysis in the PySpark environment.\n"
      ]
    },
    {
      "cell_type": "code",
      "metadata": {
        "id": "PywJeVgDngVd",
        "colab": {
          "base_uri": "https://localhost:8080/"
        },
        "outputId": "ffc39976-7fc3-463b-cf9c-ea5d6932ea05"
      },
      "source": [
        "file_path = '/content/drive/MyDrive/BDALabProject/dataset/listenings.csv'\n",
        "df_listenings = spark.read.format('csv').option('header', True).option('inferSchema', True).load(file_path)\n",
        "\n",
        "df_listenings.show()"
      ],
      "execution_count": null,
      "outputs": [
        {
          "output_type": "stream",
          "name": "stdout",
          "text": [
            "+-----------+-------------+--------------------+---------------+--------------------+\n",
            "|    user_id|         date|               track|         artist|               album|\n",
            "+-----------+-------------+--------------------+---------------+--------------------+\n",
            "|000Silenced|1299680100000|           Price Tag|       Jessie J|         Who You Are|\n",
            "|000Silenced|1299679920000|Price Tag (Acoust...|       Jessie J|           Price Tag|\n",
            "|000Silenced|1299679440000|Be Mine! (Ballad ...|          Robyn|            Be Mine!|\n",
            "|000Silenced|1299679200000|            Acapella|          Kelis|            Acapella|\n",
            "|000Silenced|1299675660000|   I'm Not Invisible|      The Tease|   I'm Not Invisible|\n",
            "|000Silenced|1297511400000|Bounce (Feat NORE...|       MSTRKRFT|         Fist of God|\n",
            "|000Silenced|1294498440000|Don't Stop The Mu...|        Rihanna|Addicted 2 Bassli...|\n",
            "|000Silenced|1292438340000|               ObZen|      Meshuggah|               ObZen|\n",
            "|000Silenced|1292437740000|   Yama's Messengers|         Gojira|The Way of All Flesh|\n",
            "|000Silenced|1292436360000|On the Brink of E...|   Napalm Death|Time Waits For No...|\n",
            "|000Silenced|1292436360000|On the Brink of E...|   Napalm Death|Time Waits For No...|\n",
            "|000Silenced|1292435940000|        In Deference|   Napalm Death|      Smear Campaign|\n",
            "|000Silenced|1292434920000|      Post(?)organic|    Decapitated|Organic Hallucinosis|\n",
            "|000Silenced|1292434560000|        Mind Feeders|   Dom & Roland| No Strings Attached|\n",
            "|000Silenced|1292434320000|Necrosadistic War...|Cannibal Corpse|                Kill|\n",
            "|000Silenced|1292365560000|     Dance All Night|   Dom & Roland|          Chronology|\n",
            "|000Silenced|1292365260000|          Late Night|   Dom & Roland|          Chronology|\n",
            "|000Silenced|1292365020000|          Freak Seen|   Dom & Roland|          Chronology|\n",
            "|000Silenced|1292364720000|Paradrenasite (Hi...|   Dom & Roland|          Chronology|\n",
            "|000Silenced|1292364300000|               Rhino|   Dom & Roland|          Chronology|\n",
            "+-----------+-------------+--------------------+---------------+--------------------+\n",
            "only showing top 20 rows\n",
            "\n"
          ]
        }
      ]
    },
    {
      "cell_type": "markdown",
      "source": [
        "The data information is not required for our project and can thus be dropped from the dataframe."
      ],
      "metadata": {
        "id": "haYV31TLCJ5N"
      }
    },
    {
      "cell_type": "code",
      "metadata": {
        "id": "N8luDo3HndTb",
        "colab": {
          "base_uri": "https://localhost:8080/"
        },
        "outputId": "223d734d-e8cf-49dc-b740-a14849012111"
      },
      "source": [
        "df_listenings = df_listenings.drop('date')\n",
        "df_listenings.show()"
      ],
      "execution_count": null,
      "outputs": [
        {
          "output_type": "stream",
          "name": "stdout",
          "text": [
            "+-----------+--------------------+---------------+--------------------+\n",
            "|    user_id|               track|         artist|               album|\n",
            "+-----------+--------------------+---------------+--------------------+\n",
            "|000Silenced|           Price Tag|       Jessie J|         Who You Are|\n",
            "|000Silenced|Price Tag (Acoust...|       Jessie J|           Price Tag|\n",
            "|000Silenced|Be Mine! (Ballad ...|          Robyn|            Be Mine!|\n",
            "|000Silenced|            Acapella|          Kelis|            Acapella|\n",
            "|000Silenced|   I'm Not Invisible|      The Tease|   I'm Not Invisible|\n",
            "|000Silenced|Bounce (Feat NORE...|       MSTRKRFT|         Fist of God|\n",
            "|000Silenced|Don't Stop The Mu...|        Rihanna|Addicted 2 Bassli...|\n",
            "|000Silenced|               ObZen|      Meshuggah|               ObZen|\n",
            "|000Silenced|   Yama's Messengers|         Gojira|The Way of All Flesh|\n",
            "|000Silenced|On the Brink of E...|   Napalm Death|Time Waits For No...|\n",
            "|000Silenced|On the Brink of E...|   Napalm Death|Time Waits For No...|\n",
            "|000Silenced|        In Deference|   Napalm Death|      Smear Campaign|\n",
            "|000Silenced|      Post(?)organic|    Decapitated|Organic Hallucinosis|\n",
            "|000Silenced|        Mind Feeders|   Dom & Roland| No Strings Attached|\n",
            "|000Silenced|Necrosadistic War...|Cannibal Corpse|                Kill|\n",
            "|000Silenced|     Dance All Night|   Dom & Roland|          Chronology|\n",
            "|000Silenced|          Late Night|   Dom & Roland|          Chronology|\n",
            "|000Silenced|          Freak Seen|   Dom & Roland|          Chronology|\n",
            "|000Silenced|Paradrenasite (Hi...|   Dom & Roland|          Chronology|\n",
            "|000Silenced|               Rhino|   Dom & Roland|          Chronology|\n",
            "+-----------+--------------------+---------------+--------------------+\n",
            "only showing top 20 rows\n",
            "\n"
          ]
        }
      ]
    },
    {
      "cell_type": "markdown",
      "source": [
        "## Handling Missing Values\n",
        "\n",
        "Remove rows with any missing values (NaNs) from the DataFrame `df_listenings`.\n",
        "\n",
        "- **Handling Missing Values**: `df_listenings.na.drop()` removes rows containing any missing values.\n",
        "\n",
        "This operation helps in ensuring data quality by excluding incomplete or unreliable records from the analysis.\n"
      ],
      "metadata": {
        "id": "gZOTD9X-CTS1"
      }
    },
    {
      "cell_type": "code",
      "metadata": {
        "id": "5rDadwmpowII",
        "colab": {
          "base_uri": "https://localhost:8080/"
        },
        "outputId": "368cf073-5d08-4800-bc30-ae54f2ad467a"
      },
      "source": [
        "df_listenings = df_listenings.na.drop()\n",
        "df_listenings.show()"
      ],
      "execution_count": null,
      "outputs": [
        {
          "output_type": "stream",
          "name": "stdout",
          "text": [
            "+-----------+--------------------+---------------+--------------------+\n",
            "|    user_id|               track|         artist|               album|\n",
            "+-----------+--------------------+---------------+--------------------+\n",
            "|000Silenced|           Price Tag|       Jessie J|         Who You Are|\n",
            "|000Silenced|Price Tag (Acoust...|       Jessie J|           Price Tag|\n",
            "|000Silenced|Be Mine! (Ballad ...|          Robyn|            Be Mine!|\n",
            "|000Silenced|            Acapella|          Kelis|            Acapella|\n",
            "|000Silenced|   I'm Not Invisible|      The Tease|   I'm Not Invisible|\n",
            "|000Silenced|Bounce (Feat NORE...|       MSTRKRFT|         Fist of God|\n",
            "|000Silenced|Don't Stop The Mu...|        Rihanna|Addicted 2 Bassli...|\n",
            "|000Silenced|               ObZen|      Meshuggah|               ObZen|\n",
            "|000Silenced|   Yama's Messengers|         Gojira|The Way of All Flesh|\n",
            "|000Silenced|On the Brink of E...|   Napalm Death|Time Waits For No...|\n",
            "|000Silenced|On the Brink of E...|   Napalm Death|Time Waits For No...|\n",
            "|000Silenced|        In Deference|   Napalm Death|      Smear Campaign|\n",
            "|000Silenced|      Post(?)organic|    Decapitated|Organic Hallucinosis|\n",
            "|000Silenced|        Mind Feeders|   Dom & Roland| No Strings Attached|\n",
            "|000Silenced|Necrosadistic War...|Cannibal Corpse|                Kill|\n",
            "|000Silenced|     Dance All Night|   Dom & Roland|          Chronology|\n",
            "|000Silenced|          Late Night|   Dom & Roland|          Chronology|\n",
            "|000Silenced|          Freak Seen|   Dom & Roland|          Chronology|\n",
            "|000Silenced|Paradrenasite (Hi...|   Dom & Roland|          Chronology|\n",
            "|000Silenced|               Rhino|   Dom & Roland|          Chronology|\n",
            "+-----------+--------------------+---------------+--------------------+\n",
            "only showing top 20 rows\n",
            "\n"
          ]
        }
      ]
    },
    {
      "cell_type": "markdown",
      "source": [
        "## Data Summary\n",
        "\n",
        "This code cell computes and displays summary statistics about the DataFrame `df_listenings`.\n",
        "\n",
        "- **Counting Data Points**: `row_count = df_listenings.count()` calculates the number of data points (rows) in the DataFrame.\n",
        "- **Counting Features**: `column_count = len(df_listenings.columns)` calculates the number of features (columns) in the DataFrame.\n",
        "- **Displaying Summary**: The code then prints the number of data points and features to the output.\n",
        "\n",
        "This summary provides a quick overview of the size and dimensions of the dataset, aiding in understanding its structure and scale."
      ],
      "metadata": {
        "id": "BtYwUzGbtrgH"
      }
    },
    {
      "cell_type": "code",
      "metadata": {
        "id": "UZr0ZxOVIYr9",
        "outputId": "7feceade-1341-4090-c437-2be6d4114708",
        "colab": {
          "base_uri": "https://localhost:8080/"
        }
      },
      "source": [
        "row_count = df_listenings.count()\n",
        "column_count = len(df_listenings.columns)\n",
        "\n",
        "print('Number of data points: ', row_count)\n",
        "print('Number of features: ', column_count)"
      ],
      "execution_count": null,
      "outputs": [
        {
          "output_type": "stream",
          "name": "stdout",
          "text": [
            "Number of data points:  13758905\n",
            "Number of features:  4\n"
          ]
        }
      ]
    },
    {
      "cell_type": "markdown",
      "source": [
        "## Caching DataFrame\n",
        "\n",
        "This code cell caches the DataFrame `df_listenings`, storing it in memory for faster access.\n",
        "\n",
        "- **Caching Data**: `df_listenings.cache()` caches the DataFrame in memory.\n",
        "  \n",
        "Caching is particularly useful for iterative algorithms or when you need to reuse the DataFrame multiple times within the same computation, as it avoids recomputation of the DataFrame each time it is accessed. However, it's essential to consider memory constraints when caching large datasets.\n"
      ],
      "metadata": {
        "id": "222Gk1oHL2Nm"
      }
    },
    {
      "cell_type": "code",
      "source": [
        "df_listenings = df_listenings.cache()"
      ],
      "metadata": {
        "id": "Z_Qb-dIcLxqf"
      },
      "execution_count": null,
      "outputs": []
    },
    {
      "cell_type": "markdown",
      "metadata": {
        "id": "nCVVWDvZC4sG"
      },
      "source": [
        "## Data Exploration\n",
        "\n",
        "The next few code cells extract the number of unique tracks, artists, and albums are present in the dataset.\n",
        "\n",
        "These provides insight into the diversity present in the dataset, which can be crucial for understanding user preferences or content popularity."
      ]
    },
    {
      "cell_type": "markdown",
      "source": [
        "- **Selecting Unique Tracks**: `tracks = df_listenings.select('track').distinct()` selects unique track names from the DataFrame."
      ],
      "metadata": {
        "id": "4ZJfYs_PDdA8"
      }
    },
    {
      "cell_type": "code",
      "source": [
        "tracks = df_listenings.select('track').distinct()\n",
        "tracks_count = tracks.count()\n",
        "\n",
        "print('Number of unique tracks: ', tracks_count)"
      ],
      "metadata": {
        "colab": {
          "base_uri": "https://localhost:8080/"
        },
        "id": "ZveJhhlANZzr",
        "outputId": "9c7fc6c6-8807-49d2-dd7e-a264b103779a"
      },
      "execution_count": null,
      "outputs": [
        {
          "output_type": "stream",
          "name": "stdout",
          "text": [
            "Number of unique tracks:  1455159\n"
          ]
        }
      ]
    },
    {
      "cell_type": "markdown",
      "source": [
        "- **Selecting Unique Artists**: `artists = df_listenings.select('artist').distinct()` selects unique artist names from the DataFrame."
      ],
      "metadata": {
        "id": "t7YjooHMDim8"
      }
    },
    {
      "cell_type": "code",
      "source": [
        "artists = df_listenings.select('artist').distinct()\n",
        "artists_count = artists.count()\n",
        "\n",
        "print('Number of unique artists: ', artists_count)"
      ],
      "metadata": {
        "colab": {
          "base_uri": "https://localhost:8080/"
        },
        "id": "6SFr4lCTNjhU",
        "outputId": "8eec0038-9d1f-43a7-aa27-f564511a9b97"
      },
      "execution_count": null,
      "outputs": [
        {
          "output_type": "stream",
          "name": "stdout",
          "text": [
            "Number of unique artists:  303661\n"
          ]
        }
      ]
    },
    {
      "cell_type": "markdown",
      "source": [
        "- **Selecting Unique Albums**: `albums = df_listenings.select('album').distinct()` selects unique album names from the DataFrame."
      ],
      "metadata": {
        "id": "UxXW9ipmDmSC"
      }
    },
    {
      "cell_type": "code",
      "source": [
        "albums = df_listenings.select('album').distinct()\n",
        "albums_count = albums.count()\n",
        "\n",
        "print('Number of unique albums: ', albums_count)"
      ],
      "metadata": {
        "colab": {
          "base_uri": "https://localhost:8080/"
        },
        "id": "1r8h17ynNjj3",
        "outputId": "eaa3f249-1fc2-4ebe-fdb4-fd5bba352415"
      },
      "execution_count": null,
      "outputs": [
        {
          "output_type": "stream",
          "name": "stdout",
          "text": [
            "Number of unique albums:  665441\n"
          ]
        }
      ]
    },
    {
      "cell_type": "markdown",
      "source": [
        "## Counting Actual Unique Tracks\n",
        "\n",
        "Extract unique combinations of track, artist, and album from the DataFrame `df_listenings`, considering all three attributes collectively, and count them.\n",
        "\n",
        "- **Selecting Unique Tracks**: `unique_tracks = df_listenings.select('track', 'artist', 'album').distinct().cache()` selects unique combinations of track, artist, and album from the DataFrame.\n",
        "\n",
        "This analysis provides a more comprehensive understanding of the diversity of tracks, considering not only the track name but also the associated artist and album since there could be multiple artists publishing tracks with the same names."
      ],
      "metadata": {
        "id": "F3ctv70ePE1f"
      }
    },
    {
      "cell_type": "code",
      "source": [
        "unique_tracks = df_listenings.select('track', 'artist', 'album').distinct().cache()\n",
        "unique_tracks_count = unique_tracks.count()\n",
        "\n",
        "print('Number of actual unique tracks: ', unique_tracks_count)"
      ],
      "metadata": {
        "colab": {
          "base_uri": "https://localhost:8080/"
        },
        "id": "485jKW2DNjmo",
        "outputId": "b7e4950f-d1d5-462f-ffba-bc12ed2c027d"
      },
      "execution_count": null,
      "outputs": [
        {
          "output_type": "stream",
          "name": "stdout",
          "text": [
            "Number of actual unique tracks:  2849915\n"
          ]
        }
      ]
    },
    {
      "cell_type": "code",
      "source": [
        "unique_tracks_save_path = '/content/drive/MyDrive/BDALabProject/Results/unique_tracks.csv'\n",
        "\n",
        "unique_tracks.toPandas().to_csv(unique_tracks_save_path)"
      ],
      "metadata": {
        "id": "xwGb4zxbNjp8"
      },
      "execution_count": null,
      "outputs": []
    },
    {
      "cell_type": "markdown",
      "source": [
        "## Top Tracks Analysis\n",
        "\n",
        "Compute the top tracks based on the number of times they appear in the dataset.\n",
        "\n",
        "- **Selecting Relevant Columns**: The code selects the 'track', 'artist', and 'album' columns from the DataFrame.\n",
        "- **Grouping and Aggregating**: It then groups the data by 'track', 'artist', and 'album', aggregating the counts of each combination.\n",
        "- **Sorting**: The data is sorted in descending order based on the count of listens.\n",
        "- **Displaying Top Tracks**: The code displays the top tracks, along with their respective artists and albums, showing the count of listens for each track.\n",
        "\n",
        "This analysis provides insights into the most frequently listened to tracks, considering both individual tracks and their associated artists and albums.\n"
      ],
      "metadata": {
        "id": "W5I7MrJyTPyY"
      }
    },
    {
      "cell_type": "code",
      "source": [
        "top_tracks = df_listenings.select('track', 'artist', 'album').groupby('track', 'artist', 'album').agg(count('*').alias('count')).orderBy('count', ascending=False).cache()\n",
        "top_tracks.show()"
      ],
      "metadata": {
        "colab": {
          "base_uri": "https://localhost:8080/"
        },
        "id": "u0W888NvS3SA",
        "outputId": "cb7956dd-3e62-478e-9b59-5a8ababe4f10"
      },
      "execution_count": null,
      "outputs": [
        {
          "output_type": "stream",
          "name": "stdout",
          "text": [
            "+--------------------+-----------------+--------------------+-----+\n",
            "|               track|           artist|               album|count|\n",
            "+--------------------+-----------------+--------------------+-----+\n",
            "|         Skinny Love|         Bon Iver|            For Emma| 2780|\n",
            "|               Sorry|    Justin Bieber|    Purpose (Deluxe)| 2555|\n",
            "|    Do I Wanna Know?|   Arctic Monkeys|                  AM| 2271|\n",
            "|            The Cave|   Mumford & Sons|        Sigh No More| 2250|\n",
            "|              A-Punk|  Vampire Weekend|     Vampire Weekend| 2047|\n",
            "|           Lush Life|     Zara Larsson|           Lush Life| 1984|\n",
            "|        Stressed Out|Twenty One Pilots|          Blurryface| 1939|\n",
            "|         Crystalised|           The xx|                  xx| 1923|\n",
            "|             Islands|           The xx|                  xx| 1923|\n",
            "|               Intro|           The xx|                  xx| 1893|\n",
            "|     Little Lion Man|   Mumford & Sons|        Sigh No More| 1892|\n",
            "|I Bet You Look Go...|   Arctic Monkeys|Whatever People S...| 1875|\n",
            "|       Love Yourself|    Justin Bieber|    Purpose (Deluxe)| 1874|\n",
            "|        Breezeblocks|            alt-J|     An Awesome Wave| 1846|\n",
            "|     Misery Business|         Paramore|               RIOT!| 1843|\n",
            "|    Someone Like You|            Adele|                  21| 1755|\n",
            "|       Mr Brightside|      The Killers|            Hot Fuss| 1733|\n",
            "|           R U Mine?|   Arctic Monkeys|                  AM| 1720|\n",
            "|          PILLOWTALK|             Zayn|          PILLOWTALK| 1700|\n",
            "|               Flume|         Bon Iver|            For Emma| 1683|\n",
            "+--------------------+-----------------+--------------------+-----+\n",
            "only showing top 20 rows\n",
            "\n"
          ]
        }
      ]
    },
    {
      "cell_type": "code",
      "source": [
        "top_tracks_save_path = '/content/drive/MyDrive/BDALabProject/Results/top_tracks.csv'\n",
        "\n",
        "top_tracks.toPandas().to_csv(top_tracks_save_path)"
      ],
      "metadata": {
        "id": "F5obDNlnT8b4"
      },
      "execution_count": null,
      "outputs": []
    },
    {
      "cell_type": "markdown",
      "source": [
        "Select the top 20 songs from the dataset."
      ],
      "metadata": {
        "id": "FI4tneqpFEwv"
      }
    },
    {
      "cell_type": "code",
      "source": [
        "top_20_rows = top_tracks.limit(10)\n",
        "\n",
        "top_20_rows.show()"
      ],
      "metadata": {
        "colab": {
          "base_uri": "https://localhost:8080/"
        },
        "id": "WYvecbP_z4_H",
        "outputId": "fd9d89ff-eda2-4b96-bf67-0a856884c7bc"
      },
      "execution_count": null,
      "outputs": [
        {
          "output_type": "stream",
          "name": "stdout",
          "text": [
            "+----------------+-----------------+----------------+-----+\n",
            "|           track|           artist|           album|count|\n",
            "+----------------+-----------------+----------------+-----+\n",
            "|     Skinny Love|         Bon Iver|        For Emma| 2780|\n",
            "|           Sorry|    Justin Bieber|Purpose (Deluxe)| 2555|\n",
            "|Do I Wanna Know?|   Arctic Monkeys|              AM| 2271|\n",
            "|        The Cave|   Mumford & Sons|    Sigh No More| 2250|\n",
            "|          A-Punk|  Vampire Weekend| Vampire Weekend| 2047|\n",
            "|       Lush Life|     Zara Larsson|       Lush Life| 1984|\n",
            "|    Stressed Out|Twenty One Pilots|      Blurryface| 1939|\n",
            "|     Crystalised|           The xx|              xx| 1923|\n",
            "|         Islands|           The xx|              xx| 1923|\n",
            "|           Intro|           The xx|              xx| 1893|\n",
            "+----------------+-----------------+----------------+-----+\n",
            "\n"
          ]
        }
      ]
    },
    {
      "cell_type": "markdown",
      "source": [
        "Plot the Top Songs against their Count"
      ],
      "metadata": {
        "id": "_cDPwYcaFQG-"
      }
    },
    {
      "cell_type": "code",
      "source": [
        "top_20_pd = top_20_rows.toPandas()\n",
        "\n",
        "plt.figure(figsize=(12, 6))\n",
        "plt.barh(top_20_pd['track'], top_20_pd['count'], color='skyblue')\n",
        "plt.xlabel(\"Counts\")\n",
        "plt.ylabel(\"Songs\")\n",
        "plt.title(\"Top 10 Songs Played\")\n",
        "plt.gca().invert_yaxis()\n",
        "\n",
        "plt.grid(axis='x', linestyle='--', alpha=0.6)\n",
        "plt.tight_layout()\n",
        "\n",
        "plt.show()"
      ],
      "metadata": {
        "colab": {
          "base_uri": "https://localhost:8080/",
          "height": 607
        },
        "id": "AO4QaiTq1FKu",
        "outputId": "fc9a0daa-a2d1-4b45-817a-f43dbc6db373"
      },
      "execution_count": null,
      "outputs": [
        {
          "output_type": "display_data",
          "data": {
            "text/plain": [
              "<Figure size 1200x600 with 1 Axes>"
            ],
            "image/png": "[encoded data removed]"
          },
          "metadata": {}
        }
      ]
    },
    {
      "cell_type": "markdown",
      "source": [
        "# Data Transformations"
      ],
      "metadata": {
        "id": "oCyctvx5p9ix"
      }
    },
    {
      "cell_type": "markdown",
      "source": [
        "## User-defined Function (UDF) Creation\n",
        "\n",
        "This code cell defines a user-defined function (UDF) named `combine_strings`.\n",
        "\n",
        "- **Function Definition**: The `combine_strings` function takes three input arguments (`col1`, `col2`, `col3`) and concatenates them using underscores.\n",
        "\n",
        "UDFs are useful for performing custom operations on DataFrame columns, extending the functionality of PySpark for specific use cases.\n"
      ],
      "metadata": {
        "id": "Z_A-KS2qqCU4"
      }
    },
    {
      "cell_type": "code",
      "source": [
        "def combine_strings(col1, col2, col3):\n",
        "  return \"_\".join([col1, col2, col3])\n",
        "\n",
        "combine_udf = udf(combine_strings, StringType())"
      ],
      "metadata": {
        "id": "8d0o-R7Qg6hE"
      },
      "execution_count": null,
      "outputs": []
    },
    {
      "cell_type": "markdown",
      "source": [
        "## Combining Track Information\n",
        "\n",
        "This code cell creates a new column named 'track_info' in the DataFrame `df_listenings`.\n",
        "\n",
        "- **Using UDF**: The `combine_udf` function is applied to combine the 'track', 'artist', and 'album' columns into a single string separated by underscores.\n",
        "\n",
        "This operation consolidates relevant information about each track into a single column, simplifying further analysis or processing.\n"
      ],
      "metadata": {
        "id": "dG8gGdSuHADR"
      }
    },
    {
      "cell_type": "code",
      "source": [
        "df_listenings = df_listenings.withColumn(\n",
        "    'track_info',\n",
        "    combine_udf(col('track'), col('artist'), col('album'))\n",
        ")\n",
        "\n",
        "df_listenings.show()"
      ],
      "metadata": {
        "colab": {
          "base_uri": "https://localhost:8080/"
        },
        "id": "dtOaFg4dhPS1",
        "outputId": "9fba8611-9f06-4294-8787-f75b5e7d5d5f"
      },
      "execution_count": null,
      "outputs": [
        {
          "output_type": "stream",
          "name": "stdout",
          "text": [
            "+-----------+--------------------+---------------+--------------------+--------------------+\n",
            "|    user_id|               track|         artist|               album|          track_info|\n",
            "+-----------+--------------------+---------------+--------------------+--------------------+\n",
            "|000Silenced|           Price Tag|       Jessie J|         Who You Are|Price Tag_Jessie ...|\n",
            "|000Silenced|Price Tag (Acoust...|       Jessie J|           Price Tag|Price Tag (Acoust...|\n",
            "|000Silenced|Be Mine! (Ballad ...|          Robyn|            Be Mine!|Be Mine! (Ballad ...|\n",
            "|000Silenced|            Acapella|          Kelis|            Acapella|Acapella_Kelis_Ac...|\n",
            "|000Silenced|   I'm Not Invisible|      The Tease|   I'm Not Invisible|I'm Not Invisible...|\n",
            "|000Silenced|Bounce (Feat NORE...|       MSTRKRFT|         Fist of God|Bounce (Feat NORE...|\n",
            "|000Silenced|Don't Stop The Mu...|        Rihanna|Addicted 2 Bassli...|Don't Stop The Mu...|\n",
            "|000Silenced|               ObZen|      Meshuggah|               ObZen|ObZen_Meshuggah_O...|\n",
            "|000Silenced|   Yama's Messengers|         Gojira|The Way of All Flesh|Yama's Messengers...|\n",
            "|000Silenced|On the Brink of E...|   Napalm Death|Time Waits For No...|On the Brink of E...|\n",
            "|000Silenced|On the Brink of E...|   Napalm Death|Time Waits For No...|On the Brink of E...|\n",
            "|000Silenced|        In Deference|   Napalm Death|      Smear Campaign|In Deference_Napa...|\n",
            "|000Silenced|      Post(?)organic|    Decapitated|Organic Hallucinosis|Post(?)organic_De...|\n",
            "|000Silenced|        Mind Feeders|   Dom & Roland| No Strings Attached|Mind Feeders_Dom ...|\n",
            "|000Silenced|Necrosadistic War...|Cannibal Corpse|                Kill|Necrosadistic War...|\n",
            "|000Silenced|     Dance All Night|   Dom & Roland|          Chronology|Dance All Night_D...|\n",
            "|000Silenced|          Late Night|   Dom & Roland|          Chronology|Late Night_Dom & ...|\n",
            "|000Silenced|          Freak Seen|   Dom & Roland|          Chronology|Freak Seen_Dom & ...|\n",
            "|000Silenced|Paradrenasite (Hi...|   Dom & Roland|          Chronology|Paradrenasite (Hi...|\n",
            "|000Silenced|               Rhino|   Dom & Roland|          Chronology|Rhino_Dom & Rolan...|\n",
            "+-----------+--------------------+---------------+--------------------+--------------------+\n",
            "only showing top 20 rows\n",
            "\n"
          ]
        }
      ]
    },
    {
      "cell_type": "markdown",
      "source": [
        "## Select User ID and Track Information\n",
        "\n",
        "Selects the 'user_id' and 'track_info' columns from the DataFrame `df_listenings`.\n",
        "\n",
        "- **Selecting Columns**: `df_listenings.select('user_id', 'track_info')` retains only the 'user_id' and 'track_info' columns.\n",
        "\n",
        "This operation prepares the data for further analysis or modeling, focusing on user-track interactions.\n"
      ],
      "metadata": {
        "id": "_IZPBQ3Rv7ne"
      }
    },
    {
      "cell_type": "code",
      "source": [
        "df_listenings = df_listenings.select('user_id', 'track_info').cache()\n",
        "df_listenings.show()"
      ],
      "metadata": {
        "colab": {
          "base_uri": "https://localhost:8080/"
        },
        "id": "UZvMWZEtl7oM",
        "outputId": "d3fc5629-986e-4093-fbb8-4bde7fe8353a"
      },
      "execution_count": null,
      "outputs": [
        {
          "output_type": "stream",
          "name": "stdout",
          "text": [
            "+-----------+--------------------+\n",
            "|    user_id|          track_info|\n",
            "+-----------+--------------------+\n",
            "|000Silenced|Price Tag_Jessie ...|\n",
            "|000Silenced|Price Tag (Acoust...|\n",
            "|000Silenced|Be Mine! (Ballad ...|\n",
            "|000Silenced|Acapella_Kelis_Ac...|\n",
            "|000Silenced|I'm Not Invisible...|\n",
            "|000Silenced|Bounce (Feat NORE...|\n",
            "|000Silenced|Don't Stop The Mu...|\n",
            "|000Silenced|ObZen_Meshuggah_O...|\n",
            "|000Silenced|Yama's Messengers...|\n",
            "|000Silenced|On the Brink of E...|\n",
            "|000Silenced|On the Brink of E...|\n",
            "|000Silenced|In Deference_Napa...|\n",
            "|000Silenced|Post(?)organic_De...|\n",
            "|000Silenced|Mind Feeders_Dom ...|\n",
            "|000Silenced|Necrosadistic War...|\n",
            "|000Silenced|Dance All Night_D...|\n",
            "|000Silenced|Late Night_Dom & ...|\n",
            "|000Silenced|Freak Seen_Dom & ...|\n",
            "|000Silenced|Paradrenasite (Hi...|\n",
            "|000Silenced|Rhino_Dom & Rolan...|\n",
            "+-----------+--------------------+\n",
            "only showing top 20 rows\n",
            "\n"
          ]
        }
      ]
    },
    {
      "cell_type": "markdown",
      "metadata": {
        "id": "cyf1XITGpMWV"
      },
      "source": [
        "## Aggregating User-Track Interactions\n",
        "\n",
        "Aggregate user-track interactions in the DataFrame `df_listenings`.\n",
        "\n",
        "- **Grouping and Aggregating**: It groups the data by 'user_id' and 'track_info', aggregating the counts of each user-track combination.\n",
        "- **Sorting**: The aggregated data is sorted by 'user_id'.\n",
        "\n",
        "This aggregation provides insights into user preferences and engagement with specific tracks, facilitating personalized recommendations or targeted analysis. This will prepare the data in the required format for the ALS Algorithm to be applied later.\n",
        "\n"
      ]
    },
    {
      "cell_type": "code",
      "metadata": {
        "id": "PeH7vYKEoyWa",
        "colab": {
          "base_uri": "https://localhost:8080/"
        },
        "outputId": "da5b3f55-dba5-4881-dea9-278ec1b30c77"
      },
      "source": [
        "df_listenings_agg = df_listenings.groupby('user_id', 'track_info').agg(count('*').alias('count')).orderBy('user_id').cache()\n",
        "df_listenings_agg.show()"
      ],
      "execution_count": null,
      "outputs": [
        {
          "output_type": "stream",
          "name": "stdout",
          "text": [
            "+-------+--------------------+-----+\n",
            "|user_id|          track_info|count|\n",
            "+-------+--------------------+-----+\n",
            "| --Seph|0040_Ólafur Arnal...|    1|\n",
            "| --Seph|Comment Te Dire A...|    1|\n",
            "| --Seph|Flashback (Eric P...|    1|\n",
            "| --Seph|Hey There Delilah...|    1|\n",
            "| --Seph|I Miss You_Kimya ...|    1|\n",
            "| --Seph|Julia_Ludovico Ei...|    1|\n",
            "| --Seph|Jupiter_ the Brin...|    1|\n",
            "| --Seph|La fille aux chev...|    1|\n",
            "| --Seph|Monday_Ludovico E...|    1|\n",
            "| --Seph|Phantom Pt II_Jus...|    1|\n",
            "| --Seph|Reggae Merengue_T...|    1|\n",
            "| --Seph|Sea Lawn_Caspian_...|    1|\n",
            "| --Seph|Sunset Soon Forgo...|    1|\n",
            "| --Seph|Talk to Me_ Dance...|    1|\n",
            "| --Seph|The Nuclear Famil...|    2|\n",
            "| --Seph|These Days_Nico_T...|    3|\n",
            "| --Seph|Virus (Luke Fair ...|    1|\n",
            "| --Seph|Water Music_Georg...|    1|\n",
            "| --Seph|Winter '05_Ra Ra ...|    1|\n",
            "| --Seph|Zeppelin_Michael ...|    1|\n",
            "+-------+--------------------+-----+\n",
            "only showing top 20 rows\n",
            "\n"
          ]
        }
      ]
    },
    {
      "cell_type": "code",
      "metadata": {
        "id": "RhVz-SvapIyr",
        "outputId": "f2de4397-d915-4306-ee96-22c92bd5cc46",
        "colab": {
          "base_uri": "https://localhost:8080/"
        }
      },
      "source": [
        "row_count = df_listenings_agg.count()\n",
        "\n",
        "print('Number of unique data points: ', row_count)"
      ],
      "execution_count": null,
      "outputs": [
        {
          "output_type": "stream",
          "name": "stdout",
          "text": [
            "Number of unique data points:  9978026\n"
          ]
        }
      ]
    },
    {
      "cell_type": "markdown",
      "source": [
        "## Limiting Data Points for Analysis\n",
        "\n",
        "This code cell limits the number of data points in the aggregated DataFrame `df_listenings_agg` to 100,000.\n",
        "\n",
        "Limiting the number of data points is useful for managing computational resources and focusing analysis on a representative subset of the data.\n"
      ],
      "metadata": {
        "id": "ZZP68y9GHy4a"
      }
    },
    {
      "cell_type": "code",
      "metadata": {
        "id": "KsTXVsO7I7Jw"
      },
      "source": [
        "df_listenings_agg = df_listenings_agg.limit(100000)\n",
        "\n",
        "df_listenings_agg = df_listenings_agg.cache()"
      ],
      "execution_count": null,
      "outputs": []
    },
    {
      "cell_type": "markdown",
      "metadata": {
        "id": "bDihXe6dH7Xs"
      },
      "source": [
        "## Indexing Categorical Columns with StringIndexer and Pipeline\n",
        "\n",
        "Indexe categorical columns in the DataFrame `df_listenings_agg` using StringIndexer.\n",
        "\n",
        "- **Columns Requiring Indexing**: `cols_requiring_indexing = ['user_id', 'track_info']` specifies the columns to be indexed.\n",
        "- **Creating StringIndexer**: For each column, a StringIndexer is created with 'keep' strategy for handling invalid entries.\n",
        "- **Pipeline Construction**: A pipeline is constructed with the created StringIndexers.\n",
        "- **Fitting Pipeline**: `pipeline_model = pipeline.fit(df_listenings_agg)` fits the pipeline to the data.\n",
        "- **Transforming Data**: `data = pipeline_model.transform(df_listenings_agg).cache()` transforms the data using the fitted pipeline.\n",
        "\n",
        "Indexing categorical columns is essential for converting them into numerical representations, which is often required for machine learning algorithms.\n",
        "\n",
        "\n",
        "\n"
      ]
    },
    {
      "cell_type": "code",
      "metadata": {
        "id": "F9RSpj3DN6aX",
        "colab": {
          "base_uri": "https://localhost:8080/"
        },
        "outputId": "1b9422f9-8860-4979-d353-758b130550dd"
      },
      "source": [
        "cols_requiring_indexing = ['user_id', 'track_info']\n",
        "\n",
        "indexers = [StringIndexer(inputCol=col, outputCol=col+'_index').setHandleInvalid('keep') for col in cols_requiring_indexing]\n",
        "\n",
        "pipeline = Pipeline(stages=indexers)\n",
        "\n",
        "pipeline_model = pipeline.fit(df_listenings_agg)\n",
        "\n",
        "data = pipeline_model.transform(df_listenings_agg).cache()\n",
        "data.show()"
      ],
      "execution_count": null,
      "outputs": [
        {
          "output_type": "stream",
          "name": "stdout",
          "text": [
            "+-------+--------------------+-----+-------------+----------------+\n",
            "|user_id|          track_info|count|user_id_index|track_info_index|\n",
            "+-------+--------------------+-----+-------------+----------------+\n",
            "| --Seph|0040_Ólafur Arnal...|    1|        311.0|         10336.0|\n",
            "| --Seph|Comment Te Dire A...|    1|        311.0|         22714.0|\n",
            "| --Seph|Flashback (Eric P...|    1|        311.0|         30864.0|\n",
            "| --Seph|Hey There Delilah...|    1|        311.0|          5726.0|\n",
            "| --Seph|I Miss You_Kimya ...|    1|        311.0|         38783.0|\n",
            "| --Seph|Julia_Ludovico Ei...|    1|        311.0|         42700.0|\n",
            "| --Seph|Jupiter_ the Brin...|    1|        311.0|         42818.0|\n",
            "| --Seph|La fille aux chev...|    1|        311.0|         44193.0|\n",
            "| --Seph|Monday_Ludovico E...|    1|        311.0|         49928.0|\n",
            "| --Seph|Phantom Pt II_Jus...|    1|        311.0|         56307.0|\n",
            "| --Seph|Reggae Merengue_T...|    1|        311.0|         59124.0|\n",
            "| --Seph|Sea Lawn_Caspian_...|    1|        311.0|          8058.0|\n",
            "| --Seph|Sunset Soon Forgo...|    1|        311.0|          8570.0|\n",
            "| --Seph|Talk to Me_ Dance...|    1|        311.0|         68728.0|\n",
            "| --Seph|The Nuclear Famil...|    2|        311.0|         71721.0|\n",
            "| --Seph|These Days_Nico_T...|    3|        311.0|         73345.0|\n",
            "| --Seph|Virus (Luke Fair ...|    1|        311.0|         77152.0|\n",
            "| --Seph|Water Music_Georg...|    1|        311.0|         78032.0|\n",
            "| --Seph|Winter '05_Ra Ra ...|    1|        311.0|         80369.0|\n",
            "| --Seph|Zeppelin_Michael ...|    1|        311.0|         82375.0|\n",
            "+-------+--------------------+-----+-------------+----------------+\n",
            "only showing top 20 rows\n",
            "\n"
          ]
        }
      ]
    },
    {
      "cell_type": "markdown",
      "source": [
        "Save the models if you need to work with it later on."
      ],
      "metadata": {
        "id": "Xol-msW6Idps"
      }
    },
    {
      "cell_type": "code",
      "source": [
        "save_path_string_indexer = '/content/drive/MyDrive/BDALabProject/Models/'\n",
        "\n",
        "for col, string_indexer in zip(cols_requiring_indexing, indexers):\n",
        "  string_indexer.save(save_path_string_indexer + col + '_indexer.parquet')"
      ],
      "metadata": {
        "id": "0UbX4AofV3gG"
      },
      "execution_count": null,
      "outputs": []
    },
    {
      "cell_type": "markdown",
      "source": [
        "## Selecting Indexed Columns\n",
        "\n",
        "This code cell selects indexed columns 'user_id_index', 'track_info_index', and the 'count' column from the DataFrame `data`.\n",
        "\n",
        "This operation prepares the data for further analysis or modeling, focusing on the indexed features and interaction counts.\n"
      ],
      "metadata": {
        "id": "Il8RH0tXIUrl"
      }
    },
    {
      "cell_type": "code",
      "metadata": {
        "id": "efL-hiR-q-AO",
        "colab": {
          "base_uri": "https://localhost:8080/"
        },
        "outputId": "ece5009f-8897-43b1-841e-6575e7028fa4"
      },
      "source": [
        "data = data.select('user_id_index', 'track_info_index', 'count').orderBy('user_id_index').cache()\n",
        "data.show()"
      ],
      "execution_count": null,
      "outputs": [
        {
          "output_type": "stream",
          "name": "stdout",
          "text": [
            "+-------------+----------------+-----+\n",
            "|user_id_index|track_info_index|count|\n",
            "+-------------+----------------+-----+\n",
            "|          0.0|         10301.0|    1|\n",
            "|          0.0|         12739.0|    1|\n",
            "|          0.0|         16142.0|    1|\n",
            "|          0.0|         17626.0|    1|\n",
            "|          0.0|         18522.0|    1|\n",
            "|          0.0|         18640.0|    1|\n",
            "|          0.0|          4479.0|    1|\n",
            "|          0.0|         23233.0|    1|\n",
            "|          0.0|         25952.0|    1|\n",
            "|          0.0|         26518.0|    1|\n",
            "|          0.0|          5042.0|    1|\n",
            "|          0.0|         31239.0|    1|\n",
            "|          0.0|         31588.0|    1|\n",
            "|          0.0|         31869.0|    1|\n",
            "|          0.0|         32340.0|    1|\n",
            "|          0.0|         34085.0|    1|\n",
            "|          0.0|         35281.0|    1|\n",
            "|          0.0|         36600.0|    1|\n",
            "|          0.0|         39230.0|    1|\n",
            "|          0.0|          6271.0|    1|\n",
            "+-------------+----------------+-----+\n",
            "only showing top 20 rows\n",
            "\n"
          ]
        }
      ]
    },
    {
      "cell_type": "markdown",
      "metadata": {
        "id": "IEwviAxXsHwN"
      },
      "source": [
        "## Splitting Data into Training and Testing Sets\n",
        "\n",
        "Split the DataFrame `data` into training and testing sets.\n",
        "\n",
        "- **Random Splitting**: `data.randomSplit([0.9, 0.1])` randomly splits the data into two sets with a 90:10 ratio for training and testing, respectively.\n",
        "- **Caching**: Both the training and testing sets are cached for faster access.\n",
        "\n",
        "- **Training Set**: `training` contains 90% of the data.\n",
        "- **Testing Set**: `testing` contains 10% of the data.\n",
        "\n",
        "Splitting the data into training and testing sets is essential for evaluating the performance of machine learning models and preventing overfitting.\n"
      ]
    },
    {
      "cell_type": "code",
      "metadata": {
        "id": "DRgu2p-PsYUw"
      },
      "source": [
        "(training, testing) = data.randomSplit([0.9, 0.1])\n",
        "\n",
        "training = training.cache()\n",
        "testing = testing.cache()"
      ],
      "execution_count": null,
      "outputs": []
    },
    {
      "cell_type": "markdown",
      "metadata": {
        "id": "M46wV6Gusdi5"
      },
      "source": [
        "## Training ALS Model\n",
        "\n",
        "This code cell trains an ALS (Alternating Least Squares) model using the training data.\n",
        "\n",
        "- **Model Configuration**: `ALS(maxIter=5, regParam=0.01, userCol=USERID, itemCol=TRACK, ratingCol=COUNT)` configures the ALS model with parameters such as maximum number of iterations (`maxIter`), regularization parameter (`regParam`), and columns for user, item, and ratings.\n",
        "- **Fitting Model**: `model = als.fit(training)` fits the ALS model to the training data.\n",
        "\n",
        "Training an ALS model involves learning latent factors for users and items from the interaction data, which can then be used to make personalized recommendations.\n"
      ]
    },
    {
      "cell_type": "code",
      "metadata": {
        "id": "bwPk25M3sfRu"
      },
      "source": [
        "USERID = 'user_id_index'\n",
        "TRACK = 'track_info_index'\n",
        "COUNT = 'count'\n",
        "\n",
        "als = ALS(maxIter=5, regParam=0.01, userCol=USERID, itemCol=TRACK, ratingCol=COUNT)\n",
        "model = als.fit(training)"
      ],
      "execution_count": null,
      "outputs": []
    },
    {
      "cell_type": "markdown",
      "source": [
        "Save Model to File"
      ],
      "metadata": {
        "id": "LdgClRtLXOE9"
      }
    },
    {
      "cell_type": "code",
      "source": [
        "model_save_path = '/content/drive/MyDrive/BDALabProject/Models/als_model.parquet'\n",
        "\n",
        "model.save(model_save_path)"
      ],
      "metadata": {
        "id": "D0vF49-FXGGp"
      },
      "execution_count": null,
      "outputs": []
    },
    {
      "cell_type": "markdown",
      "source": [
        "## Hyper Parameter Tuning to Find the Best Fit Model to Training Data"
      ],
      "metadata": {
        "id": "Cjunzu0uYFLf"
      }
    },
    {
      "cell_type": "code",
      "source": [
        "estimator = ALS(userCol=USERID, itemCol=TRACK, ratingCol=COUNT)"
      ],
      "metadata": {
        "id": "-J3OnI6FYFmk"
      },
      "execution_count": null,
      "outputs": []
    },
    {
      "cell_type": "code",
      "source": [
        "param_grid = ParamGridBuilder() \\\n",
        "    .addGrid(ALS.rank, [10, 20, 50, 100]) \\\n",
        "    .addGrid(ALS.maxIter, [5, 10, 20, 50]) \\\n",
        "    .addGrid(ALS.regParam, [0.01, 0.1, 1.0]) \\\n",
        "    .build()"
      ],
      "metadata": {
        "id": "jrLQaMpxYi8O"
      },
      "execution_count": null,
      "outputs": []
    },
    {
      "cell_type": "code",
      "source": [
        "evaluator = RegressionEvaluator(metricName=\"rmse\", labelCol=COUNT, predictionCol=\"prediction\")"
      ],
      "metadata": {
        "id": "qcF_ieH4YhCO"
      },
      "execution_count": null,
      "outputs": []
    },
    {
      "cell_type": "code",
      "source": [
        "cv = CrossValidator(\n",
        "    estimator=estimator,\n",
        "    estimatorParamMaps=param_grid,\n",
        "    evaluator=evaluator,\n",
        "    numFolds=3\n",
        ")\n",
        "\n",
        "model = cv.fit(training)"
      ],
      "metadata": {
        "id": "yyBd73JFYhEn"
      },
      "execution_count": null,
      "outputs": []
    },
    {
      "cell_type": "code",
      "source": [
        "best_model = model.bestModel"
      ],
      "metadata": {
        "id": "Bf5mJVZ7YhIA"
      },
      "execution_count": null,
      "outputs": []
    },
    {
      "cell_type": "code",
      "source": [
        "best_rank = best_model.getParam(\"rank\").value\n",
        "best_maxIter = best_model.getParam(\"maxIter\").value\n",
        "best_regParam = best_model.getParam(\"regParam\").value\n",
        "\n",
        "print(\"Best hyperparameters: Rank = {}, MaxIter = {}, RegParam = {}\".format(\n",
        "    best_rank, best_maxIter, best_regParam))"
      ],
      "metadata": {
        "id": "GSdrekuyYzTE"
      },
      "execution_count": null,
      "outputs": []
    },
    {
      "cell_type": "code",
      "source": [
        "best_model_save_path = '/content/drive/MyDrive/BDALabProject/Models/als_best_model.parquet'\n",
        "\n",
        "best_model.save(best_model_save_path)"
      ],
      "metadata": {
        "id": "R5-cZuCOY0I2"
      },
      "execution_count": null,
      "outputs": []
    },
    {
      "cell_type": "markdown",
      "metadata": {
        "id": "DtC3UU2sN9sj"
      },
      "source": [
        "## Making Predictions\n",
        "\n",
        "This code cell generates predictions using the trained ALS model on the testing data.\n",
        "\n",
        "- **Model Transformation**: `model.transform(testing)` applies the trained ALS model to the testing data, generating predictions.\n",
        "\n",
        "These predictions represent the estimated ratings that users would give to items (tracks) based on their historical interactions, facilitating the evaluation of the model's performance.\n"
      ]
    },
    {
      "cell_type": "code",
      "source": [
        "predictions = model.transform(testing)\n",
        "\n",
        "rmse = evaluator.evaluate(predictions)\n",
        "\n",
        "print(\"RMSE on testing set:\", rmse)"
      ],
      "metadata": {
        "id": "BNnfurbZY4EP"
      },
      "execution_count": null,
      "outputs": []
    },
    {
      "cell_type": "code",
      "source": [
        "predictions.na.drop().orderBy('prediction', ascending=False).show()"
      ],
      "metadata": {
        "id": "REpcar09XILv",
        "colab": {
          "base_uri": "https://localhost:8080/"
        },
        "outputId": "67140826-90b7-4618-e3e2-d82b8867d8e0"
      },
      "execution_count": null,
      "outputs": [
        {
          "output_type": "stream",
          "name": "stdout",
          "text": [
            "+-------------+----------------+-----+----------+\n",
            "|user_id_index|track_info_index|count|prediction|\n",
            "+-------------+----------------+-----+----------+\n",
            "|        396.0|          8774.0|    1| 24.804897|\n",
            "|         17.0|            21.0|    2| 7.5002065|\n",
            "|        481.0|          2682.0|    2|  5.154854|\n",
            "|        351.0|           122.0|    5| 5.0818167|\n",
            "|        505.0|           321.0|    1|  4.914898|\n",
            "|        143.0|           293.0|    1| 4.7177505|\n",
            "|        391.0|          1082.0|    1| 4.3436294|\n",
            "|        221.0|           142.0|    1|  3.921738|\n",
            "|        469.0|           589.0|    1| 3.8644288|\n",
            "|         31.0|            51.0|    1| 3.5142295|\n",
            "|        553.0|           639.0|    1| 3.4262812|\n",
            "|        494.0|          1088.0|    1| 3.4215662|\n",
            "|        723.0|           149.0|    5| 3.3853433|\n",
            "|        220.0|           702.0|    1|  3.346715|\n",
            "|        462.0|             3.0|    1| 3.2906518|\n",
            "|        357.0|           674.0|    3| 3.2850478|\n",
            "|        635.0|          8522.0|    3| 3.2459934|\n",
            "|         48.0|           172.0|    2| 3.2408943|\n",
            "|        605.0|          9383.0|    2| 3.1665463|\n",
            "|        186.0|          2585.0|    1| 3.1297216|\n",
            "+-------------+----------------+-----+----------+\n",
            "only showing top 20 rows\n",
            "\n"
          ]
        }
      ]
    },
    {
      "cell_type": "markdown",
      "metadata": {
        "id": "lqBkLowzsoj8"
      },
      "source": [
        "## Generating Recommendations\n",
        "\n",
        "Generate recommendations for all users using the trained ALS model.\n",
        "\n",
        "- **Recommendation Generation**: `model.recommendForAllUsers(10)` generates recommendations for each user, recommending 10 items (tracks) per user.\n",
        "\n",
        "These recommendations are based on the learned user and item factors from the ALS model and can be used to provide personalized recommendations to users.\n"
      ]
    },
    {
      "cell_type": "code",
      "metadata": {
        "id": "00mtv7XUsZGg",
        "colab": {
          "base_uri": "https://localhost:8080/"
        },
        "outputId": "71be2319-c043-44ef-ea6c-8cba2ea2b0b6"
      },
      "source": [
        "recs = model.recommendForAllUsers(10).cache()\n",
        "\n",
        "recs.show()"
      ],
      "execution_count": null,
      "outputs": [
        {
          "output_type": "stream",
          "name": "stdout",
          "text": [
            "+-------------+--------------------+\n",
            "|user_id_index|     recommendations|\n",
            "+-------------+--------------------+\n",
            "|          471|[{26772, 15.80940...|\n",
            "|          463|[{10100, 69.39462...|\n",
            "|          496|[{18288, 26.28860...|\n",
            "|          148|[{10100, 85.98897...|\n",
            "|          540|[{10100, 43.06785...|\n",
            "|          392|[{15320, 40.32162...|\n",
            "|          243|[{18288, 27.05423...|\n",
            "|          623|[{73763, 15.70791...|\n",
            "|          737|[{47877, 17.80417...|\n",
            "|           31|[{39179, 20.51527...|\n",
            "|          516|[{74205, 35.60665...|\n",
            "|          580|[{18288, 14.32968...|\n",
            "|          251|[{15320, 19.69755...|\n",
            "|          451|[{10100, 59.04345...|\n",
            "|           85|[{43704, 27.92037...|\n",
            "|          137|[{43704, 33.02311...|\n",
            "|           65|[{47483, 25.16848...|\n",
            "|          458|[{15320, 30.56639...|\n",
            "|          481|[{47877, 24.00361...|\n",
            "|           53|[{74205, 44.22038...|\n",
            "+-------------+--------------------+\n",
            "only showing top 20 rows\n",
            "\n"
          ]
        }
      ]
    },
    {
      "cell_type": "markdown",
      "source": [
        "## Viewing User Recommendations\n",
        "\n",
        "Retrieve recommendations for a random single user from the generated recommendations DataFrame.\n",
        "\n",
        "- **Retrieving User Recommendations**: `recs.take(1)` retrieves recommendations for the first user in the DataFrame.\n",
        "\n",
        "The recommendations for this user provide insights into the items (tracks) that the ALS model suggests they might be interested in based on their historical interactions and the learned user-item preferences.\n"
      ],
      "metadata": {
        "id": "Ur3cXGIH9qTh"
      }
    },
    {
      "cell_type": "code",
      "metadata": {
        "id": "stUaAoKpTgqT",
        "colab": {
          "base_uri": "https://localhost:8080/"
        },
        "outputId": "d27864b8-5beb-4679-f199-151acfb4d7db"
      },
      "source": [
        "user_recs = recs.take(1)\n",
        "\n",
        "user_recs"
      ],
      "execution_count": null,
      "outputs": [
        {
          "output_type": "execute_result",
          "data": {
            "text/plain": [
              "[Row(user_id_index=471, recommendations=[Row(track_info_index=26772, rating=15.80940055847168), Row(track_info_index=15320, rating=15.258801460266113), Row(track_info_index=18, rating=14.247913360595703), Row(track_info_index=73533, rating=10.86312484741211), Row(track_info_index=72335, rating=10.771251678466797), Row(track_info_index=8768, rating=10.74797534942627), Row(track_info_index=43897, rating=10.23143482208252), Row(track_info_index=76565, rating=9.28421688079834), Row(track_info_index=82072, rating=9.04973316192627), Row(track_info_index=9049, rating=8.283903121948242)])]"
            ]
          },
          "metadata": {},
          "execution_count": 31
        }
      ]
    },
    {
      "cell_type": "markdown",
      "source": [
        "Retrive the user id of the user for whom we randomly generated recommendations"
      ],
      "metadata": {
        "id": "fkMLjbpyKHSE"
      }
    },
    {
      "cell_type": "code",
      "source": [
        "user_id = user_recs[0].user_id_index"
      ],
      "metadata": {
        "id": "UU64Yzz0KOZ5"
      },
      "execution_count": null,
      "outputs": []
    },
    {
      "cell_type": "markdown",
      "source": [
        "## Converting Recommendations to DataFrame\n",
        "\n",
        "Converts the recommendations for a single user into a DataFrame.\n",
        "\n",
        "- **Extracting Recommendations**: The code retrieves recommendations for the user from the recommendations DataFrame.\n",
        "- **Creating Records**: It creates records containing track indices and corresponding ratings for the recommendations.\n",
        "- **Creating DataFrame**: `spark.createDataFrame(records, ['track_info_index', 'rating'])` creates a DataFrame from the records with columns 'track_info_index' and 'rating'.\n",
        "\n",
        "This DataFrame presents the recommended tracks for the user along with their associated ratings, aiding in understanding the relevance and potential interest of each recommended track.\n"
      ],
      "metadata": {
        "id": "cAX49xitJeRY"
      }
    },
    {
      "cell_type": "code",
      "source": [
        "records = [(row.track_info_index, row.rating) for row in user_recs[0].recommendations]\n",
        "\n",
        "user_recs_df = spark.createDataFrame(records, ['track_info_index', 'rating'])\n",
        "\n",
        "user_recs_df.show()"
      ],
      "metadata": {
        "id": "MX70RpJs6DxG",
        "colab": {
          "base_uri": "https://localhost:8080/"
        },
        "outputId": "77762662-6184-41ed-83cb-4341ad95eabe"
      },
      "execution_count": null,
      "outputs": [
        {
          "output_type": "stream",
          "name": "stdout",
          "text": [
            "+----------------+------------------+\n",
            "|track_info_index|            rating|\n",
            "+----------------+------------------+\n",
            "|           26772| 15.80940055847168|\n",
            "|           15320|15.258801460266113|\n",
            "|              18|14.247913360595703|\n",
            "|           73533| 10.86312484741211|\n",
            "|           72335|10.771251678466797|\n",
            "|            8768| 10.74797534942627|\n",
            "|           43897| 10.23143482208252|\n",
            "|           76565|  9.28421688079834|\n",
            "|           82072|  9.04973316192627|\n",
            "|            9049| 8.283903121948242|\n",
            "+----------------+------------------+\n",
            "\n"
          ]
        }
      ]
    },
    {
      "cell_type": "markdown",
      "source": [
        "## Index to String Conversion\n",
        "\n",
        "Create an IndexToString transformer to convert indexed track information back to its original string representation.\n",
        "\n",
        "- **Creating IndexToString Transformer**: `IndexToString(inputCol=\"track_info_index\", outputCol=\"track_info\", labels=pipeline_model.stages[1].labels)` creates an IndexToString transformer.\n",
        "  - `inputCol=\"track_info_index\"` specifies the input column containing the indexed track information.\n",
        "  - `outputCol=\"track_info\"` specifies the output column where the converted track information will be stored.\n",
        "  - `labels=pipeline_model.stages[1].labels` provides the original labels (track names) to map the indexed values back to their original string representations.\n",
        "\n",
        "This transformer is useful for converting the indexed track information back to its original string form, making the recommendations more interpretable and user-friendly.\n"
      ],
      "metadata": {
        "id": "xyB1GQ4t5rc1"
      }
    },
    {
      "cell_type": "code",
      "source": [
        "indexer_inv = IndexToString(inputCol=\"track_info_index\", outputCol=\"track_info\", labels=pipeline_model.stages[1].labels)"
      ],
      "metadata": {
        "id": "AFD2G_cpd2hD"
      },
      "execution_count": null,
      "outputs": []
    },
    {
      "cell_type": "markdown",
      "source": [
        "## Filtering and Sorting User History Data\n",
        "\n",
        "We filter the training dataset (`training`) to extract user history data for a specific user, identified by their user ID index (`user_id`). We then sort this data by the count of interactions in descending order.\n"
      ],
      "metadata": {
        "id": "FKWkVD7VK4bE"
      }
    },
    {
      "cell_type": "code",
      "source": [
        "user_hist = training.filter(training.user_id_index == user_id).orderBy('count', ascending=False).cache()\n",
        "\n",
        "user_hist.show()"
      ],
      "metadata": {
        "colab": {
          "base_uri": "https://localhost:8080/"
        },
        "id": "RWzaNNzcwiNP",
        "outputId": "ba488d17-bb2b-4a42-d189-ab01e9d2d711"
      },
      "execution_count": null,
      "outputs": [
        {
          "output_type": "stream",
          "name": "stdout",
          "text": [
            "+-------------+----------------+-----+\n",
            "|user_id_index|track_info_index|count|\n",
            "+-------------+----------------+-----+\n",
            "|        471.0|         78727.0|    6|\n",
            "|        471.0|          3803.0|    4|\n",
            "|        471.0|            21.0|    3|\n",
            "|        471.0|           107.0|    3|\n",
            "|        471.0|           207.0|    3|\n",
            "|        471.0|           450.0|    3|\n",
            "|        471.0|          1262.0|    3|\n",
            "|        471.0|          5024.0|    3|\n",
            "|        471.0|          6330.0|    3|\n",
            "|        471.0|         21439.0|    3|\n",
            "|        471.0|         21963.0|    3|\n",
            "|        471.0|         34689.0|    3|\n",
            "|        471.0|         37288.0|    3|\n",
            "|        471.0|         42783.0|    3|\n",
            "|        471.0|         52113.0|    3|\n",
            "|        471.0|         67831.0|    3|\n",
            "|        471.0|         73819.0|    3|\n",
            "|        471.0|         78647.0|    3|\n",
            "|        471.0|         80131.0|    3|\n",
            "|        471.0|             5.0|    2|\n",
            "+-------------+----------------+-----+\n",
            "only showing top 20 rows\n",
            "\n"
          ]
        }
      ]
    },
    {
      "cell_type": "markdown",
      "source": [
        "## Converting Indexed Tracks to Original Names\n",
        "\n",
        "Use the `IndexToString` transformer to convert indexed track information back to its original string representation.\n",
        "\n",
        "- **Applying IndexToString**: `indexer_inv.transform(name_of_df)` applies the `IndexToString` transformer to the DataFrame `name_of_df`, converting the indexed track information in the 'track_info_index' column to its original string representation in the 'track_info' column.\n",
        "\n",
        "This transformation ensures that the recommended tracks are presented in their original names, making them more understandable and user-friendly.\n"
      ],
      "metadata": {
        "id": "UBiKVtlnJslK"
      }
    },
    {
      "cell_type": "code",
      "source": [
        "user_recs_df = indexer_inv.transform(user_recs_df)\n",
        "\n",
        "user_recs_df.show()"
      ],
      "metadata": {
        "id": "PZbauziS66R6",
        "colab": {
          "base_uri": "https://localhost:8080/"
        },
        "outputId": "779def33-500c-4ece-a294-33a3c39af47e"
      },
      "execution_count": null,
      "outputs": [
        {
          "output_type": "stream",
          "name": "stdout",
          "text": [
            "+----------------+------------------+--------------------+\n",
            "|track_info_index|            rating|          track_info|\n",
            "+----------------+------------------+--------------------+\n",
            "|           26772| 15.80940055847168|Dooo It!_Miley Cy...|\n",
            "|           15320|15.258801460266113|Ave Maria_Beyoncé...|\n",
            "|              18|14.247913360595703|The Cave_Mumford ...|\n",
            "|           73533| 10.86312484741211|Thirsty Boots (Un...|\n",
            "|           72335|10.771251678466797|The Second Stone_...|\n",
            "|            8768| 10.74797534942627|The Boy Who Murde...|\n",
            "|           43897| 10.23143482208252|Kohala - Gurgling...|\n",
            "|           76565|  9.28421688079834|Unusual You_Britn...|\n",
            "|           82072|  9.04973316192627|Young Blood_Sophi...|\n",
            "|            9049| 8.283903121948242|The Waiting Room_...|\n",
            "+----------------+------------------+--------------------+\n",
            "\n"
          ]
        }
      ]
    },
    {
      "cell_type": "code",
      "source": [
        "user_hist = indexer_inv.transform(user_hist)\n",
        "\n",
        "user_hist.show()"
      ],
      "metadata": {
        "colab": {
          "base_uri": "https://localhost:8080/"
        },
        "id": "LWB40-jnxipU",
        "outputId": "b9e65e61-5a42-4853-fa1b-83aff48d7e9e"
      },
      "execution_count": null,
      "outputs": [
        {
          "output_type": "stream",
          "name": "stdout",
          "text": [
            "+-------------+----------------+-----+--------------------+\n",
            "|user_id_index|track_info_index|count|          track_info|\n",
            "+-------------+----------------+-----+--------------------+\n",
            "|        471.0|         78727.0|    6|Werkin' Girls_Ang...|\n",
            "|        471.0|          3803.0|    4|Arrow_Tegan and S...|\n",
            "|        471.0|            21.0|    3|Breezeblocks_alt-...|\n",
            "|        471.0|           107.0|    3|Roll Away Your St...|\n",
            "|        471.0|           207.0|    3|Tessellate_alt-J_...|\n",
            "|        471.0|           450.0|    3|Do You Want It Al...|\n",
            "|        471.0|          1262.0|    3|Small Bump_Ed She...|\n",
            "|        471.0|          5024.0|    3|Everything Is Alr...|\n",
            "|        471.0|          6330.0|    3|Keep Your Head Up...|\n",
            "|        471.0|         21439.0|    3|Chi (Need To Know...|\n",
            "|        471.0|         21963.0|    3|Cleaning Out My C...|\n",
            "|        471.0|         34689.0|    3|Gypsy Letters_Ang...|\n",
            "|        471.0|         37288.0|    3|Hot Like Fire_Ang...|\n",
            "|        471.0|         42783.0|    3|Jungle Fever ft K...|\n",
            "|        471.0|         52113.0|    3|New York_Angel Ha...|\n",
            "|        471.0|         67831.0|    3|Supreme_Angel Haz...|\n",
            "|        471.0|         73819.0|    3|This is Me_Angel ...|\n",
            "|        471.0|         78647.0|    3|Welcome Back Ride...|\n",
            "|        471.0|         80131.0|    3|Wicked Moon ft Ni...|\n",
            "|        471.0|             5.0|    2|Holocene_Bon Iver...|\n",
            "+-------------+----------------+-----+--------------------+\n",
            "only showing top 20 rows\n",
            "\n"
          ]
        }
      ]
    },
    {
      "cell_type": "markdown",
      "source": [
        "## Converting PySpark DataFrame to Pandas DataFrame\n",
        "\n",
        "Convert the PySpark DataFrames `user_hist_df` and `user_recs_df` containing to a Pandas DataFrame.\n",
        "\n",
        "- **Converting to Pandas**: `name_of_df.toPandas()` converts the PySpark DataFrame to a Pandas DataFrame.\n",
        "\n",
        "This conversion allows for easier manipulation, visualization, and further analysis using the rich functionality provided by Pandas.\n"
      ],
      "metadata": {
        "id": "wt2m98NEJ8Ca"
      }
    },
    {
      "cell_type": "code",
      "source": [
        "user_hist_pd = user_hist.toPandas()\n",
        "\n",
        "user_recs_pd = user_recs_df.toPandas()"
      ],
      "metadata": {
        "id": "obUyE0u5xtDl"
      },
      "execution_count": null,
      "outputs": []
    },
    {
      "cell_type": "markdown",
      "source": [
        "## Displaying Previous Previous History of User\n",
        "\n",
        "Prints the history for a specific user.\n",
        "\n",
        "This output displays the kind of songs that this user likes and loves listening to. Using this knowledge, we can match whether the recommendations from the ALS algorithm are similar to the user's history.\n"
      ],
      "metadata": {
        "id": "INEGhoIeMYOA"
      }
    },
    {
      "cell_type": "code",
      "source": [
        "print(f'User {user_id}\\'s History of Songs:')\n",
        "\n",
        "for i, row in user_hist_pd[:10].iterrows():\n",
        "  split_info = row['track_info'].split('_')\n",
        "  print(f'>>>\"{split_info[0]}\" by \"{split_info[1]}\" in \"{split_info[2]}\"')"
      ],
      "metadata": {
        "colab": {
          "base_uri": "https://localhost:8080/"
        },
        "id": "HMC8rTay0Usj",
        "outputId": "03cc2056-ca79-42a0-f410-13fb77ddc0cb"
      },
      "execution_count": null,
      "outputs": [
        {
          "output_type": "stream",
          "name": "stdout",
          "text": [
            "User 471's History of Songs:\n",
            ">>>\"Werkin' Girls\" by \"Angel Haze\" in \"Reservation\"\n",
            ">>>\"Arrow\" by \"Tegan and Sara\" in \"Sainthood\"\n",
            ">>>\"Breezeblocks\" by \"alt-J\" in \"An Awesome Wave\"\n",
            ">>>\"Roll Away Your Stone\" by \"Mumford & Sons\" in \"Sigh No More\"\n",
            ">>>\"Tessellate\" by \"alt-J\" in \"An Awesome Wave\"\n",
            ">>>\"Do You Want It All?\" by \"Two Door Cinema Club\" in \"Tourist History\"\n",
            ">>>\"Small Bump\" by \"Ed Sheeran\" in \"+\"\n",
            ">>>\"Everything Is Alright\" by \"Motion City Soundtrack\" in \"Commit This to Memory\"\n",
            ">>>\"Keep Your Head Up\" by \"Ben Howard\" in \"Every Kingdom\"\n",
            ">>>\"Chi (Need To Know)\" by \"Angel Haze\" in \"Reservation\"\n"
          ]
        }
      ]
    },
    {
      "cell_type": "markdown",
      "source": [
        "## Displaying User Recommendations\n",
        "\n",
        "Print the recommendations for a specific user.\n",
        "\n",
        "This output provides a user-friendly presentation of the recommended tracks for the specified user, including track name, artist, and album details."
      ],
      "metadata": {
        "id": "p7lVkIJVMWsP"
      }
    },
    {
      "cell_type": "code",
      "source": [
        "print('Recommendations for user', user_recs[0].user_id_index)\n",
        "\n",
        "for i, row in user_recs_pd.iterrows():\n",
        "  split_info = row['track_info'].split('_')\n",
        "  print(f'>>>\"{split_info[0]}\" by \"{split_info[1]}\" in \"{split_info[2]}\"')"
      ],
      "metadata": {
        "id": "eNy9u2RL7Ruk",
        "colab": {
          "base_uri": "https://localhost:8080/"
        },
        "outputId": "8c2e35db-52c9-4572-9271-7a2c0f3c5fd3"
      },
      "execution_count": null,
      "outputs": [
        {
          "output_type": "stream",
          "name": "stdout",
          "text": [
            "Recommendations for user 471\n",
            ">>>\"Dooo It!\" by \"Miley Cyrus\" in \"Мiley Cyrus And Her Dead Petz\"\n",
            ">>>\"Ave Maria\" by \"Beyoncé\" in \"I Am Sasha Fierce\"\n",
            ">>>\"The Cave\" by \"Mumford & Sons\" in \"Sigh No More\"\n",
            ">>>\"Thirsty Boots (Unreleased\" by \" Self Portrait)\" in \"Bob Dylan\"\n",
            ">>>\"The Second Stone\" by \"Epica\" in \"The Quantum Enigma\"\n",
            ">>>\"The Boy Who Murdered Love\" by \"Diana Vickers\" in \"Songs From the Tainted Cherry Tree\"\n",
            ">>>\"Kohala - Gurgling Stream for Sleep and Realax (White Noise Sounds for Baby Relaxation and Sleeping)\" by \"Baby Sleep Through the Night\" in \"Hawaiian Natural White Noise for Babies - Baby Sleep Aid with Relaxing Nature Sounds and Heart Beat Sound to Calm and Relax Your Baby\"\n",
            ">>>\"Unusual You\" by \"Britney Spears\" in \"Circus (Deluxe Version)\"\n",
            ">>>\"Young Blood\" by \"Sophie Ellis-Bextor\" in \"Wanderlust (Deluxe Wandermix Version)\"\n",
            ">>>\"The Waiting Room\" by \"We Are the Ocean\" in \"Go Now And Live\"\n"
          ]
        }
      ]
    },
    {
      "cell_type": "markdown",
      "source": [
        "Display the same recommendations using a bar plot with the names of recommended tracks mapped against the rating with which the algorithm believes the user would like."
      ],
      "metadata": {
        "id": "uas99KW8NNU9"
      }
    },
    {
      "cell_type": "code",
      "source": [
        "track_names = [row['track_info'].split('_')[0][:30] for i, row in user_recs_pd.iterrows()]\n",
        "ratings = [row['rating'] for i, row in user_recs_pd.iterrows()]\n",
        "\n",
        "plt.figure(figsize=(10, 4))\n",
        "plt.barh(track_names, ratings, color='skyblue')\n",
        "plt.xlabel('Rating Score (Higher = More Likely to Listen)')\n",
        "plt.ylabel('Song Title')\n",
        "plt.title('Song Recommendations')\n",
        "plt.gca().invert_yaxis()\n",
        "\n",
        "plt.grid(axis='x', linestyle='--', alpha=0.6)\n",
        "plt.tight_layout()\n",
        "\n",
        "plt.show()"
      ],
      "metadata": {
        "id": "fdaSc6o67TnK",
        "colab": {
          "base_uri": "https://localhost:8080/",
          "height": 407
        },
        "outputId": "890aae3e-fd40-4b77-8e44-9118aafdadfa"
      },
      "execution_count": null,
      "outputs": [
        {
          "output_type": "display_data",
          "data": {
            "text/plain": [
              "<Figure size 1000x400 with 1 Axes>"
            ],
            "image/png": "[encoded data removed]"
          },
          "metadata": {}
        }
      ]
    },
    {
      "cell_type": "markdown",
      "source": [
        "## Thank You"
      ],
      "metadata": {
        "id": "9uDkFzcBaZsb"
      }
    }
  ]
}